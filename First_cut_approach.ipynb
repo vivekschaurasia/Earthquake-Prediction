{
  "nbformat": 4,
  "nbformat_minor": 0,
  "metadata": {
    "colab": {
      "provenance": [],
      "collapsed_sections": [],
      "machine_shape": "hm"
    },
    "kernelspec": {
      "name": "python3",
      "display_name": "Python 3"
    },
    "language_info": {
      "name": "python"
    },
    "accelerator": "GPU"
  },
  "cells": [
    {
      "cell_type": "code",
      "execution_count": 1,
      "metadata": {
        "id": "560qWeqUMoUy",
        "colab": {
          "base_uri": "https://localhost:8080/",
          "height": 93
        },
        "outputId": "99285527-a4c6-4102-e737-da7ca13cba06"
      },
      "outputs": [
        {
          "output_type": "display_data",
          "data": {
            "text/plain": [
              "<IPython.core.display.HTML object>"
            ],
            "text/html": [
              "\n",
              "     <input type=\"file\" id=\"files-8d17c2ec-a03e-493c-b4ea-dec3b06b200f\" name=\"files[]\" multiple disabled\n",
              "        style=\"border:none\" />\n",
              "     <output id=\"result-8d17c2ec-a03e-493c-b4ea-dec3b06b200f\">\n",
              "      Upload widget is only available when the cell has been executed in the\n",
              "      current browser session. Please rerun this cell to enable.\n",
              "      </output>\n",
              "      <script>// Copyright 2017 Google LLC\n",
              "//\n",
              "// Licensed under the Apache License, Version 2.0 (the \"License\");\n",
              "// you may not use this file except in compliance with the License.\n",
              "// You may obtain a copy of the License at\n",
              "//\n",
              "//      http://www.apache.org/licenses/LICENSE-2.0\n",
              "//\n",
              "// Unless required by applicable law or agreed to in writing, software\n",
              "// distributed under the License is distributed on an \"AS IS\" BASIS,\n",
              "// WITHOUT WARRANTIES OR CONDITIONS OF ANY KIND, either express or implied.\n",
              "// See the License for the specific language governing permissions and\n",
              "// limitations under the License.\n",
              "\n",
              "/**\n",
              " * @fileoverview Helpers for google.colab Python module.\n",
              " */\n",
              "(function(scope) {\n",
              "function span(text, styleAttributes = {}) {\n",
              "  const element = document.createElement('span');\n",
              "  element.textContent = text;\n",
              "  for (const key of Object.keys(styleAttributes)) {\n",
              "    element.style[key] = styleAttributes[key];\n",
              "  }\n",
              "  return element;\n",
              "}\n",
              "\n",
              "// Max number of bytes which will be uploaded at a time.\n",
              "const MAX_PAYLOAD_SIZE = 100 * 1024;\n",
              "\n",
              "function _uploadFiles(inputId, outputId) {\n",
              "  const steps = uploadFilesStep(inputId, outputId);\n",
              "  const outputElement = document.getElementById(outputId);\n",
              "  // Cache steps on the outputElement to make it available for the next call\n",
              "  // to uploadFilesContinue from Python.\n",
              "  outputElement.steps = steps;\n",
              "\n",
              "  return _uploadFilesContinue(outputId);\n",
              "}\n",
              "\n",
              "// This is roughly an async generator (not supported in the browser yet),\n",
              "// where there are multiple asynchronous steps and the Python side is going\n",
              "// to poll for completion of each step.\n",
              "// This uses a Promise to block the python side on completion of each step,\n",
              "// then passes the result of the previous step as the input to the next step.\n",
              "function _uploadFilesContinue(outputId) {\n",
              "  const outputElement = document.getElementById(outputId);\n",
              "  const steps = outputElement.steps;\n",
              "\n",
              "  const next = steps.next(outputElement.lastPromiseValue);\n",
              "  return Promise.resolve(next.value.promise).then((value) => {\n",
              "    // Cache the last promise value to make it available to the next\n",
              "    // step of the generator.\n",
              "    outputElement.lastPromiseValue = value;\n",
              "    return next.value.response;\n",
              "  });\n",
              "}\n",
              "\n",
              "/**\n",
              " * Generator function which is called between each async step of the upload\n",
              " * process.\n",
              " * @param {string} inputId Element ID of the input file picker element.\n",
              " * @param {string} outputId Element ID of the output display.\n",
              " * @return {!Iterable<!Object>} Iterable of next steps.\n",
              " */\n",
              "function* uploadFilesStep(inputId, outputId) {\n",
              "  const inputElement = document.getElementById(inputId);\n",
              "  inputElement.disabled = false;\n",
              "\n",
              "  const outputElement = document.getElementById(outputId);\n",
              "  outputElement.innerHTML = '';\n",
              "\n",
              "  const pickedPromise = new Promise((resolve) => {\n",
              "    inputElement.addEventListener('change', (e) => {\n",
              "      resolve(e.target.files);\n",
              "    });\n",
              "  });\n",
              "\n",
              "  const cancel = document.createElement('button');\n",
              "  inputElement.parentElement.appendChild(cancel);\n",
              "  cancel.textContent = 'Cancel upload';\n",
              "  const cancelPromise = new Promise((resolve) => {\n",
              "    cancel.onclick = () => {\n",
              "      resolve(null);\n",
              "    };\n",
              "  });\n",
              "\n",
              "  // Wait for the user to pick the files.\n",
              "  const files = yield {\n",
              "    promise: Promise.race([pickedPromise, cancelPromise]),\n",
              "    response: {\n",
              "      action: 'starting',\n",
              "    }\n",
              "  };\n",
              "\n",
              "  cancel.remove();\n",
              "\n",
              "  // Disable the input element since further picks are not allowed.\n",
              "  inputElement.disabled = true;\n",
              "\n",
              "  if (!files) {\n",
              "    return {\n",
              "      response: {\n",
              "        action: 'complete',\n",
              "      }\n",
              "    };\n",
              "  }\n",
              "\n",
              "  for (const file of files) {\n",
              "    const li = document.createElement('li');\n",
              "    li.append(span(file.name, {fontWeight: 'bold'}));\n",
              "    li.append(span(\n",
              "        `(${file.type || 'n/a'}) - ${file.size} bytes, ` +\n",
              "        `last modified: ${\n",
              "            file.lastModifiedDate ? file.lastModifiedDate.toLocaleDateString() :\n",
              "                                    'n/a'} - `));\n",
              "    const percent = span('0% done');\n",
              "    li.appendChild(percent);\n",
              "\n",
              "    outputElement.appendChild(li);\n",
              "\n",
              "    const fileDataPromise = new Promise((resolve) => {\n",
              "      const reader = new FileReader();\n",
              "      reader.onload = (e) => {\n",
              "        resolve(e.target.result);\n",
              "      };\n",
              "      reader.readAsArrayBuffer(file);\n",
              "    });\n",
              "    // Wait for the data to be ready.\n",
              "    let fileData = yield {\n",
              "      promise: fileDataPromise,\n",
              "      response: {\n",
              "        action: 'continue',\n",
              "      }\n",
              "    };\n",
              "\n",
              "    // Use a chunked sending to avoid message size limits. See b/62115660.\n",
              "    let position = 0;\n",
              "    do {\n",
              "      const length = Math.min(fileData.byteLength - position, MAX_PAYLOAD_SIZE);\n",
              "      const chunk = new Uint8Array(fileData, position, length);\n",
              "      position += length;\n",
              "\n",
              "      const base64 = btoa(String.fromCharCode.apply(null, chunk));\n",
              "      yield {\n",
              "        response: {\n",
              "          action: 'append',\n",
              "          file: file.name,\n",
              "          data: base64,\n",
              "        },\n",
              "      };\n",
              "\n",
              "      let percentDone = fileData.byteLength === 0 ?\n",
              "          100 :\n",
              "          Math.round((position / fileData.byteLength) * 100);\n",
              "      percent.textContent = `${percentDone}% done`;\n",
              "\n",
              "    } while (position < fileData.byteLength);\n",
              "  }\n",
              "\n",
              "  // All done.\n",
              "  yield {\n",
              "    response: {\n",
              "      action: 'complete',\n",
              "    }\n",
              "  };\n",
              "}\n",
              "\n",
              "scope.google = scope.google || {};\n",
              "scope.google.colab = scope.google.colab || {};\n",
              "scope.google.colab._files = {\n",
              "  _uploadFiles,\n",
              "  _uploadFilesContinue,\n",
              "};\n",
              "})(self);\n",
              "</script> "
            ]
          },
          "metadata": {}
        },
        {
          "output_type": "stream",
          "name": "stdout",
          "text": [
            "Saving kaggle.json to kaggle.json\n"
          ]
        },
        {
          "output_type": "execute_result",
          "data": {
            "text/plain": [
              "{'kaggle.json': b'{\"username\":\"vivekchaurasia69\",\"key\":\"663aeba89e7765c3cbfde4a9d04cd3ef\"}'}"
            ]
          },
          "metadata": {},
          "execution_count": 1
        }
      ],
      "source": [
        "from google.colab import files\n",
        "files.upload()"
      ]
    },
    {
      "cell_type": "code",
      "source": [
        "!mkdir -p ~/.kaggle\n",
        "!cp kaggle.json ~/.kaggle/\n",
        "!chmod 600 /root/.kaggle/kaggle.json"
      ],
      "metadata": {
        "id": "yyg0Jc19MtlZ"
      },
      "execution_count": 2,
      "outputs": []
    },
    {
      "cell_type": "code",
      "source": [
        "!kaggle competitions download -c LANL-Earthquake-Prediction"
      ],
      "metadata": {
        "id": "7aKeLc91M0NF",
        "colab": {
          "base_uri": "https://localhost:8080/"
        },
        "outputId": "7ca41282-34b2-4d16-ea76-051523438e46"
      },
      "execution_count": 3,
      "outputs": [
        {
          "output_type": "stream",
          "name": "stdout",
          "text": [
            "Downloading LANL-Earthquake-Prediction.zip to /content\n",
            "100% 2.27G/2.27G [00:59<00:00, 91.1MB/s]\n",
            "100% 2.27G/2.27G [00:59<00:00, 41.1MB/s]\n"
          ]
        }
      ]
    },
    {
      "cell_type": "code",
      "source": [
        "!unzip /content/LANL-Earthquake-Prediction.zip"
      ],
      "metadata": {
        "id": "XIFoDQSyM1ub",
        "colab": {
          "base_uri": "https://localhost:8080/"
        },
        "outputId": "c30682f1-1f39-4b9f-838c-bd7d570cdf25"
      },
      "execution_count": 4,
      "outputs": [
        {
          "output_type": "stream",
          "name": "stdout",
          "text": [
            "\n"
          ]
        }
      ]
    },
    {
      "cell_type": "code",
      "source": [],
      "metadata": {
        "id": "pLsaP6teNF2s"
      },
      "execution_count": null,
      "outputs": []
    },
    {
      "cell_type": "markdown",
      "source": [
        "##Loading the dataset\n"
      ],
      "metadata": {
        "id": "7NNkmGR_5dp1"
      }
    },
    {
      "cell_type": "code",
      "source": [
        "import pandas as pd\n",
        "import numpy as np\n",
        "import matplotlib.pyplot as plt\n",
        "import seaborn as sns\n",
        "import warnings\n",
        "warnings.filterwarnings(\"ignore\")\n",
        "from sklearn.linear_model import LinearRegression\n",
        "from scipy.stats import skew\n",
        "from scipy.stats import kurtosis\n",
        "from sklearn.model_selection import RandomizedSearchCV\n",
        "from sklearn import metrics\n",
        "from sklearn.neighbors import KNeighborsRegressor\n",
        "from matplotlib.pyplot import figure\n",
        "from sklearn.metrics import mean_absolute_error"
      ],
      "metadata": {
        "id": "nlyC_XyeNFzH"
      },
      "execution_count": 1,
      "outputs": []
    },
    {
      "cell_type": "code",
      "source": [
        "#df = pd.read_csv(\"train.csv\",nrows = 80000000)\n",
        "df =  pd.read_csv(\"train.csv\")\n",
        "df.head(2)"
      ],
      "metadata": {
        "id": "Po04fXKYNI7o",
        "colab": {
          "base_uri": "https://localhost:8080/",
          "height": 112
        },
        "outputId": "e95c2772-f9e1-4e17-d328-73be60c342f1"
      },
      "execution_count": 2,
      "outputs": [
        {
          "output_type": "execute_result",
          "data": {
            "text/plain": [
              "   acoustic_data  time_to_failure\n",
              "0             12           1.4691\n",
              "1              6           1.4691"
            ],
            "text/html": [
              "\n",
              "  <div id=\"df-11e3c3a4-d4d2-4cab-984f-a170b603f4e5\">\n",
              "    <div class=\"colab-df-container\">\n",
              "      <div>\n",
              "<style scoped>\n",
              "    .dataframe tbody tr th:only-of-type {\n",
              "        vertical-align: middle;\n",
              "    }\n",
              "\n",
              "    .dataframe tbody tr th {\n",
              "        vertical-align: top;\n",
              "    }\n",
              "\n",
              "    .dataframe thead th {\n",
              "        text-align: right;\n",
              "    }\n",
              "</style>\n",
              "<table border=\"1\" class=\"dataframe\">\n",
              "  <thead>\n",
              "    <tr style=\"text-align: right;\">\n",
              "      <th></th>\n",
              "      <th>acoustic_data</th>\n",
              "      <th>time_to_failure</th>\n",
              "    </tr>\n",
              "  </thead>\n",
              "  <tbody>\n",
              "    <tr>\n",
              "      <th>0</th>\n",
              "      <td>12</td>\n",
              "      <td>1.4691</td>\n",
              "    </tr>\n",
              "    <tr>\n",
              "      <th>1</th>\n",
              "      <td>6</td>\n",
              "      <td>1.4691</td>\n",
              "    </tr>\n",
              "  </tbody>\n",
              "</table>\n",
              "</div>\n",
              "      <button class=\"colab-df-convert\" onclick=\"convertToInteractive('df-11e3c3a4-d4d2-4cab-984f-a170b603f4e5')\"\n",
              "              title=\"Convert this dataframe to an interactive table.\"\n",
              "              style=\"display:none;\">\n",
              "        \n",
              "  <svg xmlns=\"http://www.w3.org/2000/svg\" height=\"24px\"viewBox=\"0 0 24 24\"\n",
              "       width=\"24px\">\n",
              "    <path d=\"M0 0h24v24H0V0z\" fill=\"none\"/>\n",
              "    <path d=\"M18.56 5.44l.94 2.06.94-2.06 2.06-.94-2.06-.94-.94-2.06-.94 2.06-2.06.94zm-11 1L8.5 8.5l.94-2.06 2.06-.94-2.06-.94L8.5 2.5l-.94 2.06-2.06.94zm10 10l.94 2.06.94-2.06 2.06-.94-2.06-.94-.94-2.06-.94 2.06-2.06.94z\"/><path d=\"M17.41 7.96l-1.37-1.37c-.4-.4-.92-.59-1.43-.59-.52 0-1.04.2-1.43.59L10.3 9.45l-7.72 7.72c-.78.78-.78 2.05 0 2.83L4 21.41c.39.39.9.59 1.41.59.51 0 1.02-.2 1.41-.59l7.78-7.78 2.81-2.81c.8-.78.8-2.07 0-2.86zM5.41 20L4 18.59l7.72-7.72 1.47 1.35L5.41 20z\"/>\n",
              "  </svg>\n",
              "      </button>\n",
              "      \n",
              "  <style>\n",
              "    .colab-df-container {\n",
              "      display:flex;\n",
              "      flex-wrap:wrap;\n",
              "      gap: 12px;\n",
              "    }\n",
              "\n",
              "    .colab-df-convert {\n",
              "      background-color: #E8F0FE;\n",
              "      border: none;\n",
              "      border-radius: 50%;\n",
              "      cursor: pointer;\n",
              "      display: none;\n",
              "      fill: #1967D2;\n",
              "      height: 32px;\n",
              "      padding: 0 0 0 0;\n",
              "      width: 32px;\n",
              "    }\n",
              "\n",
              "    .colab-df-convert:hover {\n",
              "      background-color: #E2EBFA;\n",
              "      box-shadow: 0px 1px 2px rgba(60, 64, 67, 0.3), 0px 1px 3px 1px rgba(60, 64, 67, 0.15);\n",
              "      fill: #174EA6;\n",
              "    }\n",
              "\n",
              "    [theme=dark] .colab-df-convert {\n",
              "      background-color: #3B4455;\n",
              "      fill: #D2E3FC;\n",
              "    }\n",
              "\n",
              "    [theme=dark] .colab-df-convert:hover {\n",
              "      background-color: #434B5C;\n",
              "      box-shadow: 0px 1px 3px 1px rgba(0, 0, 0, 0.15);\n",
              "      filter: drop-shadow(0px 1px 2px rgba(0, 0, 0, 0.3));\n",
              "      fill: #FFFFFF;\n",
              "    }\n",
              "  </style>\n",
              "\n",
              "      <script>\n",
              "        const buttonEl =\n",
              "          document.querySelector('#df-11e3c3a4-d4d2-4cab-984f-a170b603f4e5 button.colab-df-convert');\n",
              "        buttonEl.style.display =\n",
              "          google.colab.kernel.accessAllowed ? 'block' : 'none';\n",
              "\n",
              "        async function convertToInteractive(key) {\n",
              "          const element = document.querySelector('#df-11e3c3a4-d4d2-4cab-984f-a170b603f4e5');\n",
              "          const dataTable =\n",
              "            await google.colab.kernel.invokeFunction('convertToInteractive',\n",
              "                                                     [key], {});\n",
              "          if (!dataTable) return;\n",
              "\n",
              "          const docLinkHtml = 'Like what you see? Visit the ' +\n",
              "            '<a target=\"_blank\" href=https://colab.research.google.com/notebooks/data_table.ipynb>data table notebook</a>'\n",
              "            + ' to learn more about interactive tables.';\n",
              "          element.innerHTML = '';\n",
              "          dataTable['output_type'] = 'display_data';\n",
              "          await google.colab.output.renderOutput(dataTable, element);\n",
              "          const docLink = document.createElement('div');\n",
              "          docLink.innerHTML = docLinkHtml;\n",
              "          element.appendChild(docLink);\n",
              "        }\n",
              "      </script>\n",
              "    </div>\n",
              "  </div>\n",
              "  "
            ]
          },
          "metadata": {},
          "execution_count": 2
        }
      ]
    },
    {
      "cell_type": "code",
      "source": [
        "df.shape"
      ],
      "metadata": {
        "id": "rwpN4QsQNM1p",
        "colab": {
          "base_uri": "https://localhost:8080/"
        },
        "outputId": "e1ab5103-e254-4557-d4e7-444f239cc962"
      },
      "execution_count": 7,
      "outputs": [
        {
          "output_type": "execute_result",
          "data": {
            "text/plain": [
              "(629145480, 2)"
            ]
          },
          "metadata": {},
          "execution_count": 7
        }
      ]
    },
    {
      "cell_type": "code",
      "source": [
        "df.isnull().sum()"
      ],
      "metadata": {
        "id": "lMBLKMvKNRNO",
        "colab": {
          "base_uri": "https://localhost:8080/"
        },
        "outputId": "b8d10f86-f434-42c0-8bcc-4aed951a2999"
      },
      "execution_count": null,
      "outputs": [
        {
          "output_type": "execute_result",
          "data": {
            "text/plain": [
              "acoustic_data      0\n",
              "time_to_failure    0\n",
              "dtype: int64"
            ]
          },
          "metadata": {},
          "execution_count": 8
        }
      ]
    },
    {
      "cell_type": "markdown",
      "source": [
        "No null or NaN value found in acoustic_data column and time_to_failure\n"
      ],
      "metadata": {
        "id": "OltrblkyNU6k"
      }
    },
    {
      "cell_type": "code",
      "source": [],
      "metadata": {
        "id": "5pVhhfYNNXXg"
      },
      "execution_count": null,
      "outputs": []
    },
    {
      "cell_type": "markdown",
      "source": [
        "PDF of acoustic_data and time_to_failure"
      ],
      "metadata": {
        "id": "ONs1tjV15kAz"
      }
    },
    {
      "cell_type": "code",
      "source": [
        "plt.figure(figsize=(15,10))\n",
        "plt.title(\" Probability Distribution of Acoustic data\")\n",
        "sns.distplot(df[\"acoustic_data\"])"
      ],
      "metadata": {
        "id": "b2AUZd8INgRr",
        "colab": {
          "base_uri": "https://localhost:8080/",
          "height": 640
        },
        "outputId": "b66c7e39-8640-46de-a695-11116a045219"
      },
      "execution_count": null,
      "outputs": [
        {
          "output_type": "execute_result",
          "data": {
            "text/plain": [
              "<matplotlib.axes._subplots.AxesSubplot at 0x7f96ff8bcc10>"
            ]
          },
          "metadata": {},
          "execution_count": 9
        },
        {
          "output_type": "display_data",
          "data": {
            "text/plain": [
              "<Figure size 1080x720 with 1 Axes>"
            ],
            "image/png": "[encoded data removed]"
          },
          "metadata": {
            "needs_background": "light"
          }
        }
      ]
    },
    {
      "cell_type": "code",
      "source": [
        "plt.figure(figsize=(15,10))\n",
        "plt.title(\" Probability Distribution of Time to failure\")\n",
        "sns.distplot(df[\"time_to_failure\"])"
      ],
      "metadata": {
        "id": "dtilHqRINmBX",
        "colab": {
          "base_uri": "https://localhost:8080/",
          "height": 640
        },
        "outputId": "c5ee8c90-76eb-4dd4-f3e7-415c75a67c27"
      },
      "execution_count": null,
      "outputs": [
        {
          "output_type": "execute_result",
          "data": {
            "text/plain": [
              "<matplotlib.axes._subplots.AxesSubplot at 0x7f96fbf60a90>"
            ]
          },
          "metadata": {},
          "execution_count": 10
        },
        {
          "output_type": "display_data",
          "data": {
            "text/plain": [
              "<Figure size 1080x720 with 1 Axes>"
            ],
            "image/png": "[encoded data removed]"
          },
          "metadata": {
            "needs_background": "light"
          }
        }
      ]
    },
    {
      "cell_type": "code",
      "source": [],
      "metadata": {
        "id": "FPLBTbksN75t"
      },
      "execution_count": null,
      "outputs": []
    },
    {
      "cell_type": "code",
      "source": [],
      "metadata": {
        "id": "AodfPy5fN73g"
      },
      "execution_count": null,
      "outputs": []
    },
    {
      "cell_type": "markdown",
      "source": [
        "###Percentiles"
      ],
      "metadata": {
        "id": "4t6lychU586r"
      }
    },
    {
      "cell_type": "code",
      "execution_count": 8,
      "metadata": {
        "id": "RGodufg_uwMm",
        "colab": {
          "base_uri": "https://localhost:8080/"
        },
        "outputId": "061a6590-0141-473f-8c2b-432e53474862"
      },
      "outputs": [
        {
          "output_type": "stream",
          "name": "stdout",
          "text": [
            "Minimum value of acoustic data is :  -5515\n"
          ]
        }
      ],
      "source": [
        "print(\"Minimum value of acoustic data is : \" , min(df[\"acoustic_data\"]))"
      ]
    },
    {
      "cell_type": "code",
      "execution_count": 9,
      "metadata": {
        "id": "qjFnTaScuwKC",
        "colab": {
          "base_uri": "https://localhost:8080/"
        },
        "outputId": "f770c329-bf9b-4da9-cf9e-4624e3e501d7"
      },
      "outputs": [
        {
          "output_type": "stream",
          "name": "stdout",
          "text": [
            "Maximum value of acoustic data is :  5444\n"
          ]
        }
      ],
      "source": [
        "print(\"Maximum value of acoustic data is : \" , max(df[\"acoustic_data\"]))"
      ]
    },
    {
      "cell_type": "code",
      "execution_count": 10,
      "metadata": {
        "id": "ZrYYInb7vK2A",
        "colab": {
          "base_uri": "https://localhost:8080/"
        },
        "outputId": "f07ac4e0-1d29-43a2-83b3-01c3506f1c3b"
      },
      "outputs": [
        {
          "output_type": "stream",
          "name": "stdout",
          "text": [
            "Average value of acoustic data is :  4.519467573700124\n"
          ]
        }
      ],
      "source": [
        "print(\"Average value of acoustic data is : \" , df[\"acoustic_data\"].mean())"
      ]
    },
    {
      "cell_type": "code",
      "execution_count": 11,
      "metadata": {
        "id": "sql3Ddp_vMbA",
        "colab": {
          "base_uri": "https://localhost:8080/"
        },
        "outputId": "c3b042c5-7f5c-437c-ec4a-cfbe172a1a1e"
      },
      "outputs": [
        {
          "output_type": "stream",
          "name": "stdout",
          "text": [
            "Variance of acoustic data is :  115.25541014720227\n"
          ]
        }
      ],
      "source": [
        "print(\"Variance of acoustic data is : \" , df[\"acoustic_data\"].var())"
      ]
    },
    {
      "cell_type": "code",
      "execution_count": 12,
      "metadata": {
        "id": "3OYTmUf_vMXn",
        "colab": {
          "base_uri": "https://localhost:8080/"
        },
        "outputId": "0dd41957-c1f8-417d-d7f1-b0136913c303"
      },
      "outputs": [
        {
          "output_type": "stream",
          "name": "stdout",
          "text": [
            "Standard deviation of acoustic data is :  10.735707249510964\n"
          ]
        }
      ],
      "source": [
        "print(\"Standard deviation of acoustic data is : \" , df[\"acoustic_data\"].std())"
      ]
    },
    {
      "cell_type": "code",
      "source": [],
      "metadata": {
        "id": "C0_C6sofN_Xk"
      },
      "execution_count": null,
      "outputs": []
    },
    {
      "cell_type": "code",
      "source": [],
      "metadata": {
        "id": "aB7E7F_k6Abn"
      },
      "execution_count": null,
      "outputs": []
    },
    {
      "cell_type": "markdown",
      "source": [
        "##Finding outliers"
      ],
      "metadata": {
        "id": "cLlUGLK76BtP"
      }
    },
    {
      "cell_type": "code",
      "source": [
        "for i in range(0 , 105 , 5):\n",
        "  print(i , \"th percentile value is\" , df[\"acoustic_data\"].quantile(i/100))"
      ],
      "metadata": {
        "id": "z_IjL58KOCXY",
        "colab": {
          "base_uri": "https://localhost:8080/"
        },
        "outputId": "a07e1c0b-ebe4-4eae-beed-8b0b41d7fbf7"
      },
      "execution_count": 13,
      "outputs": [
        {
          "output_type": "stream",
          "name": "stdout",
          "text": [
            "0 th percentile value is -5515.0\n",
            "5 th percentile value is -2.0\n",
            "10 th percentile value is 0.0\n",
            "15 th percentile value is 1.0\n",
            "20 th percentile value is 2.0\n",
            "25 th percentile value is 2.0\n",
            "30 th percentile value is 3.0\n",
            "35 th percentile value is 3.0\n",
            "40 th percentile value is 4.0\n",
            "45 th percentile value is 4.0\n",
            "50 th percentile value is 5.0\n",
            "55 th percentile value is 5.0\n",
            "60 th percentile value is 5.0\n",
            "65 th percentile value is 6.0\n",
            "70 th percentile value is 6.0\n",
            "75 th percentile value is 7.0\n",
            "80 th percentile value is 7.0\n",
            "85 th percentile value is 8.0\n",
            "90 th percentile value is 9.0\n",
            "95 th percentile value is 11.0\n",
            "100 th percentile value is 5444.0\n"
          ]
        }
      ]
    },
    {
      "cell_type": "code",
      "source": [
        "for i in range(90 , 101):\n",
        "  print(i , \"th percentile value is\" , df[\"acoustic_data\"].quantile(i/100))"
      ],
      "metadata": {
        "id": "hnH0Q-O2OCmT",
        "colab": {
          "base_uri": "https://localhost:8080/"
        },
        "outputId": "df7fef44-d8da-4a4e-c54e-43fa8335aa3b"
      },
      "execution_count": 14,
      "outputs": [
        {
          "output_type": "stream",
          "name": "stdout",
          "text": [
            "90 th percentile value is 9.0\n",
            "91 th percentile value is 9.0\n",
            "92 th percentile value is 10.0\n",
            "93 th percentile value is 10.0\n",
            "94 th percentile value is 11.0\n",
            "95 th percentile value is 11.0\n",
            "96 th percentile value is 12.0\n",
            "97 th percentile value is 13.0\n",
            "98 th percentile value is 15.0\n",
            "99 th percentile value is 20.0\n",
            "100 th percentile value is 5444.0\n"
          ]
        }
      ]
    },
    {
      "cell_type": "code",
      "source": [
        "#https://www.edureka.co/community/47748/is-there-a-way-to-loop-between-0-and-1-by-0-1-in-python\n",
        "a = np.linspace(99,100,11)\n",
        "for i in a:\n",
        "  print(i , \"th percentile value is\" , df[\"acoustic_data\"].quantile(i/100))"
      ],
      "metadata": {
        "id": "9un9bfI3OEca",
        "colab": {
          "base_uri": "https://localhost:8080/"
        },
        "outputId": "7f588e63-f2a9-4fbd-8ce8-2a3db6c68159"
      },
      "execution_count": 15,
      "outputs": [
        {
          "output_type": "stream",
          "name": "stdout",
          "text": [
            "99.0 th percentile value is 20.0\n",
            "99.1 th percentile value is 21.0\n",
            "99.2 th percentile value is 22.0\n",
            "99.3 th percentile value is 24.0\n",
            "99.4 th percentile value is 25.0\n",
            "99.5 th percentile value is 28.0\n",
            "99.6 th percentile value is 31.0\n",
            "99.7 th percentile value is 35.0\n",
            "99.8 th percentile value is 42.0\n",
            "99.9 th percentile value is 56.0\n",
            "100.0 th percentile value is 5444.0\n"
          ]
        }
      ]
    },
    {
      "cell_type": "code",
      "source": [
        "a = np.linspace(0,3 , 20)\n",
        "for i in a:\n",
        "  print(round(i, 2) , \"th percentile value is\" , df[\"acoustic_data\"].quantile(i/100))"
      ],
      "metadata": {
        "id": "4vrVw3YzOGPP",
        "colab": {
          "base_uri": "https://localhost:8080/"
        },
        "outputId": "8fdb6692-cdd6-4034-cc52-e7839d58a6ca"
      },
      "execution_count": 4,
      "outputs": [
        {
          "output_type": "stream",
          "name": "stdout",
          "text": [
            "0.0 th percentile value is -5515.0\n",
            "0.16 th percentile value is -37.0\n",
            "0.32 th percentile value is -25.0\n",
            "0.47 th percentile value is -19.0\n",
            "0.63 th percentile value is -16.0\n",
            "0.79 th percentile value is -13.0\n",
            "0.95 th percentile value is -11.0\n",
            "1.11 th percentile value is -10.0\n",
            "1.26 th percentile value is -9.0\n",
            "1.42 th percentile value is -8.0\n",
            "1.58 th percentile value is -7.0\n",
            "1.74 th percentile value is -7.0\n",
            "1.89 th percentile value is -6.0\n",
            "2.05 th percentile value is -6.0\n",
            "2.21 th percentile value is -5.0\n",
            "2.37 th percentile value is -5.0\n",
            "2.53 th percentile value is -5.0\n",
            "2.68 th percentile value is -4.0\n",
            "2.84 th percentile value is -4.0\n",
            "3.0 th percentile value is -4.0\n"
          ]
        }
      ]
    },
    {
      "cell_type": "code",
      "source": [],
      "metadata": {
        "id": "u7DmeVXFZ6fC"
      },
      "execution_count": null,
      "outputs": []
    },
    {
      "cell_type": "markdown",
      "source": [
        "Removing outliers"
      ],
      "metadata": {
        "id": "B3_h-bgP6F7M"
      }
    },
    {
      "cell_type": "code",
      "source": [
        "dataframe = df[(df[\"acoustic_data\"] >-2.0) & (df[\"acoustic_data\"]<41.0)]"
      ],
      "metadata": {
        "id": "qliQfOjJPcJO"
      },
      "execution_count": null,
      "outputs": []
    },
    {
      "cell_type": "code",
      "source": [
        "dataframe.head(3)"
      ],
      "metadata": {
        "id": "XgKFNx-YPdqo"
      },
      "execution_count": null,
      "outputs": []
    },
    {
      "cell_type": "code",
      "source": [
        "dataframe.shape"
      ],
      "metadata": {
        "id": "Ca4OEYLLPfU2",
        "colab": {
          "base_uri": "https://localhost:8080/"
        },
        "outputId": "c0e637b7-fe91-4663-9bd6-592f43c4419b"
      },
      "execution_count": null,
      "outputs": [
        {
          "output_type": "execute_result",
          "data": {
            "text/plain": [
              "(75419585, 2)"
            ]
          },
          "metadata": {},
          "execution_count": 15
        }
      ]
    },
    {
      "cell_type": "code",
      "source": [],
      "metadata": {
        "id": "oaKnUvpnPk_W"
      },
      "execution_count": null,
      "outputs": []
    },
    {
      "cell_type": "code",
      "source": [],
      "metadata": {
        "id": "xYF24DRbPloV"
      },
      "execution_count": null,
      "outputs": []
    },
    {
      "cell_type": "code",
      "source": [],
      "metadata": {
        "id": "79gbDInQPsEE"
      },
      "execution_count": null,
      "outputs": []
    },
    {
      "cell_type": "markdown",
      "source": [
        "#Adding features"
      ],
      "metadata": {
        "id": "thxRn63l6J_0"
      }
    },
    {
      "cell_type": "code",
      "source": [
        "def feat(x):\n",
        "    features = {}\n",
        "    features['Mean'] = x.mean()\n",
        "    features['Std'] = x.std()\n",
        "    features['max value'] = x.max()\n",
        "    features['min value'] = x.min()\n",
        "    features['kurtosis']  = x.kurtosis()\n",
        "    features['skew'] = x.skew()\n",
        "\n",
        "    return features\n"
      ],
      "metadata": {
        "id": "_geAe5TtPsAr"
      },
      "execution_count": null,
      "outputs": []
    },
    {
      "cell_type": "code",
      "source": [
        "from tqdm import tqdm\n",
        "rows = 150000\n",
        "feature = []\n",
        "y = []\n",
        "for i in tqdm(range(int(np.floor(dataframe.shape[0] / rows)))):\n",
        "    \n",
        "    x = dataframe.iloc[i*rows :i*rows + rows]\n",
        "    y.append(x.time_to_failure.values[-1])\n",
        "    \n",
        "    feature.append(feat(x[\"acoustic_data\"]))\n",
        "feat = pd.DataFrame(feature)"
      ],
      "metadata": {
        "id": "BajYkRQuP65M"
      },
      "execution_count": null,
      "outputs": []
    },
    {
      "cell_type": "code",
      "source": [
        "feat.head(2)"
      ],
      "metadata": {
        "id": "sr-a3G9pQDf5"
      },
      "execution_count": null,
      "outputs": []
    },
    {
      "cell_type": "code",
      "source": [
        "feat['time_to_failure'] = y"
      ],
      "metadata": {
        "id": "2cyqhPMdkaoU"
      },
      "execution_count": null,
      "outputs": []
    },
    {
      "cell_type": "code",
      "source": [
        "feat.head()"
      ],
      "metadata": {
        "id": "wbiCphoTj022",
        "colab": {
          "base_uri": "https://localhost:8080/",
          "height": 206
        },
        "outputId": "9d277e59-24c7-4fbc-9a71-8a6d3f6fdb9b"
      },
      "execution_count": null,
      "outputs": [
        {
          "output_type": "execute_result",
          "data": {
            "text/plain": [
              "       Mean       Std  max value  min value  kurtosis      skew  \\\n",
              "0  5.439073  3.811995         40         -1  7.402524  1.614704   \n",
              "1  5.441407  4.099468         40         -1  9.412674  2.000150   \n",
              "2  5.754020  4.411222         40         -1  9.459090  2.123984   \n",
              "3  5.522100  3.981573         40         -1  9.008754  1.883339   \n",
              "4  5.636153  4.162226         40         -1  9.996978  2.074935   \n",
              "\n",
              "   time_to_failure  \n",
              "0         1.428697  \n",
              "1         1.386100  \n",
              "2         1.344698  \n",
              "3         1.303198  \n",
              "4         1.261698  "
            ],
            "text/html": [
              "\n",
              "  <div id=\"df-4813ca5d-2313-45e2-987a-1c24327f43c7\">\n",
              "    <div class=\"colab-df-container\">\n",
              "      <div>\n",
              "<style scoped>\n",
              "    .dataframe tbody tr th:only-of-type {\n",
              "        vertical-align: middle;\n",
              "    }\n",
              "\n",
              "    .dataframe tbody tr th {\n",
              "        vertical-align: top;\n",
              "    }\n",
              "\n",
              "    .dataframe thead th {\n",
              "        text-align: right;\n",
              "    }\n",
              "</style>\n",
              "<table border=\"1\" class=\"dataframe\">\n",
              "  <thead>\n",
              "    <tr style=\"text-align: right;\">\n",
              "      <th></th>\n",
              "      <th>Mean</th>\n",
              "      <th>Std</th>\n",
              "      <th>max value</th>\n",
              "      <th>min value</th>\n",
              "      <th>kurtosis</th>\n",
              "      <th>skew</th>\n",
              "      <th>time_to_failure</th>\n",
              "    </tr>\n",
              "  </thead>\n",
              "  <tbody>\n",
              "    <tr>\n",
              "      <th>0</th>\n",
              "      <td>5.439073</td>\n",
              "      <td>3.811995</td>\n",
              "      <td>40</td>\n",
              "      <td>-1</td>\n",
              "      <td>7.402524</td>\n",
              "      <td>1.614704</td>\n",
              "      <td>1.428697</td>\n",
              "    </tr>\n",
              "    <tr>\n",
              "      <th>1</th>\n",
              "      <td>5.441407</td>\n",
              "      <td>4.099468</td>\n",
              "      <td>40</td>\n",
              "      <td>-1</td>\n",
              "      <td>9.412674</td>\n",
              "      <td>2.000150</td>\n",
              "      <td>1.386100</td>\n",
              "    </tr>\n",
              "    <tr>\n",
              "      <th>2</th>\n",
              "      <td>5.754020</td>\n",
              "      <td>4.411222</td>\n",
              "      <td>40</td>\n",
              "      <td>-1</td>\n",
              "      <td>9.459090</td>\n",
              "      <td>2.123984</td>\n",
              "      <td>1.344698</td>\n",
              "    </tr>\n",
              "    <tr>\n",
              "      <th>3</th>\n",
              "      <td>5.522100</td>\n",
              "      <td>3.981573</td>\n",
              "      <td>40</td>\n",
              "      <td>-1</td>\n",
              "      <td>9.008754</td>\n",
              "      <td>1.883339</td>\n",
              "      <td>1.303198</td>\n",
              "    </tr>\n",
              "    <tr>\n",
              "      <th>4</th>\n",
              "      <td>5.636153</td>\n",
              "      <td>4.162226</td>\n",
              "      <td>40</td>\n",
              "      <td>-1</td>\n",
              "      <td>9.996978</td>\n",
              "      <td>2.074935</td>\n",
              "      <td>1.261698</td>\n",
              "    </tr>\n",
              "  </tbody>\n",
              "</table>\n",
              "</div>\n",
              "      <button class=\"colab-df-convert\" onclick=\"convertToInteractive('df-4813ca5d-2313-45e2-987a-1c24327f43c7')\"\n",
              "              title=\"Convert this dataframe to an interactive table.\"\n",
              "              style=\"display:none;\">\n",
              "        \n",
              "  <svg xmlns=\"http://www.w3.org/2000/svg\" height=\"24px\"viewBox=\"0 0 24 24\"\n",
              "       width=\"24px\">\n",
              "    <path d=\"M0 0h24v24H0V0z\" fill=\"none\"/>\n",
              "    <path d=\"M18.56 5.44l.94 2.06.94-2.06 2.06-.94-2.06-.94-.94-2.06-.94 2.06-2.06.94zm-11 1L8.5 8.5l.94-2.06 2.06-.94-2.06-.94L8.5 2.5l-.94 2.06-2.06.94zm10 10l.94 2.06.94-2.06 2.06-.94-2.06-.94-.94-2.06-.94 2.06-2.06.94z\"/><path d=\"M17.41 7.96l-1.37-1.37c-.4-.4-.92-.59-1.43-.59-.52 0-1.04.2-1.43.59L10.3 9.45l-7.72 7.72c-.78.78-.78 2.05 0 2.83L4 21.41c.39.39.9.59 1.41.59.51 0 1.02-.2 1.41-.59l7.78-7.78 2.81-2.81c.8-.78.8-2.07 0-2.86zM5.41 20L4 18.59l7.72-7.72 1.47 1.35L5.41 20z\"/>\n",
              "  </svg>\n",
              "      </button>\n",
              "      \n",
              "  <style>\n",
              "    .colab-df-container {\n",
              "      display:flex;\n",
              "      flex-wrap:wrap;\n",
              "      gap: 12px;\n",
              "    }\n",
              "\n",
              "    .colab-df-convert {\n",
              "      background-color: #E8F0FE;\n",
              "      border: none;\n",
              "      border-radius: 50%;\n",
              "      cursor: pointer;\n",
              "      display: none;\n",
              "      fill: #1967D2;\n",
              "      height: 32px;\n",
              "      padding: 0 0 0 0;\n",
              "      width: 32px;\n",
              "    }\n",
              "\n",
              "    .colab-df-convert:hover {\n",
              "      background-color: #E2EBFA;\n",
              "      box-shadow: 0px 1px 2px rgba(60, 64, 67, 0.3), 0px 1px 3px 1px rgba(60, 64, 67, 0.15);\n",
              "      fill: #174EA6;\n",
              "    }\n",
              "\n",
              "    [theme=dark] .colab-df-convert {\n",
              "      background-color: #3B4455;\n",
              "      fill: #D2E3FC;\n",
              "    }\n",
              "\n",
              "    [theme=dark] .colab-df-convert:hover {\n",
              "      background-color: #434B5C;\n",
              "      box-shadow: 0px 1px 3px 1px rgba(0, 0, 0, 0.15);\n",
              "      filter: drop-shadow(0px 1px 2px rgba(0, 0, 0, 0.3));\n",
              "      fill: #FFFFFF;\n",
              "    }\n",
              "  </style>\n",
              "\n",
              "      <script>\n",
              "        const buttonEl =\n",
              "          document.querySelector('#df-4813ca5d-2313-45e2-987a-1c24327f43c7 button.colab-df-convert');\n",
              "        buttonEl.style.display =\n",
              "          google.colab.kernel.accessAllowed ? 'block' : 'none';\n",
              "\n",
              "        async function convertToInteractive(key) {\n",
              "          const element = document.querySelector('#df-4813ca5d-2313-45e2-987a-1c24327f43c7');\n",
              "          const dataTable =\n",
              "            await google.colab.kernel.invokeFunction('convertToInteractive',\n",
              "                                                     [key], {});\n",
              "          if (!dataTable) return;\n",
              "\n",
              "          const docLinkHtml = 'Like what you see? Visit the ' +\n",
              "            '<a target=\"_blank\" href=https://colab.research.google.com/notebooks/data_table.ipynb>data table notebook</a>'\n",
              "            + ' to learn more about interactive tables.';\n",
              "          element.innerHTML = '';\n",
              "          dataTable['output_type'] = 'display_data';\n",
              "          await google.colab.output.renderOutput(dataTable, element);\n",
              "          const docLink = document.createElement('div');\n",
              "          docLink.innerHTML = docLinkHtml;\n",
              "          element.appendChild(docLink);\n",
              "        }\n",
              "      </script>\n",
              "    </div>\n",
              "  </div>\n",
              "  "
            ]
          },
          "metadata": {},
          "execution_count": 20
        }
      ]
    },
    {
      "cell_type": "code",
      "source": [
        "x = feat.iloc[ :  , : -1]\n",
        "y = feat.iloc[:  , -1 ]"
      ],
      "metadata": {
        "id": "kIvAsLijkGFw"
      },
      "execution_count": null,
      "outputs": []
    },
    {
      "cell_type": "code",
      "source": [
        "from sklearn.model_selection import train_test_split\n",
        "x_train, x_test, y_train, y_test = train_test_split(x,y,test_size = 0.10)"
      ],
      "metadata": {
        "id": "gsgrJdvjkmWJ"
      },
      "execution_count": null,
      "outputs": []
    },
    {
      "cell_type": "code",
      "source": [
        "from sklearn.preprocessing import StandardScaler\n",
        "scaler = StandardScaler()\n",
        "x_train = scaler.fit_transform(x_train )"
      ],
      "metadata": {
        "id": "8jcLwZ4Gks5J"
      },
      "execution_count": null,
      "outputs": []
    },
    {
      "cell_type": "code",
      "source": [
        "x_test = scaler.transform(x_test)"
      ],
      "metadata": {
        "id": "z0AeAb_DqEEj"
      },
      "execution_count": null,
      "outputs": []
    },
    {
      "cell_type": "code",
      "source": [],
      "metadata": {
        "id": "W0ZN-c4Rrp1p"
      },
      "execution_count": null,
      "outputs": []
    },
    {
      "cell_type": "markdown",
      "source": [
        "KNN"
      ],
      "metadata": {
        "id": "v8n5luPN6Sd3"
      }
    },
    {
      "cell_type": "code",
      "source": [
        "from sklearn.model_selection import GridSearchCV"
      ],
      "metadata": {
        "id": "L7rcjM1ys8jh"
      },
      "execution_count": null,
      "outputs": []
    },
    {
      "cell_type": "code",
      "source": [
        "n_neighbors = list(range(1,30 , 2))\n",
        "\n",
        "hyperparameters = dict(n_neighbors = n_neighbors)\n",
        "\n",
        "knn_2 = KNeighborsRegressor()\n",
        "#Use GridSearch\n",
        "clf = GridSearchCV(knn_2, hyperparameters, cv=10 , scoring='neg_mean_absolute_error')\n",
        "\n",
        "best_model = clf.fit(x_train,y_train)\n",
        "\n",
        "print('Best n_neighbors:', best_model.best_estimator_.get_params()['n_neighbors'])"
      ],
      "metadata": {
        "id": "nJn_4FcIs8gO"
      },
      "execution_count": null,
      "outputs": []
    },
    {
      "cell_type": "code",
      "source": [
        "clf = KNeighborsRegressor(n_neighbors = 7)\n",
        "clf.fit(x_train, y_train)"
      ],
      "metadata": {
        "id": "wX082QjCvigC",
        "colab": {
          "base_uri": "https://localhost:8080/"
        },
        "outputId": "5573e260-5a63-4ddf-a80d-b18479d9acf8"
      },
      "execution_count": null,
      "outputs": [
        {
          "output_type": "execute_result",
          "data": {
            "text/plain": [
              "KNeighborsRegressor(n_neighbors=7)"
            ]
          },
          "metadata": {},
          "execution_count": 27
        }
      ]
    },
    {
      "cell_type": "code",
      "source": [
        "pred_train = clf.predict(x_train)\n",
        "pred_test = clf.predict(x_test)"
      ],
      "metadata": {
        "id": "E2-QYIt8vqWJ"
      },
      "execution_count": null,
      "outputs": []
    },
    {
      "cell_type": "code",
      "source": [
        "print(mean_absolute_error(y_train, pred_train))\n",
        "mean_absolute_error(y_test, pred_test)"
      ],
      "metadata": {
        "id": "wnZgXuAUvyyI",
        "colab": {
          "base_uri": "https://localhost:8080/"
        },
        "outputId": "bfa943b4-4736-4ec1-c100-989ba7b4c913"
      },
      "execution_count": null,
      "outputs": [
        {
          "output_type": "stream",
          "name": "stdout",
          "text": [
            "1.6513597391227208\n"
          ]
        },
        {
          "output_type": "execute_result",
          "data": {
            "text/plain": [
              "2.32267305969109"
            ]
          },
          "metadata": {},
          "execution_count": 29
        }
      ]
    },
    {
      "cell_type": "code",
      "source": [],
      "metadata": {
        "id": "hAh_VKrQv415"
      },
      "execution_count": null,
      "outputs": []
    },
    {
      "cell_type": "code",
      "source": [],
      "metadata": {
        "id": "iXptvklUv96S"
      },
      "execution_count": null,
      "outputs": []
    },
    {
      "cell_type": "markdown",
      "source": [
        "Random forest"
      ],
      "metadata": {
        "id": "HvoFJCSI6Tkt"
      }
    },
    {
      "cell_type": "code",
      "source": [
        "from sklearn.ensemble import RandomForestRegressor\n",
        "reg  = RandomForestRegressor()\n",
        "params = { 'n_estimators': [10,50,200,500,1000], 'max_depth': [5,10,20,100,50] } \n",
        "clf = RandomizedSearchCV(reg, params, scoring='neg_mean_absolute_error') \n",
        "\n",
        "clf.fit(x_train, y_train)\n",
        "print(clf.best_params_)"
      ],
      "metadata": {
        "id": "YWovL3K9v924"
      },
      "execution_count": null,
      "outputs": []
    },
    {
      "cell_type": "code",
      "source": [
        "clf = RandomForestRegressor(max_depth = 5 ,n_estimators = 200 )\n",
        "clf.fit(x_train , y_train) "
      ],
      "metadata": {
        "id": "4phvTet5v905",
        "colab": {
          "base_uri": "https://localhost:8080/"
        },
        "outputId": "3b02d1d1-5c1d-43ae-bd56-b6acf96b6b2a"
      },
      "execution_count": null,
      "outputs": [
        {
          "output_type": "execute_result",
          "data": {
            "text/plain": [
              "RandomForestRegressor(max_depth=5, n_estimators=200)"
            ]
          },
          "metadata": {},
          "execution_count": 31
        }
      ]
    },
    {
      "cell_type": "code",
      "source": [
        "pred_train = clf.predict(x_train)\n",
        "pred_test = clf.predict(x_test)"
      ],
      "metadata": {
        "id": "hZVadqJowneH"
      },
      "execution_count": null,
      "outputs": []
    },
    {
      "cell_type": "code",
      "source": [
        "print(mean_absolute_error(y_train, pred_train))\n",
        "mean_absolute_error(y_test, pred_test)"
      ],
      "metadata": {
        "id": "Ko_66m3yws45",
        "colab": {
          "base_uri": "https://localhost:8080/"
        },
        "outputId": "fe7443c7-fe7d-49c6-fc46-354e5f54918b"
      },
      "execution_count": null,
      "outputs": [
        {
          "output_type": "stream",
          "name": "stdout",
          "text": [
            "1.416137439496546\n"
          ]
        },
        {
          "output_type": "execute_result",
          "data": {
            "text/plain": [
              "2.2533819233703163"
            ]
          },
          "metadata": {},
          "execution_count": 33
        }
      ]
    },
    {
      "cell_type": "code",
      "source": [],
      "metadata": {
        "id": "Sodj0EZDwuPP"
      },
      "execution_count": null,
      "outputs": []
    },
    {
      "cell_type": "markdown",
      "source": [
        "Random forest is better than KNN"
      ],
      "metadata": {
        "id": "X29wSFqhwvpZ"
      }
    }
  ]
}
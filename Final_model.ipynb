{
  "nbformat": 4,
  "nbformat_minor": 0,
  "metadata": {
    "colab": {
      "provenance": [],
      "collapsed_sections": []
    },
    "kernelspec": {
      "name": "python3",
      "display_name": "Python 3"
    },
    "language_info": {
      "name": "python"
    }
  },
  "cells": [
    {
      "cell_type": "code",
      "execution_count": null,
      "metadata": {
        "id": "EG67POPI_4CG"
      },
      "outputs": [],
      "source": [
        "from google.colab import files\n",
        "files.upload()"
      ]
    },
    {
      "cell_type": "code",
      "execution_count": null,
      "metadata": {
        "id": "AN4nZNYEAaG5"
      },
      "outputs": [],
      "source": [
        "!mkdir -p ~/.kaggle\n",
        "!cp kaggle.json ~/.kaggle/"
      ]
    },
    {
      "cell_type": "code",
      "execution_count": null,
      "metadata": {
        "id": "sL7fhpdIHPRi"
      },
      "outputs": [],
      "source": [
        "!chmod 600 /root/.kaggle/kaggle.json"
      ]
    },
    {
      "cell_type": "code",
      "execution_count": null,
      "metadata": {
        "id": "6cwrGmux_3-l"
      },
      "outputs": [],
      "source": [
        "!kaggle competitions download -c LANL-Earthquake-Prediction"
      ]
    },
    {
      "cell_type": "markdown",
      "metadata": {
        "id": "7S8ui4Bcql1K"
      },
      "source": [
        "Unzip the dataset"
      ]
    },
    {
      "cell_type": "code",
      "execution_count": null,
      "metadata": {
        "id": "XcIuALph_38e"
      },
      "outputs": [],
      "source": [
        "!unzip /content/LANL-Earthquake-Prediction.zip"
      ]
    },
    {
      "cell_type": "code",
      "execution_count": null,
      "metadata": {
        "id": "N3uMJILrsWqu"
      },
      "outputs": [],
      "source": [
        "import pandas as pd\n",
        "import numpy as np\n",
        "from scipy import stats\n",
        "from scipy.stats import skew\n",
        "from scipy.stats import kurtosis\n",
        "from numpy import cov\n",
        "from scipy.stats import pearsonr\n",
        "from scipy.stats import kurtosis , skew\n",
        "from sklearn.ensemble import GradientBoostingRegressor\n",
        "from sklearn.model_selection import train_test_split\n",
        "from sklearn.decomposition import PCA\n",
        "from sklearn.ensemble import RandomForestRegressor\n",
        "from sklearn.model_selection import RandomizedSearchCV\n",
        "from sklearn.preprocessing import StandardScaler\n",
        "import os\n",
        "from sklearn.model_selection import GridSearchCV\n",
        "import joblib\n",
        "from sklearn.metrics import mean_absolute_error"
      ]
    },
    {
      "cell_type": "code",
      "source": [
        "#Top 10 important features \n",
        "lst = ['2_Std300',\n",
        " '3_skew80',\n",
        " '2_min80',\n",
        " '3_skew300',\n",
        " '1_skew10',\n",
        " '2_Std80',\n",
        " '3_Mean10',\n",
        " '2_skew10',\n",
        " '2_min300',\n",
        " '2_90th precentile10']"
      ],
      "metadata": {
        "id": "Co58fxFe_KzR"
      },
      "execution_count": null,
      "outputs": []
    },
    {
      "cell_type": "code",
      "source": [
        "def fn1(df):\n",
        "  #outliers\n",
        "  dataframe = df[(df[\"acoustic_data\"] >-2.0) & (df[\"acoustic_data\"]<41.0)]\n",
        "\n",
        "  def feat_transform(x):\n",
        "    features = {}\n",
        "    features['Mean'] = x.mean()\n",
        "    features['Std'] = x.std()\n",
        "    features['kurtosis']  = x.kurtosis()\n",
        "    features['skew'] = x.skew()\n",
        "    features['min'] = x.min()\n",
        "    features['max'] = x.max()\n",
        "    features['median'] = x.median()\n",
        "    features[\"10th precentile\"] = np.percentile(x, 10)\n",
        "    features[\"50th precentile\"] = np.percentile(x, 50)\n",
        "    features[\"90th precentile\"] = np.percentile(x, 90)\n",
        "\n",
        "    for j in [10 , 80 , 300]:\n",
        "      me = x.rolling(j).mean().dropna()\n",
        "      features[\"1_Mean\" + str(j)] = me.mean()\n",
        "      features[\"1_Std\" + str(j)] = me.std()\n",
        "      features[\"1_kurtosis\" + str(j)] = kurtosis(me)\n",
        "      features[\"1_skew\" + str(j)] = skew(me)\n",
        "      features[\"1_min\" + str(j)] = me.min()\n",
        "      features[\"1_max\" + str(j)] = me.max()\n",
        "      features[\"1_median\" + str(j)] = me.median()\n",
        "      features[\"1_10th precentile\"+ str(j)] = np.percentile(me, 10)\n",
        "      features[\"1_50th precentile\"+ str(j)] = np.percentile(me, 50)\n",
        "      features[\"1_90th precentile\"+ str(j)] = np.percentile(me, 90)\n",
        "\n",
        "      st = x.rolling(j).std().dropna()\n",
        "      features[\"2_Mean\" + str(j)] = st.mean()\n",
        "      features[\"2_Std\" + str(j)] = st.std()\n",
        "      features[\"2_kurtosis\" + str(j)] = kurtosis(st)\n",
        "      features[\"2_skew\" + str(j)] = skew(st)\n",
        "      features[\"2_min\" + str(j)] = st.min()\n",
        "      features[\"2_max\" + str(j)] = st.max()\n",
        "      features[\"2_median\" + str(j)] = st.median()\n",
        "      features[\"2_10th precentile\"+ str(j)] = np.percentile(st, 10)\n",
        "      features[\"2_50th precentile\"+ str(j)] = np.percentile(st, 50)\n",
        "      features[\"2_90th precentile\"+ str(j)] = np.percentile(st, 90)\n",
        "\n",
        "\n",
        "      skewness = x.rolling(j).skew().dropna()\n",
        "      features[\"3_Mean\" + str(j)] = skewness.mean()\n",
        "      features[\"3_Std\" + str(j)] = skewness.std()\n",
        "      features[\"3_kurtosis\" + str(j)] = kurtosis(skewness)\n",
        "      features[\"3_skew\" + str(j)] = skew(skewness)\n",
        "      features[\"3_min\" + str(j)] = skewness.min()\n",
        "      features[\"3_max\" + str(j)] = skewness.max()\n",
        "      features[\"3_median\" + str(j)] = skewness.median()\n",
        "      features[\"3_10th precentile\"+ str(j)] = np.percentile(skewness, 10)\n",
        "      features[\"3_50th precentile\"+ str(j)] = np.percentile(skewness, 50)\n",
        "      features[\"3_90th precentile\"+ str(j)] = np.percentile(skewness, 90)\n",
        "    \n",
        "    return features \n",
        "  print(\"from tqdm import tqdm\")\n",
        "  from tqdm import tqdm\n",
        "  feature = []\n",
        "  y = []\n",
        "  for i in tqdm(range(int(dataframe.shape[0]/15000))):\n",
        "    x = dataframe.iloc[i*15000 :i*15000 + 15000]\n",
        "    y.append(x[\"time_to_failure\"].values[-1])\n",
        "    \n",
        "    feature.append(feat_transform(x[\"acoustic_data\"]))\n",
        "    feat = pd.DataFrame(feature)\n",
        "\n",
        "    feat[\"time_to_failure\"] = y\n",
        "\n",
        "  new_features = feat.loc[: , lst]\n",
        "  \n",
        "  x = new_features.iloc[: , :]\n",
        "\n",
        "  scalar = joblib.load('scalar.pkl')\n",
        "  x = scalar.transform(x)\n",
        "  \n",
        "   \n",
        "  knn_model = joblib.load('Knn.pkl')\n",
        "  RF_model = joblib.load('Forest.pkl')\n",
        "  XGB_model = joblib.load('RBG.pkl')\n",
        "\n",
        "  pred = (knn_model.predict(x) + RF_model.predict(x) + XGB_model.predict(x)) / 3\n",
        "  return pred , y\n"
      ],
      "metadata": {
        "id": "HBfRkIw-suTu"
      },
      "execution_count": null,
      "outputs": []
    },
    {
      "cell_type": "code",
      "source": [
        "df = pd.read_csv(\"train.csv\",nrows=10000000)"
      ],
      "metadata": {
        "id": "GiCicQastriu"
      },
      "execution_count": null,
      "outputs": []
    },
    {
      "cell_type": "code",
      "source": [
        "pred , y = fn1(df)"
      ],
      "metadata": {
        "colab": {
          "base_uri": "https://localhost:8080/"
        },
        "id": "qJJl3Frw1B9B",
        "outputId": "73cb92d8-cb79-454e-f629-639a05a60303"
      },
      "execution_count": null,
      "outputs": [
        {
          "output_type": "stream",
          "name": "stdout",
          "text": [
            "from tqdm import tqdm\n"
          ]
        },
        {
          "output_type": "stream",
          "name": "stderr",
          "text": [
            "100%|██████████| 630/630 [00:23<00:00, 27.18it/s]\n"
          ]
        }
      ]
    },
    {
      "cell_type": "code",
      "source": [
        "def fn2(df):\n",
        "  pred , y = fn1(df)\n",
        "  return mean_absolute_error(y, pred)\n"
      ],
      "metadata": {
        "id": "j4gLkBwr-cBk"
      },
      "execution_count": null,
      "outputs": []
    },
    {
      "cell_type": "code",
      "source": [
        "fn2(df)"
      ],
      "metadata": {
        "colab": {
          "base_uri": "https://localhost:8080/"
        },
        "id": "DTmODKU3-5Qj",
        "outputId": "d91102c8-1720-4170-a5a5-34b2e81ac8f6"
      },
      "execution_count": null,
      "outputs": [
        {
          "output_type": "stream",
          "name": "stdout",
          "text": [
            "from tqdm import tqdm\n"
          ]
        },
        {
          "output_type": "stream",
          "name": "stderr",
          "text": [
            "100%|██████████| 630/630 [00:23<00:00, 26.65it/s]\n"
          ]
        },
        {
          "output_type": "execute_result",
          "data": {
            "text/plain": [
              "2.5446473884224146"
            ]
          },
          "metadata": {},
          "execution_count": 7
        }
      ]
    },
    {
      "cell_type": "markdown",
      "source": [
        "#On test data"
      ],
      "metadata": {
        "id": "9r-obO5vHZ0I"
      }
    },
    {
      "cell_type": "code",
      "source": [
        "def fn1(df):\n",
        "  #outliers\n",
        "  dataframe = df[(df[\"acoustic_data\"] >-2.0) & (df[\"acoustic_data\"]<41.0)]\n",
        "\n",
        "  def feat_transform(x):\n",
        "    features = {}\n",
        "    features['Mean'] = x.mean()\n",
        "    features['Std'] = x.std()\n",
        "    features['kurtosis']  = x.kurtosis()\n",
        "    features['skew'] = x.skew()\n",
        "    features['min'] = x.min()\n",
        "    features['max'] = x.max()\n",
        "    features['median'] = x.median()\n",
        "    features[\"10th precentile\"] = np.percentile(x, 10)\n",
        "    features[\"50th precentile\"] = np.percentile(x, 50)\n",
        "    features[\"90th precentile\"] = np.percentile(x, 90)\n",
        "\n",
        "    for j in [10 , 80 , 300]:\n",
        "      me = x.rolling(j).mean().dropna()\n",
        "      features[\"1_Mean\" + str(j)] = me.mean()\n",
        "      features[\"1_Std\" + str(j)] = me.std()\n",
        "      features[\"1_kurtosis\" + str(j)] = kurtosis(me)\n",
        "      features[\"1_skew\" + str(j)] = skew(me)\n",
        "      features[\"1_min\" + str(j)] = me.min()\n",
        "      features[\"1_max\" + str(j)] = me.max()\n",
        "      features[\"1_median\" + str(j)] = me.median()\n",
        "      features[\"1_10th precentile\"+ str(j)] = np.percentile(me, 10)\n",
        "      features[\"1_50th precentile\"+ str(j)] = np.percentile(me, 50)\n",
        "      features[\"1_90th precentile\"+ str(j)] = np.percentile(me, 90)\n",
        "\n",
        "      st = x.rolling(j).std().dropna()\n",
        "      features[\"2_Mean\" + str(j)] = st.mean()\n",
        "      features[\"2_Std\" + str(j)] = st.std()\n",
        "      features[\"2_kurtosis\" + str(j)] = kurtosis(st)\n",
        "      features[\"2_skew\" + str(j)] = skew(st)\n",
        "      features[\"2_min\" + str(j)] = st.min()\n",
        "      features[\"2_max\" + str(j)] = st.max()\n",
        "      features[\"2_median\" + str(j)] = st.median()\n",
        "      features[\"2_10th precentile\"+ str(j)] = np.percentile(st, 10)\n",
        "      features[\"2_50th precentile\"+ str(j)] = np.percentile(st, 50)\n",
        "      features[\"2_90th precentile\"+ str(j)] = np.percentile(st, 90)\n",
        "\n",
        "\n",
        "      skewness = x.rolling(j).skew().dropna()\n",
        "      features[\"3_Mean\" + str(j)] = skewness.mean()\n",
        "      features[\"3_Std\" + str(j)] = skewness.std()\n",
        "      features[\"3_kurtosis\" + str(j)] = kurtosis(skewness)\n",
        "      features[\"3_skew\" + str(j)] = skew(skewness)\n",
        "      features[\"3_min\" + str(j)] = skewness.min()\n",
        "      features[\"3_max\" + str(j)] = skewness.max()\n",
        "      features[\"3_median\" + str(j)] = skewness.median()\n",
        "      features[\"3_10th precentile\"+ str(j)] = np.percentile(skewness, 10)\n",
        "      features[\"3_50th precentile\"+ str(j)] = np.percentile(skewness, 50)\n",
        "      features[\"3_90th precentile\"+ str(j)] = np.percentile(skewness, 90)\n",
        "    \n",
        "    return features \n",
        "\n",
        "  feature = feat_transform(dataframe)\n",
        "  feat = pd.DataFrame(feature)\n",
        "  new_features = feat.loc[: , lst]\n",
        "  \n",
        "  x = new_features.iloc[: , :]\n",
        "\n",
        "  scalar = joblib.load('scalar.pkl')\n",
        "  x = scalar.transform(x)\n",
        "  \n",
        "   \n",
        "  knn_model = joblib.load('Knn.pkl')\n",
        "  RF_model = joblib.load('Forest.pkl')\n",
        "  XGB_model = joblib.load('RBG.pkl')\n",
        "\n",
        "  pred = (knn_model.predict(x) + RF_model.predict(x) + XGB_model.predict(x)) / 3\n",
        "  return float(pred)\n"
      ],
      "metadata": {
        "id": "E3DUizN4HYWt"
      },
      "execution_count": null,
      "outputs": []
    },
    {
      "cell_type": "code",
      "source": [
        "os.listdir('/content/test')"
      ],
      "metadata": {
        "id": "Nq_DbiPlIEFW"
      },
      "execution_count": null,
      "outputs": []
    },
    {
      "cell_type": "code",
      "source": [
        "f = os.listdir('/content/test')"
      ],
      "metadata": {
        "id": "xX4yNbEbICjj"
      },
      "execution_count": null,
      "outputs": []
    },
    {
      "cell_type": "code",
      "source": [
        "len(f)"
      ],
      "metadata": {
        "colab": {
          "base_uri": "https://localhost:8080/"
        },
        "id": "9iPKGYa7Kj79",
        "outputId": "472e89f0-47cc-4891-a42b-58876f86d71a"
      },
      "execution_count": null,
      "outputs": [
        {
          "output_type": "execute_result",
          "data": {
            "text/plain": [
              "2624"
            ]
          },
          "metadata": {},
          "execution_count": 29
        }
      ]
    },
    {
      "cell_type": "code",
      "source": [
        "for i in f:\n",
        "  print(i.split(\".\")[0])\n",
        "  break"
      ],
      "metadata": {
        "colab": {
          "base_uri": "https://localhost:8080/"
        },
        "id": "LU7Z4t8aSrp8",
        "outputId": "86e2ee1e-d2c2-4334-847d-f6d87296f5e9"
      },
      "execution_count": null,
      "outputs": [
        {
          "output_type": "stream",
          "name": "stdout",
          "text": [
            "seg_37608b\n"
          ]
        }
      ]
    },
    {
      "cell_type": "code",
      "source": [],
      "metadata": {
        "id": "TztDsIoFS1dV"
      },
      "execution_count": null,
      "outputs": []
    },
    {
      "cell_type": "code",
      "source": [
        "x = pd.read_csv(\"/content/some_rows.csv\")\n",
        "p = fn1(x)\n"
      ],
      "metadata": {
        "id": "AAIrFZf9Or5-"
      },
      "execution_count": null,
      "outputs": []
    },
    {
      "cell_type": "code",
      "source": [
        "p"
      ],
      "metadata": {
        "id": "73WZd4pTO_rl",
        "outputId": "689c0ebe-41ee-4901-e1b7-b45ee60abdaa",
        "colab": {
          "base_uri": "https://localhost:8080/"
        }
      },
      "execution_count": null,
      "outputs": [
        {
          "output_type": "execute_result",
          "data": {
            "text/plain": [
              "6.2157251746065585"
            ]
          },
          "metadata": {},
          "execution_count": 5
        }
      ]
    },
    {
      "cell_type": "code",
      "source": [
        "file = []\n",
        "pred = []\n",
        "for i in f:\n",
        "    x = pd.read_csv('/content/test/' + i)\n",
        "    p = fn1(x)\n",
        "    pred.append(p)\n",
        "    file.append(i.split('.')[0])\n"
      ],
      "metadata": {
        "id": "iEry3PT7Htpp"
      },
      "execution_count": null,
      "outputs": []
    },
    {
      "cell_type": "code",
      "source": [
        "final_df = pd.DataFrame(list(zip(file, pred)),\n",
        "               columns =['seg_id', 'time_to_failure'])\n",
        "final_df.head(3)"
      ],
      "metadata": {
        "colab": {
          "base_uri": "https://localhost:8080/",
          "height": 143
        },
        "id": "7uadAzfSNncW",
        "outputId": "a1e8f756-7c56-460a-d1df-63af8d6dcecc"
      },
      "execution_count": null,
      "outputs": [
        {
          "output_type": "execute_result",
          "data": {
            "text/plain": [
              "       seg_id  time_to_failure\n",
              "0  seg_37608b         7.333508\n",
              "1  seg_827804         4.362303\n",
              "2  seg_c20c06         4.679721"
            ],
            "text/html": [
              "\n",
              "  <div id=\"df-28e0220f-5896-4b4d-85ad-8adfda7f5da5\">\n",
              "    <div class=\"colab-df-container\">\n",
              "      <div>\n",
              "<style scoped>\n",
              "    .dataframe tbody tr th:only-of-type {\n",
              "        vertical-align: middle;\n",
              "    }\n",
              "\n",
              "    .dataframe tbody tr th {\n",
              "        vertical-align: top;\n",
              "    }\n",
              "\n",
              "    .dataframe thead th {\n",
              "        text-align: right;\n",
              "    }\n",
              "</style>\n",
              "<table border=\"1\" class=\"dataframe\">\n",
              "  <thead>\n",
              "    <tr style=\"text-align: right;\">\n",
              "      <th></th>\n",
              "      <th>seg_id</th>\n",
              "      <th>time_to_failure</th>\n",
              "    </tr>\n",
              "  </thead>\n",
              "  <tbody>\n",
              "    <tr>\n",
              "      <th>0</th>\n",
              "      <td>seg_37608b</td>\n",
              "      <td>7.333508</td>\n",
              "    </tr>\n",
              "    <tr>\n",
              "      <th>1</th>\n",
              "      <td>seg_827804</td>\n",
              "      <td>4.362303</td>\n",
              "    </tr>\n",
              "    <tr>\n",
              "      <th>2</th>\n",
              "      <td>seg_c20c06</td>\n",
              "      <td>4.679721</td>\n",
              "    </tr>\n",
              "  </tbody>\n",
              "</table>\n",
              "</div>\n",
              "      <button class=\"colab-df-convert\" onclick=\"convertToInteractive('df-28e0220f-5896-4b4d-85ad-8adfda7f5da5')\"\n",
              "              title=\"Convert this dataframe to an interactive table.\"\n",
              "              style=\"display:none;\">\n",
              "        \n",
              "  <svg xmlns=\"http://www.w3.org/2000/svg\" height=\"24px\"viewBox=\"0 0 24 24\"\n",
              "       width=\"24px\">\n",
              "    <path d=\"M0 0h24v24H0V0z\" fill=\"none\"/>\n",
              "    <path d=\"M18.56 5.44l.94 2.06.94-2.06 2.06-.94-2.06-.94-.94-2.06-.94 2.06-2.06.94zm-11 1L8.5 8.5l.94-2.06 2.06-.94-2.06-.94L8.5 2.5l-.94 2.06-2.06.94zm10 10l.94 2.06.94-2.06 2.06-.94-2.06-.94-.94-2.06-.94 2.06-2.06.94z\"/><path d=\"M17.41 7.96l-1.37-1.37c-.4-.4-.92-.59-1.43-.59-.52 0-1.04.2-1.43.59L10.3 9.45l-7.72 7.72c-.78.78-.78 2.05 0 2.83L4 21.41c.39.39.9.59 1.41.59.51 0 1.02-.2 1.41-.59l7.78-7.78 2.81-2.81c.8-.78.8-2.07 0-2.86zM5.41 20L4 18.59l7.72-7.72 1.47 1.35L5.41 20z\"/>\n",
              "  </svg>\n",
              "      </button>\n",
              "      \n",
              "  <style>\n",
              "    .colab-df-container {\n",
              "      display:flex;\n",
              "      flex-wrap:wrap;\n",
              "      gap: 12px;\n",
              "    }\n",
              "\n",
              "    .colab-df-convert {\n",
              "      background-color: #E8F0FE;\n",
              "      border: none;\n",
              "      border-radius: 50%;\n",
              "      cursor: pointer;\n",
              "      display: none;\n",
              "      fill: #1967D2;\n",
              "      height: 32px;\n",
              "      padding: 0 0 0 0;\n",
              "      width: 32px;\n",
              "    }\n",
              "\n",
              "    .colab-df-convert:hover {\n",
              "      background-color: #E2EBFA;\n",
              "      box-shadow: 0px 1px 2px rgba(60, 64, 67, 0.3), 0px 1px 3px 1px rgba(60, 64, 67, 0.15);\n",
              "      fill: #174EA6;\n",
              "    }\n",
              "\n",
              "    [theme=dark] .colab-df-convert {\n",
              "      background-color: #3B4455;\n",
              "      fill: #D2E3FC;\n",
              "    }\n",
              "\n",
              "    [theme=dark] .colab-df-convert:hover {\n",
              "      background-color: #434B5C;\n",
              "      box-shadow: 0px 1px 3px 1px rgba(0, 0, 0, 0.15);\n",
              "      filter: drop-shadow(0px 1px 2px rgba(0, 0, 0, 0.3));\n",
              "      fill: #FFFFFF;\n",
              "    }\n",
              "  </style>\n",
              "\n",
              "      <script>\n",
              "        const buttonEl =\n",
              "          document.querySelector('#df-28e0220f-5896-4b4d-85ad-8adfda7f5da5 button.colab-df-convert');\n",
              "        buttonEl.style.display =\n",
              "          google.colab.kernel.accessAllowed ? 'block' : 'none';\n",
              "\n",
              "        async function convertToInteractive(key) {\n",
              "          const element = document.querySelector('#df-28e0220f-5896-4b4d-85ad-8adfda7f5da5');\n",
              "          const dataTable =\n",
              "            await google.colab.kernel.invokeFunction('convertToInteractive',\n",
              "                                                     [key], {});\n",
              "          if (!dataTable) return;\n",
              "\n",
              "          const docLinkHtml = 'Like what you see? Visit the ' +\n",
              "            '<a target=\"_blank\" href=https://colab.research.google.com/notebooks/data_table.ipynb>data table notebook</a>'\n",
              "            + ' to learn more about interactive tables.';\n",
              "          element.innerHTML = '';\n",
              "          dataTable['output_type'] = 'display_data';\n",
              "          await google.colab.output.renderOutput(dataTable, element);\n",
              "          const docLink = document.createElement('div');\n",
              "          docLink.innerHTML = docLinkHtml;\n",
              "          element.appendChild(docLink);\n",
              "        }\n",
              "      </script>\n",
              "    </div>\n",
              "  </div>\n",
              "  "
            ]
          },
          "metadata": {},
          "execution_count": 33
        }
      ]
    },
    {
      "cell_type": "code",
      "source": [
        "final_df.to_csv(\"Lanl_pred.csv\",index=False)"
      ],
      "metadata": {
        "id": "xlHPrRAeUB52"
      },
      "execution_count": null,
      "outputs": []
    },
    {
      "cell_type": "code",
      "source": [],
      "metadata": {
        "id": "8lajmpJLUEP0"
      },
      "execution_count": null,
      "outputs": []
    }
  ]
}
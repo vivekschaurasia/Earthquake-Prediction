{
  "cells": [
    {
      "cell_type": "markdown",
      "metadata": {
        "id": "8aQYZXj2pnp5"
      },
      "source": [
        "###Importing and Loading the data \n",
        "\n"
      ]
    },
    {
      "cell_type": "code",
      "execution_count": 1,
      "metadata": {
        "id": "TFK9Q9KjKjSn"
      },
      "outputs": [],
      "source": [
        "import pandas as pd\n",
        "import numpy as np\n",
        "from sklearn.model_selection import cross_val_score\n",
        "from sklearn.neighbors import KNeighborsRegressor\n",
        "from sklearn.decomposition import PCA\n",
        "from sklearn.metrics import mean_absolute_error\n",
        "import matplotlib.pyplot as plt\n",
        "from sklearn.ensemble import RandomForestRegressor\n",
        "from sklearn.model_selection import RandomizedSearchCV\n",
        "from sklearn.model_selection import train_test_split\n",
        "from sklearn.model_selection import validation_curve\n",
        "from sklearn.linear_model import LinearRegression, Ridge\n",
        "from statistics import mean\n",
        "from sklearn.preprocessing import StandardScaler\n",
        "from yellowbrick.model_selection import learning_curve\n",
        "from sklearn.model_selection import GridSearchCV\n",
        "from prettytable import PrettyTable\n",
        "import joblib"
      ]
    },
    {
      "cell_type": "code",
      "execution_count": null,
      "metadata": {
        "id": "az8EyWKOKlEt"
      },
      "outputs": [],
      "source": [
        "df = pd.read_csv(\"Lanl.csv\")"
      ]
    },
    {
      "cell_type": "code",
      "execution_count": null,
      "metadata": {
        "id": "BA8U0jQC-It-"
      },
      "outputs": [],
      "source": [
        "df = df.drop(\"Unnamed: 0\" , axis = 1)"
      ]
    },
    {
      "cell_type": "code",
      "execution_count": null,
      "metadata": {
        "colab": {
          "base_uri": "https://localhost:8080/"
        },
        "id": "vXXSR1IvKpHv",
        "outputId": "61af8694-949e-4679-a1cd-a9794f53cbbf"
      },
      "outputs": [
        {
          "output_type": "execute_result",
          "data": {
            "text/plain": [
              "(3958, 11)"
            ]
          },
          "metadata": {},
          "execution_count": 4
        }
      ],
      "source": [
        "df.shape"
      ]
    },
    {
      "cell_type": "code",
      "execution_count": null,
      "metadata": {
        "colab": {
          "base_uri": "https://localhost:8080/",
          "height": 81
        },
        "id": "5aJwiVoiaAx6",
        "outputId": "bb23873d-27ce-4a55-ff7b-32f7c15668d7"
      },
      "outputs": [
        {
          "output_type": "execute_result",
          "data": {
            "text/plain": [
              "   2_Std300  3_skew80   2_min80  3_skew300  1_skew10   2_Std80  3_Mean10  \\\n",
              "0   1.95718   0.84258  2.042236   1.854091  2.580269  1.939159  0.070303   \n",
              "\n",
              "   2_skew10  2_min300  2_90th precentile10  time_to_failure  \n",
              "0  2.577872  2.390699              5.80804           1.4649  "
            ],
            "text/html": [
              "\n",
              "  <div id=\"df-b448b893-671e-423e-ad2b-bede067dd32e\">\n",
              "    <div class=\"colab-df-container\">\n",
              "      <div>\n",
              "<style scoped>\n",
              "    .dataframe tbody tr th:only-of-type {\n",
              "        vertical-align: middle;\n",
              "    }\n",
              "\n",
              "    .dataframe tbody tr th {\n",
              "        vertical-align: top;\n",
              "    }\n",
              "\n",
              "    .dataframe thead th {\n",
              "        text-align: right;\n",
              "    }\n",
              "</style>\n",
              "<table border=\"1\" class=\"dataframe\">\n",
              "  <thead>\n",
              "    <tr style=\"text-align: right;\">\n",
              "      <th></th>\n",
              "      <th>2_Std300</th>\n",
              "      <th>3_skew80</th>\n",
              "      <th>2_min80</th>\n",
              "      <th>3_skew300</th>\n",
              "      <th>1_skew10</th>\n",
              "      <th>2_Std80</th>\n",
              "      <th>3_Mean10</th>\n",
              "      <th>2_skew10</th>\n",
              "      <th>2_min300</th>\n",
              "      <th>2_90th precentile10</th>\n",
              "      <th>time_to_failure</th>\n",
              "    </tr>\n",
              "  </thead>\n",
              "  <tbody>\n",
              "    <tr>\n",
              "      <th>0</th>\n",
              "      <td>1.95718</td>\n",
              "      <td>0.84258</td>\n",
              "      <td>2.042236</td>\n",
              "      <td>1.854091</td>\n",
              "      <td>2.580269</td>\n",
              "      <td>1.939159</td>\n",
              "      <td>0.070303</td>\n",
              "      <td>2.577872</td>\n",
              "      <td>2.390699</td>\n",
              "      <td>5.80804</td>\n",
              "      <td>1.4649</td>\n",
              "    </tr>\n",
              "  </tbody>\n",
              "</table>\n",
              "</div>\n",
              "      <button class=\"colab-df-convert\" onclick=\"convertToInteractive('df-b448b893-671e-423e-ad2b-bede067dd32e')\"\n",
              "              title=\"Convert this dataframe to an interactive table.\"\n",
              "              style=\"display:none;\">\n",
              "        \n",
              "  <svg xmlns=\"http://www.w3.org/2000/svg\" height=\"24px\"viewBox=\"0 0 24 24\"\n",
              "       width=\"24px\">\n",
              "    <path d=\"M0 0h24v24H0V0z\" fill=\"none\"/>\n",
              "    <path d=\"M18.56 5.44l.94 2.06.94-2.06 2.06-.94-2.06-.94-.94-2.06-.94 2.06-2.06.94zm-11 1L8.5 8.5l.94-2.06 2.06-.94-2.06-.94L8.5 2.5l-.94 2.06-2.06.94zm10 10l.94 2.06.94-2.06 2.06-.94-2.06-.94-.94-2.06-.94 2.06-2.06.94z\"/><path d=\"M17.41 7.96l-1.37-1.37c-.4-.4-.92-.59-1.43-.59-.52 0-1.04.2-1.43.59L10.3 9.45l-7.72 7.72c-.78.78-.78 2.05 0 2.83L4 21.41c.39.39.9.59 1.41.59.51 0 1.02-.2 1.41-.59l7.78-7.78 2.81-2.81c.8-.78.8-2.07 0-2.86zM5.41 20L4 18.59l7.72-7.72 1.47 1.35L5.41 20z\"/>\n",
              "  </svg>\n",
              "      </button>\n",
              "      \n",
              "  <style>\n",
              "    .colab-df-container {\n",
              "      display:flex;\n",
              "      flex-wrap:wrap;\n",
              "      gap: 12px;\n",
              "    }\n",
              "\n",
              "    .colab-df-convert {\n",
              "      background-color: #E8F0FE;\n",
              "      border: none;\n",
              "      border-radius: 50%;\n",
              "      cursor: pointer;\n",
              "      display: none;\n",
              "      fill: #1967D2;\n",
              "      height: 32px;\n",
              "      padding: 0 0 0 0;\n",
              "      width: 32px;\n",
              "    }\n",
              "\n",
              "    .colab-df-convert:hover {\n",
              "      background-color: #E2EBFA;\n",
              "      box-shadow: 0px 1px 2px rgba(60, 64, 67, 0.3), 0px 1px 3px 1px rgba(60, 64, 67, 0.15);\n",
              "      fill: #174EA6;\n",
              "    }\n",
              "\n",
              "    [theme=dark] .colab-df-convert {\n",
              "      background-color: #3B4455;\n",
              "      fill: #D2E3FC;\n",
              "    }\n",
              "\n",
              "    [theme=dark] .colab-df-convert:hover {\n",
              "      background-color: #434B5C;\n",
              "      box-shadow: 0px 1px 3px 1px rgba(0, 0, 0, 0.15);\n",
              "      filter: drop-shadow(0px 1px 2px rgba(0, 0, 0, 0.3));\n",
              "      fill: #FFFFFF;\n",
              "    }\n",
              "  </style>\n",
              "\n",
              "      <script>\n",
              "        const buttonEl =\n",
              "          document.querySelector('#df-b448b893-671e-423e-ad2b-bede067dd32e button.colab-df-convert');\n",
              "        buttonEl.style.display =\n",
              "          google.colab.kernel.accessAllowed ? 'block' : 'none';\n",
              "\n",
              "        async function convertToInteractive(key) {\n",
              "          const element = document.querySelector('#df-b448b893-671e-423e-ad2b-bede067dd32e');\n",
              "          const dataTable =\n",
              "            await google.colab.kernel.invokeFunction('convertToInteractive',\n",
              "                                                     [key], {});\n",
              "          if (!dataTable) return;\n",
              "\n",
              "          const docLinkHtml = 'Like what you see? Visit the ' +\n",
              "            '<a target=\"_blank\" href=https://colab.research.google.com/notebooks/data_table.ipynb>data table notebook</a>'\n",
              "            + ' to learn more about interactive tables.';\n",
              "          element.innerHTML = '';\n",
              "          dataTable['output_type'] = 'display_data';\n",
              "          await google.colab.output.renderOutput(dataTable, element);\n",
              "          const docLink = document.createElement('div');\n",
              "          docLink.innerHTML = docLinkHtml;\n",
              "          element.appendChild(docLink);\n",
              "        }\n",
              "      </script>\n",
              "    </div>\n",
              "  </div>\n",
              "  "
            ]
          },
          "metadata": {},
          "execution_count": 15
        }
      ],
      "source": [
        "df.head(1)"
      ]
    },
    {
      "cell_type": "code",
      "execution_count": null,
      "metadata": {
        "id": "6U3y5XOjKrF6"
      },
      "outputs": [],
      "source": [
        "x = df.iloc[: , :-1]\n",
        "y = df.iloc[: , -1]"
      ]
    },
    {
      "cell_type": "markdown",
      "source": [
        "#PCA"
      ],
      "metadata": {
        "id": "Ea9YDv5-hcTN"
      }
    },
    {
      "cell_type": "code",
      "source": [
        "pca = PCA(n_components = len(x.columns))\n",
        "pca.fit(x)"
      ],
      "metadata": {
        "colab": {
          "base_uri": "https://localhost:8080/"
        },
        "id": "P3QLfLzIVCx_",
        "outputId": "da1b5908-d55e-4430-c562-81cd22d50968"
      },
      "execution_count": null,
      "outputs": [
        {
          "output_type": "execute_result",
          "data": {
            "text/plain": [
              "PCA(n_components=10)"
            ]
          },
          "metadata": {},
          "execution_count": 17
        }
      ]
    },
    {
      "cell_type": "markdown",
      "source": [
        "Elbow method for number of components to chose for Pca."
      ],
      "metadata": {
        "id": "8MHg3QNahfZX"
      }
    },
    {
      "cell_type": "code",
      "source": [
        "plt.ylabel(\"Eigenvalues\")\n",
        "plt.xlabel(\"Number of features\")\n",
        "plt.title(\"PCA Eigenvalues\")\n",
        "plt.ylim(0 , max(pca.explained_variance_))\n",
        "plt.plot(pca.explained_variance_)\n",
        "plt.show()"
      ],
      "metadata": {
        "colab": {
          "base_uri": "https://localhost:8080/",
          "height": 376
        },
        "id": "hqIyt8eAVut9",
        "outputId": "e8eed6ed-b6dd-4e09-de1e-950f9d994865"
      },
      "execution_count": null,
      "outputs": [
        {
          "output_type": "display_data",
          "data": {
            "text/plain": [
              "<Figure size 576x396 with 1 Axes>"
            ],
            "image/png": "[encoded data removed]"
          },
          "metadata": {}
        }
      ]
    },
    {
      "cell_type": "markdown",
      "source": [
        "Kaiser rule"
      ],
      "metadata": {
        "id": "qQd4Wrvmhu98"
      }
    },
    {
      "cell_type": "code",
      "source": [
        "variance = pca.explained_variance_ratio_\n",
        "var = np.cumsum(np.round(pca.explained_variance_ratio_, decimals = 3)*100)\n",
        "\n",
        "plt.ylim(min(var), 100.5)\n",
        "plt.style.context(\"seaborn-whitegrid\")\n",
        "plt.plot(var)\n",
        "plt.show()"
      ],
      "metadata": {
        "colab": {
          "base_uri": "https://localhost:8080/",
          "height": 347
        },
        "id": "F-mKj9c3q8O7",
        "outputId": "21213d08-2f16-4bd6-d99f-716db6c7ef70"
      },
      "execution_count": null,
      "outputs": [
        {
          "output_type": "display_data",
          "data": {
            "text/plain": [
              "<Figure size 576x396 with 1 Axes>"
            ],
            "image/png": "[encoded data removed]"
          },
          "metadata": {}
        }
      ]
    },
    {
      "cell_type": "markdown",
      "source": [
        "Since to 2 components have variance more than 80%, we will chose n_compunents as 2."
      ],
      "metadata": {
        "id": "7aOMLRx8h_2J"
      }
    },
    {
      "cell_type": "code",
      "source": [
        "pca = PCA(n_components = 2)\n",
        "x = pca.fit_transform(x)"
      ],
      "metadata": {
        "id": "utrdYZ5eY9ev"
      },
      "execution_count": null,
      "outputs": []
    },
    {
      "cell_type": "markdown",
      "source": [
        "#Splitting the data"
      ],
      "metadata": {
        "id": "z_tm4O29wX11"
      }
    },
    {
      "cell_type": "code",
      "execution_count": null,
      "metadata": {
        "id": "ozIn2sbjLqFs"
      },
      "outputs": [],
      "source": [
        "x_train, x_test, y_train, y_test = train_test_split(x, y, test_size = 0.10)\n",
        "x_tr, x_cv, y_tr, y_cv = train_test_split(x_train, y_train, test_size = 0.10)"
      ]
    },
    {
      "cell_type": "markdown",
      "source": [
        "#Standardizing the data"
      ],
      "metadata": {
        "id": "w7lwCZ1UwexN"
      }
    },
    {
      "cell_type": "code",
      "source": [
        "scaler = StandardScaler()\n",
        "x_tr = scaler.fit(x_tr)"
      ],
      "metadata": {
        "id": "1LMNhlX_2mz4"
      },
      "execution_count": null,
      "outputs": []
    },
    {
      "cell_type": "code",
      "execution_count": null,
      "metadata": {
        "id": "JvfHTRJOMnPJ"
      },
      "outputs": [],
      "source": [
        "scaler = StandardScaler()\n",
        "x_tr = scaler.fit_transform(x_tr)\n",
        "x_cv = scaler.transform(x_cv)\n",
        "x_test = scaler.transform(x_test)"
      ]
    },
    {
      "cell_type": "code",
      "source": [
        "joblib.dump(x_tr, 'scalar.pkl')"
      ],
      "metadata": {
        "colab": {
          "base_uri": "https://localhost:8080/"
        },
        "id": "dNNGib8X2RzZ",
        "outputId": "cf7d850f-cd45-4bce-d585-8b9e16d0de14"
      },
      "execution_count": null,
      "outputs": [
        {
          "output_type": "execute_result",
          "data": {
            "text/plain": [
              "['scalar.pkl']"
            ]
          },
          "metadata": {},
          "execution_count": 9
        }
      ]
    },
    {
      "cell_type": "markdown",
      "metadata": {
        "id": "UnNUeJK7OYHa"
      },
      "source": [
        "#Linear regresion with L2 regularizer"
      ]
    },
    {
      "cell_type": "code",
      "execution_count": null,
      "metadata": {
        "id": "3yqclbaJfp9f",
        "colab": {
          "base_uri": "https://localhost:8080/"
        },
        "outputId": "df7ac890-0c61-4f59-8f93-c6972b6f8955"
      },
      "outputs": [
        {
          "output_type": "stream",
          "name": "stdout",
          "text": [
            "For alpha  0.25 the score is : 36.03645255796754\n",
            "For alpha  0.5 the score is : 35.86495864386414\n",
            "For alpha  0.75 the score is : 35.68271478827094\n",
            "For alpha  1.0 the score is : 35.51007271383636\n",
            "For alpha  1.25 the score is : 35.35273766785439\n",
            "For alpha  1.5 the score is : 35.21133864407974\n",
            "For alpha  1.75 the score is : 35.08476448530414\n",
            "For alpha  2.0 the score is : 34.971403494211664\n"
          ]
        }
      ],
      "source": [
        "cross_val_scores_ridge = []\n",
        "\n",
        "alpha = []\n",
        "\n",
        "for i in range(1, 9):\n",
        "    rgm = Ridge(alpha = i * 0.25)\n",
        "    rgm.fit(x_tr, y_tr)\n",
        "    scores = cross_val_score(rgm, x_train, y_train, cv = 10)\n",
        "    avg_cross_val_score = mean(scores)*100\n",
        "    cross_val_scores_ridge.append(avg_cross_val_score)\n",
        "    alpha.append(i * 0.25)\n",
        " \n",
        "for i in range(0, len(alpha)):\n",
        "    print(\"For alpha \" , str(alpha[i])+\" the score is : \"+str(cross_val_scores_ridge[i]))"
      ]
    },
    {
      "cell_type": "code",
      "source": [
        "plt.plot(cross_val_scores_ridge , alpha)\n",
        "plt.xlabel(\"Score\")\n",
        "plt.ylabel(\"Alpha\")\n"
      ],
      "metadata": {
        "colab": {
          "base_uri": "https://localhost:8080/",
          "height": 379
        },
        "id": "rlA4CjdmRbva",
        "outputId": "2172f6be-f8cf-41a2-a7ee-15a106eadece"
      },
      "execution_count": null,
      "outputs": [
        {
          "output_type": "execute_result",
          "data": {
            "text/plain": [
              "Text(0, 0.5, 'Alpha')"
            ]
          },
          "metadata": {},
          "execution_count": 23
        },
        {
          "output_type": "display_data",
          "data": {
            "text/plain": [
              "<Figure size 576x396 with 1 Axes>"
            ],
            "image/png": "[encoded data removed]"
          },
          "metadata": {}
        }
      ]
    },
    {
      "cell_type": "markdown",
      "source": [
        "After applying L2 regularizer and parameter tunning, from the above graph, we can see that alpha at 0.25 is the best alpha."
      ],
      "metadata": {
        "id": "IRTTHr7aR7r7"
      }
    },
    {
      "cell_type": "code",
      "execution_count": null,
      "metadata": {
        "colab": {
          "base_uri": "https://localhost:8080/"
        },
        "id": "iXTR_fe-OXCU",
        "outputId": "f4ff6983-3d21-4d8f-b582-abe68e45b9ed"
      },
      "outputs": [
        {
          "output_type": "execute_result",
          "data": {
            "text/plain": [
              "Ridge(alpha=0.25)"
            ]
          },
          "metadata": {},
          "execution_count": 24
        }
      ],
      "source": [
        "lr = Ridge(alpha = 0.25)\n",
        "lr.fit(x_tr , y_tr)"
      ]
    },
    {
      "cell_type": "code",
      "execution_count": null,
      "metadata": {
        "id": "eyDCQBFEhC1z"
      },
      "outputs": [],
      "source": [
        "pred_train = lr.predict(x_tr)\n",
        "pred_cv = lr.predict(x_cv)\n",
        "pred_test = lr.predict(x_test)"
      ]
    },
    {
      "cell_type": "code",
      "source": [
        "print(mean_absolute_error(y_tr, pred_train))\n",
        "print(mean_absolute_error(y_cv, pred_cv))\n",
        "mean_absolute_error(y_test, pred_test)"
      ],
      "metadata": {
        "colab": {
          "base_uri": "https://localhost:8080/"
        },
        "id": "mdbG4BTathMQ",
        "outputId": "c0fc165d-2513-4c62-b5bb-3fb59981bcf5"
      },
      "execution_count": null,
      "outputs": [
        {
          "output_type": "stream",
          "name": "stdout",
          "text": [
            "2.785254635373622\n",
            "2.702030693833735\n"
          ]
        },
        {
          "output_type": "execute_result",
          "data": {
            "text/plain": [
              "2.7276969795643096"
            ]
          },
          "metadata": {},
          "execution_count": 26
        }
      ]
    },
    {
      "cell_type": "markdown",
      "source": [
        "Using the linear regression the model is predicting well however using polynomial regression the model was not performing well.\n"
      ],
      "metadata": {
        "id": "WA4Z4wm5yKfP"
      }
    },
    {
      "cell_type": "code",
      "source": [],
      "metadata": {
        "id": "oiBtRoQGTCSQ"
      },
      "execution_count": null,
      "outputs": []
    },
    {
      "cell_type": "markdown",
      "metadata": {
        "id": "v8n5luPN6Sd3"
      },
      "source": [
        "#KNN"
      ]
    },
    {
      "cell_type": "code",
      "execution_count": null,
      "metadata": {
        "colab": {
          "base_uri": "https://localhost:8080/",
          "height": 376
        },
        "id": "LzGCpwNSCs1M",
        "outputId": "a6c3fb4d-68ce-482d-d13b-07302f5e4b82"
      },
      "outputs": [
        {
          "output_type": "display_data",
          "data": {
            "text/plain": [
              "<Figure size 576x396 with 1 Axes>"
            ],
            "image/png": "[encoded data removed]"
          },
          "metadata": {}
        }
      ],
      "source": [
        "n_neighbors = list(range(1,30 , 2))\n",
        "\n",
        "train_accuracy = np.empty(len(n_neighbors))\n",
        "cv_accuracy = np.empty(len(n_neighbors))\n",
        "test_accuracy = np.empty(len(n_neighbors))\n",
        "\n",
        "for i, k in enumerate(n_neighbors):\n",
        "\n",
        "    knn = KNeighborsRegressor(n_neighbors = k)\n",
        "    \n",
        "    knn.fit(x_tr, y_tr)\n",
        "\n",
        "    train_accuracy[i] = knn.score(x_tr, y_tr)\n",
        "\n",
        "    cv_accuracy[i] = knn.score(x_cv, y_cv)\n",
        "\n",
        "    test_accuracy[i] = knn.score(x_test , y_test)\n",
        "\n",
        "\n",
        "plt.title('Parameter Tunning ')\n",
        "plt.plot(n_neighbors, cv_accuracy, label = 'Cross validation Accuracy')\n",
        "plt.plot(n_neighbors, train_accuracy, label = 'Training Accuracy')\n",
        "plt.plot(n_neighbors, test_accuracy, label = 'Test Accuracy')\n",
        "plt.legend()\n",
        "plt.xlabel('Number of Neighbors')\n",
        "plt.ylabel('Accuracy')\n",
        "plt.show()"
      ]
    },
    {
      "cell_type": "markdown",
      "source": [
        "Fig 1\n"
      ],
      "metadata": {
        "id": "QY__EYI1wmOL"
      }
    },
    {
      "cell_type": "markdown",
      "source": [
        "The difference between training accuracy, test accuracy and cross validation accuracy is minimum from k = 10. To get better view, we will use Gridsearch."
      ],
      "metadata": {
        "id": "YCGGjEPsNkiK"
      }
    },
    {
      "cell_type": "markdown",
      "source": [
        "Gridsearch Cross validation KNN"
      ],
      "metadata": {
        "id": "rvjcPAdCx8zj"
      }
    },
    {
      "cell_type": "code",
      "source": [
        "#https://stackoverflow.com/questions/37161563/how-to-graph-grid-scores-from-gridsearchcv\n",
        "def plot_grid_search(cv_results, grid_param_1, grid_param_2, name_param_1, name_param_2):\n",
        "    \n",
        "    scores_mean = cv_results['mean_test_score']\n",
        "    scores_mean = np.array(scores_mean).reshape(len(grid_param_2),len(grid_param_1))\n",
        "\n",
        "    scores_sd = cv_results['std_test_score']\n",
        "    scores_sd = np.array(scores_sd).reshape(len(grid_param_2),len(grid_param_1))\n",
        "\n",
        "    \n",
        "    _, ax = plt.subplots(1,1 , figsize=(15,15))\n",
        "\n",
        "    for idx, val in enumerate(grid_param_2):\n",
        "        ax.plot(grid_param_1, scores_mean[idx,:], '-o', label= name_param_2 + ': ' + str(val))\n",
        "\n",
        "    ax.set_title(\"Grid Search Scores\")\n",
        "    ax.set_xlabel(name_param_1)\n",
        "    ax.set_ylabel('Score')\n",
        "    ax.legend(loc=\"best\")\n",
        "    ax.grid('on')"
      ],
      "metadata": {
        "id": "wJHDP02ZX6GO"
      },
      "execution_count": null,
      "outputs": []
    },
    {
      "cell_type": "code",
      "source": [
        "n_neighbors = list(range(1,30 , 2))\n",
        "\n",
        "hyperparameters = dict(n_neighbors = n_neighbors)\n",
        "\n",
        "m_knn = KNeighborsRegressor()\n",
        "\n",
        "reg = GridSearchCV(m_knn, hyperparameters, cv=10 , scoring='neg_mean_absolute_error')\n",
        "\n",
        "model = reg.fit(x_tr,y_tr)\n",
        "\n",
        "model.best_params_"
      ],
      "metadata": {
        "colab": {
          "base_uri": "https://localhost:8080/"
        },
        "id": "LDDsRQV7Ftgl",
        "outputId": "aba33820-df57-4731-842e-a16d395db4ba"
      },
      "execution_count": null,
      "outputs": [
        {
          "output_type": "execute_result",
          "data": {
            "text/plain": [
              "{'n_neighbors': 25}"
            ]
          },
          "metadata": {},
          "execution_count": 29
        }
      ]
    },
    {
      "cell_type": "code",
      "source": [
        "plot_grid_search(model.cv_results_, n_neighbors,hyperparameters, 'N-neighbors', 'Hyperparameters')"
      ],
      "metadata": {
        "colab": {
          "base_uri": "https://localhost:8080/",
          "height": 892
        },
        "id": "pebkWvMJYmdO",
        "outputId": "49ee4610-c903-4cdb-ad71-66007a5a6580"
      },
      "execution_count": null,
      "outputs": [
        {
          "output_type": "display_data",
          "data": {
            "text/plain": [
              "<Figure size 1080x1080 with 1 Axes>"
            ],
            "image/png": "[encoded data removed]"
          },
          "metadata": {}
        }
      ]
    },
    {
      "cell_type": "markdown",
      "source": [
        "From the above plot and grid search, k = 25 has the best accuracy. So we will chose k = 25"
      ],
      "metadata": {
        "id": "sDzQPA-9ZR-2"
      }
    },
    {
      "cell_type": "code",
      "execution_count": null,
      "metadata": {
        "colab": {
          "base_uri": "https://localhost:8080/"
        },
        "id": "wX082QjCvigC",
        "outputId": "0d931a0d-1d88-44a3-9951-9a5f22d776f1"
      },
      "outputs": [
        {
          "output_type": "execute_result",
          "data": {
            "text/plain": [
              "KNeighborsRegressor(n_neighbors=25)"
            ]
          },
          "metadata": {},
          "execution_count": 33
        }
      ],
      "source": [
        "Knn_model = KNeighborsRegressor(n_neighbors = 25)\n",
        "Knn_model.fit(x_tr, y_tr)"
      ]
    },
    {
      "cell_type": "code",
      "execution_count": null,
      "metadata": {
        "id": "E2-QYIt8vqWJ"
      },
      "outputs": [],
      "source": [
        "pred_train = Knn_model.predict(x_tr)\n",
        "pred_cv = Knn_model.predict(x_cv)\n",
        "pred_test = Knn_model.predict(x_test)"
      ]
    },
    {
      "cell_type": "code",
      "source": [
        "print(mean_absolute_error(y_tr, pred_train))\n",
        "print(mean_absolute_error(y_cv, pred_cv))\n",
        "mean_absolute_error(y_test, pred_test)"
      ],
      "metadata": {
        "colab": {
          "base_uri": "https://localhost:8080/"
        },
        "id": "ADMrTIxPSYY4",
        "outputId": "77f13932-5b85-49af-9cd2-eb860fc9d09d"
      },
      "execution_count": null,
      "outputs": [
        {
          "output_type": "stream",
          "name": "stdout",
          "text": [
            "2.414935278032408\n",
            "2.5086989311775967\n"
          ]
        },
        {
          "output_type": "execute_result",
          "data": {
            "text/plain": [
              "2.4849612851619605"
            ]
          },
          "metadata": {},
          "execution_count": 35
        }
      ]
    },
    {
      "cell_type": "markdown",
      "source": [
        "From the fig 1  and grid search cross validation, we choose K = 25. It is neither overfitting nor underfitting. "
      ],
      "metadata": {
        "id": "jl-O3AIix4Tr"
      }
    },
    {
      "cell_type": "code",
      "execution_count": null,
      "metadata": {
        "id": "AmYCMuBbyZE_"
      },
      "outputs": [],
      "source": []
    },
    {
      "cell_type": "code",
      "source": [],
      "metadata": {
        "id": "BpxkUTsvZdG2"
      },
      "execution_count": null,
      "outputs": []
    },
    {
      "cell_type": "markdown",
      "metadata": {
        "id": "HvoFJCSI6Tkt"
      },
      "source": [
        "Random forest"
      ]
    },
    {
      "cell_type": "code",
      "execution_count": null,
      "metadata": {
        "id": "R05uOxuvv4cH"
      },
      "outputs": [],
      "source": [
        "#n_estimators = [i for i in range(5 , 500, 10)] Taking too much time"
      ]
    },
    {
      "cell_type": "code",
      "source": [
        "n_estimators = [5,10,15, 20, 25, 30, 40 , 50, 60 , 100  , 200 , 400]"
      ],
      "metadata": {
        "id": "LpBREMoqE277"
      },
      "execution_count": null,
      "outputs": []
    },
    {
      "cell_type": "code",
      "execution_count": null,
      "metadata": {
        "id": "QYrOgUcuwDAK"
      },
      "outputs": [],
      "source": [
        "n_estimators = [5,10,15, 20, 25, 30, 40 , 50]\n",
        "max_depth = [i for i in range(5 , 25 , 2)]\n",
        "bootstrap = [True, False]\n",
        "min_samples_split = [2, 5, 10]\n",
        "max_features = ['auto', 'sqrt']"
      ]
    },
    {
      "cell_type": "code",
      "source": [
        "reg  = RandomForestRegressor()\n",
        "params = {'n_estimators': n_estimators, 'max_features': max_features, 'max_depth': max_depth, 'min_samples_split': min_samples_split\n",
        "          ,'bootstrap': bootstrap}\n",
        "\n",
        "random_forest_clf = RandomizedSearchCV(reg, params, scoring='neg_mean_absolute_error', cv = 10, n_iter = 100, verbose = 2, return_train_score=True) \n",
        "\n",
        "random_forest_clf.fit(x_tr, y_tr)\n"
      ],
      "metadata": {
        "colab": {
          "base_uri": "https://localhost:8080/"
        },
        "id": "Vw5ZECVOIuxO",
        "outputId": "36850834-a272-4c19-821a-4714bf0d0cc2"
      },
      "execution_count": null,
      "outputs": [
        {
          "output_type": "stream",
          "name": "stdout",
          "text": [
            "Fitting 10 folds for each of 100 candidates, totalling 1000 fits\n",
            "[CV] END bootstrap=True, max_depth=13, max_features=auto, min_samples_split=5, n_estimators=25; total time=   0.5s\n",
            "[CV] END bootstrap=True, max_depth=13, max_features=auto, min_samples_split=5, n_estimators=25; total time=   0.5s\n",
            "[CV] END bootstrap=True, max_depth=13, max_features=auto, min_samples_split=5, n_estimators=25; total time=   0.5s\n",
            "[CV] END bootstrap=True, max_depth=13, max_features=auto, min_samples_split=5, n_estimators=25; total time=   0.5s\n",
            "[CV] END bootstrap=True, max_depth=13, max_features=auto, min_samples_split=5, n_estimators=25; total time=   0.5s\n",
            "[CV] END bootstrap=True, max_depth=13, max_features=auto, min_samples_split=5, n_estimators=25; total time=   0.5s\n",
            "[CV] END bootstrap=True, max_depth=13, max_features=auto, min_samples_split=5, n_estimators=25; total time=   0.5s\n",
            "[CV] END bootstrap=True, max_depth=13, max_features=auto, min_samples_split=5, n_estimators=25; total time=   0.5s\n",
            "[CV] END bootstrap=True, max_depth=13, max_features=auto, min_samples_split=5, n_estimators=25; total time=   0.5s\n",
            "[CV] END bootstrap=True, max_depth=13, max_features=auto, min_samples_split=5, n_estimators=25; total time=   0.5s\n",
            "[CV] END bootstrap=False, max_depth=19, max_features=sqrt, min_samples_split=2, n_estimators=30; total time=   0.4s\n",
            "[CV] END bootstrap=False, max_depth=19, max_features=sqrt, min_samples_split=2, n_estimators=30; total time=   0.4s\n",
            "[CV] END bootstrap=False, max_depth=19, max_features=sqrt, min_samples_split=2, n_estimators=30; total time=   0.4s\n",
            "[CV] END bootstrap=False, max_depth=19, max_features=sqrt, min_samples_split=2, n_estimators=30; total time=   0.4s\n",
            "[CV] END bootstrap=False, max_depth=19, max_features=sqrt, min_samples_split=2, n_estimators=30; total time=   0.4s\n",
            "[CV] END bootstrap=False, max_depth=19, max_features=sqrt, min_samples_split=2, n_estimators=30; total time=   0.4s\n",
            "[CV] END bootstrap=False, max_depth=19, max_features=sqrt, min_samples_split=2, n_estimators=30; total time=   0.4s\n",
            "[CV] END bootstrap=False, max_depth=19, max_features=sqrt, min_samples_split=2, n_estimators=30; total time=   0.4s\n",
            "[CV] END bootstrap=False, max_depth=19, max_features=sqrt, min_samples_split=2, n_estimators=30; total time=   0.4s\n",
            "[CV] END bootstrap=False, max_depth=19, max_features=sqrt, min_samples_split=2, n_estimators=30; total time=   0.4s\n",
            "[CV] END bootstrap=True, max_depth=5, max_features=sqrt, min_samples_split=5, n_estimators=5; total time=   0.0s\n",
            "[CV] END bootstrap=True, max_depth=5, max_features=sqrt, min_samples_split=5, n_estimators=5; total time=   0.0s\n",
            "[CV] END bootstrap=True, max_depth=5, max_features=sqrt, min_samples_split=5, n_estimators=5; total time=   0.0s\n",
            "[CV] END bootstrap=True, max_depth=5, max_features=sqrt, min_samples_split=5, n_estimators=5; total time=   0.0s\n",
            "[CV] END bootstrap=True, max_depth=5, max_features=sqrt, min_samples_split=5, n_estimators=5; total time=   0.0s\n",
            "[CV] END bootstrap=True, max_depth=5, max_features=sqrt, min_samples_split=5, n_estimators=5; total time=   0.0s\n",
            "[CV] END bootstrap=True, max_depth=5, max_features=sqrt, min_samples_split=5, n_estimators=5; total time=   0.0s\n",
            "[CV] END bootstrap=True, max_depth=5, max_features=sqrt, min_samples_split=5, n_estimators=5; total time=   0.0s\n",
            "[CV] END bootstrap=True, max_depth=5, max_features=sqrt, min_samples_split=5, n_estimators=5; total time=   0.0s\n",
            "[CV] END bootstrap=True, max_depth=5, max_features=sqrt, min_samples_split=5, n_estimators=5; total time=   0.0s\n",
            "[CV] END bootstrap=False, max_depth=11, max_features=auto, min_samples_split=5, n_estimators=30; total time=   0.8s\n",
            "[CV] END bootstrap=False, max_depth=11, max_features=auto, min_samples_split=5, n_estimators=30; total time=   0.8s\n",
            "[CV] END bootstrap=False, max_depth=11, max_features=auto, min_samples_split=5, n_estimators=30; total time=   0.8s\n",
            "[CV] END bootstrap=False, max_depth=11, max_features=auto, min_samples_split=5, n_estimators=30; total time=   0.8s\n",
            "[CV] END bootstrap=False, max_depth=11, max_features=auto, min_samples_split=5, n_estimators=30; total time=   0.8s\n",
            "[CV] END bootstrap=False, max_depth=11, max_features=auto, min_samples_split=5, n_estimators=30; total time=   0.8s\n",
            "[CV] END bootstrap=False, max_depth=11, max_features=auto, min_samples_split=5, n_estimators=30; total time=   0.8s\n",
            "[CV] END bootstrap=False, max_depth=11, max_features=auto, min_samples_split=5, n_estimators=30; total time=   0.8s\n",
            "[CV] END bootstrap=False, max_depth=11, max_features=auto, min_samples_split=5, n_estimators=30; total time=   0.8s\n",
            "[CV] END bootstrap=False, max_depth=11, max_features=auto, min_samples_split=5, n_estimators=30; total time=   0.8s\n",
            "[CV] END bootstrap=False, max_depth=7, max_features=auto, min_samples_split=2, n_estimators=25; total time=   0.5s\n",
            "[CV] END bootstrap=False, max_depth=7, max_features=auto, min_samples_split=2, n_estimators=25; total time=   0.5s\n",
            "[CV] END bootstrap=False, max_depth=7, max_features=auto, min_samples_split=2, n_estimators=25; total time=   0.5s\n",
            "[CV] END bootstrap=False, max_depth=7, max_features=auto, min_samples_split=2, n_estimators=25; total time=   0.5s\n",
            "[CV] END bootstrap=False, max_depth=7, max_features=auto, min_samples_split=2, n_estimators=25; total time=   0.5s\n",
            "[CV] END bootstrap=False, max_depth=7, max_features=auto, min_samples_split=2, n_estimators=25; total time=   0.5s\n",
            "[CV] END bootstrap=False, max_depth=7, max_features=auto, min_samples_split=2, n_estimators=25; total time=   0.5s\n",
            "[CV] END bootstrap=False, max_depth=7, max_features=auto, min_samples_split=2, n_estimators=25; total time=   0.5s\n",
            "[CV] END bootstrap=False, max_depth=7, max_features=auto, min_samples_split=2, n_estimators=25; total time=   0.5s\n",
            "[CV] END bootstrap=False, max_depth=7, max_features=auto, min_samples_split=2, n_estimators=25; total time=   0.5s\n",
            "[CV] END bootstrap=True, max_depth=11, max_features=auto, min_samples_split=5, n_estimators=25; total time=   0.4s\n",
            "[CV] END bootstrap=True, max_depth=11, max_features=auto, min_samples_split=5, n_estimators=25; total time=   0.4s\n",
            "[CV] END bootstrap=True, max_depth=11, max_features=auto, min_samples_split=5, n_estimators=25; total time=   0.4s\n",
            "[CV] END bootstrap=True, max_depth=11, max_features=auto, min_samples_split=5, n_estimators=25; total time=   0.4s\n",
            "[CV] END bootstrap=True, max_depth=11, max_features=auto, min_samples_split=5, n_estimators=25; total time=   0.4s\n",
            "[CV] END bootstrap=True, max_depth=11, max_features=auto, min_samples_split=5, n_estimators=25; total time=   0.4s\n",
            "[CV] END bootstrap=True, max_depth=11, max_features=auto, min_samples_split=5, n_estimators=25; total time=   0.4s\n",
            "[CV] END bootstrap=True, max_depth=11, max_features=auto, min_samples_split=5, n_estimators=25; total time=   0.4s\n",
            "[CV] END bootstrap=True, max_depth=11, max_features=auto, min_samples_split=5, n_estimators=25; total time=   0.4s\n",
            "[CV] END bootstrap=True, max_depth=11, max_features=auto, min_samples_split=5, n_estimators=25; total time=   0.4s\n",
            "[CV] END bootstrap=True, max_depth=17, max_features=auto, min_samples_split=5, n_estimators=30; total time=   0.6s\n",
            "[CV] END bootstrap=True, max_depth=17, max_features=auto, min_samples_split=5, n_estimators=30; total time=   0.6s\n",
            "[CV] END bootstrap=True, max_depth=17, max_features=auto, min_samples_split=5, n_estimators=30; total time=   0.6s\n",
            "[CV] END bootstrap=True, max_depth=17, max_features=auto, min_samples_split=5, n_estimators=30; total time=   0.6s\n",
            "[CV] END bootstrap=True, max_depth=17, max_features=auto, min_samples_split=5, n_estimators=30; total time=   0.6s\n",
            "[CV] END bootstrap=True, max_depth=17, max_features=auto, min_samples_split=5, n_estimators=30; total time=   0.6s\n",
            "[CV] END bootstrap=True, max_depth=17, max_features=auto, min_samples_split=5, n_estimators=30; total time=   0.6s\n",
            "[CV] END bootstrap=True, max_depth=17, max_features=auto, min_samples_split=5, n_estimators=30; total time=   0.6s\n",
            "[CV] END bootstrap=True, max_depth=17, max_features=auto, min_samples_split=5, n_estimators=30; total time=   0.6s\n",
            "[CV] END bootstrap=True, max_depth=17, max_features=auto, min_samples_split=5, n_estimators=30; total time=   0.6s\n",
            "[CV] END bootstrap=True, max_depth=11, max_features=sqrt, min_samples_split=5, n_estimators=25; total time=   0.2s\n",
            "[CV] END bootstrap=True, max_depth=11, max_features=sqrt, min_samples_split=5, n_estimators=25; total time=   0.2s\n",
            "[CV] END bootstrap=True, max_depth=11, max_features=sqrt, min_samples_split=5, n_estimators=25; total time=   0.2s\n",
            "[CV] END bootstrap=True, max_depth=11, max_features=sqrt, min_samples_split=5, n_estimators=25; total time=   0.2s\n",
            "[CV] END bootstrap=True, max_depth=11, max_features=sqrt, min_samples_split=5, n_estimators=25; total time=   0.2s\n",
            "[CV] END bootstrap=True, max_depth=11, max_features=sqrt, min_samples_split=5, n_estimators=25; total time=   0.2s\n",
            "[CV] END bootstrap=True, max_depth=11, max_features=sqrt, min_samples_split=5, n_estimators=25; total time=   0.2s\n",
            "[CV] END bootstrap=True, max_depth=11, max_features=sqrt, min_samples_split=5, n_estimators=25; total time=   0.2s\n",
            "[CV] END bootstrap=True, max_depth=11, max_features=sqrt, min_samples_split=5, n_estimators=25; total time=   0.2s\n",
            "[CV] END bootstrap=True, max_depth=11, max_features=sqrt, min_samples_split=5, n_estimators=25; total time=   0.2s\n",
            "[CV] END bootstrap=True, max_depth=19, max_features=sqrt, min_samples_split=5, n_estimators=5; total time=   0.0s\n",
            "[CV] END bootstrap=True, max_depth=19, max_features=sqrt, min_samples_split=5, n_estimators=5; total time=   0.0s\n",
            "[CV] END bootstrap=True, max_depth=19, max_features=sqrt, min_samples_split=5, n_estimators=5; total time=   0.0s\n",
            "[CV] END bootstrap=True, max_depth=19, max_features=sqrt, min_samples_split=5, n_estimators=5; total time=   0.0s\n",
            "[CV] END bootstrap=True, max_depth=19, max_features=sqrt, min_samples_split=5, n_estimators=5; total time=   0.0s\n",
            "[CV] END bootstrap=True, max_depth=19, max_features=sqrt, min_samples_split=5, n_estimators=5; total time=   0.0s\n",
            "[CV] END bootstrap=True, max_depth=19, max_features=sqrt, min_samples_split=5, n_estimators=5; total time=   0.0s\n",
            "[CV] END bootstrap=True, max_depth=19, max_features=sqrt, min_samples_split=5, n_estimators=5; total time=   0.0s\n",
            "[CV] END bootstrap=True, max_depth=19, max_features=sqrt, min_samples_split=5, n_estimators=5; total time=   0.0s\n",
            "[CV] END bootstrap=True, max_depth=19, max_features=sqrt, min_samples_split=5, n_estimators=5; total time=   0.0s\n",
            "[CV] END bootstrap=False, max_depth=17, max_features=auto, min_samples_split=2, n_estimators=40; total time=   1.4s\n",
            "[CV] END bootstrap=False, max_depth=17, max_features=auto, min_samples_split=2, n_estimators=40; total time=   1.4s\n",
            "[CV] END bootstrap=False, max_depth=17, max_features=auto, min_samples_split=2, n_estimators=40; total time=   1.3s\n",
            "[CV] END bootstrap=False, max_depth=17, max_features=auto, min_samples_split=2, n_estimators=40; total time=   1.3s\n",
            "[CV] END bootstrap=False, max_depth=17, max_features=auto, min_samples_split=2, n_estimators=40; total time=   1.3s\n",
            "[CV] END bootstrap=False, max_depth=17, max_features=auto, min_samples_split=2, n_estimators=40; total time=   1.3s\n",
            "[CV] END bootstrap=False, max_depth=17, max_features=auto, min_samples_split=2, n_estimators=40; total time=   1.3s\n",
            "[CV] END bootstrap=False, max_depth=17, max_features=auto, min_samples_split=2, n_estimators=40; total time=   1.3s\n",
            "[CV] END bootstrap=False, max_depth=17, max_features=auto, min_samples_split=2, n_estimators=40; total time=   1.3s\n",
            "[CV] END bootstrap=False, max_depth=17, max_features=auto, min_samples_split=2, n_estimators=40; total time=   1.3s\n",
            "[CV] END bootstrap=True, max_depth=15, max_features=auto, min_samples_split=2, n_estimators=40; total time=   0.8s\n",
            "[CV] END bootstrap=True, max_depth=15, max_features=auto, min_samples_split=2, n_estimators=40; total time=   0.8s\n",
            "[CV] END bootstrap=True, max_depth=15, max_features=auto, min_samples_split=2, n_estimators=40; total time=   0.8s\n",
            "[CV] END bootstrap=True, max_depth=15, max_features=auto, min_samples_split=2, n_estimators=40; total time=   0.8s\n",
            "[CV] END bootstrap=True, max_depth=15, max_features=auto, min_samples_split=2, n_estimators=40; total time=   0.8s\n",
            "[CV] END bootstrap=True, max_depth=15, max_features=auto, min_samples_split=2, n_estimators=40; total time=   0.8s\n",
            "[CV] END bootstrap=True, max_depth=15, max_features=auto, min_samples_split=2, n_estimators=40; total time=   0.8s\n",
            "[CV] END bootstrap=True, max_depth=15, max_features=auto, min_samples_split=2, n_estimators=40; total time=   0.8s\n",
            "[CV] END bootstrap=True, max_depth=15, max_features=auto, min_samples_split=2, n_estimators=40; total time=   0.8s\n",
            "[CV] END bootstrap=True, max_depth=15, max_features=auto, min_samples_split=2, n_estimators=40; total time=   0.8s\n",
            "[CV] END bootstrap=True, max_depth=23, max_features=sqrt, min_samples_split=5, n_estimators=50; total time=   0.4s\n",
            "[CV] END bootstrap=True, max_depth=23, max_features=sqrt, min_samples_split=5, n_estimators=50; total time=   0.4s\n",
            "[CV] END bootstrap=True, max_depth=23, max_features=sqrt, min_samples_split=5, n_estimators=50; total time=   0.4s\n",
            "[CV] END bootstrap=True, max_depth=23, max_features=sqrt, min_samples_split=5, n_estimators=50; total time=   0.4s\n",
            "[CV] END bootstrap=True, max_depth=23, max_features=sqrt, min_samples_split=5, n_estimators=50; total time=   0.4s\n",
            "[CV] END bootstrap=True, max_depth=23, max_features=sqrt, min_samples_split=5, n_estimators=50; total time=   0.4s\n",
            "[CV] END bootstrap=True, max_depth=23, max_features=sqrt, min_samples_split=5, n_estimators=50; total time=   0.4s\n",
            "[CV] END bootstrap=True, max_depth=23, max_features=sqrt, min_samples_split=5, n_estimators=50; total time=   0.4s\n",
            "[CV] END bootstrap=True, max_depth=23, max_features=sqrt, min_samples_split=5, n_estimators=50; total time=   0.4s\n",
            "[CV] END bootstrap=True, max_depth=23, max_features=sqrt, min_samples_split=5, n_estimators=50; total time=   0.4s\n",
            "[CV] END bootstrap=False, max_depth=13, max_features=sqrt, min_samples_split=10, n_estimators=15; total time=   0.1s\n",
            "[CV] END bootstrap=False, max_depth=13, max_features=sqrt, min_samples_split=10, n_estimators=15; total time=   0.2s\n",
            "[CV] END bootstrap=False, max_depth=13, max_features=sqrt, min_samples_split=10, n_estimators=15; total time=   0.1s\n",
            "[CV] END bootstrap=False, max_depth=13, max_features=sqrt, min_samples_split=10, n_estimators=15; total time=   0.2s\n",
            "[CV] END bootstrap=False, max_depth=13, max_features=sqrt, min_samples_split=10, n_estimators=15; total time=   0.2s\n",
            "[CV] END bootstrap=False, max_depth=13, max_features=sqrt, min_samples_split=10, n_estimators=15; total time=   0.2s\n",
            "[CV] END bootstrap=False, max_depth=13, max_features=sqrt, min_samples_split=10, n_estimators=15; total time=   0.1s\n",
            "[CV] END bootstrap=False, max_depth=13, max_features=sqrt, min_samples_split=10, n_estimators=15; total time=   0.2s\n",
            "[CV] END bootstrap=False, max_depth=13, max_features=sqrt, min_samples_split=10, n_estimators=15; total time=   0.1s\n",
            "[CV] END bootstrap=False, max_depth=13, max_features=sqrt, min_samples_split=10, n_estimators=15; total time=   0.1s\n",
            "[CV] END bootstrap=True, max_depth=9, max_features=sqrt, min_samples_split=2, n_estimators=10; total time=   0.1s\n",
            "[CV] END bootstrap=True, max_depth=9, max_features=sqrt, min_samples_split=2, n_estimators=10; total time=   0.1s\n",
            "[CV] END bootstrap=True, max_depth=9, max_features=sqrt, min_samples_split=2, n_estimators=10; total time=   0.1s\n",
            "[CV] END bootstrap=True, max_depth=9, max_features=sqrt, min_samples_split=2, n_estimators=10; total time=   0.1s\n",
            "[CV] END bootstrap=True, max_depth=9, max_features=sqrt, min_samples_split=2, n_estimators=10; total time=   0.1s\n",
            "[CV] END bootstrap=True, max_depth=9, max_features=sqrt, min_samples_split=2, n_estimators=10; total time=   0.1s\n",
            "[CV] END bootstrap=True, max_depth=9, max_features=sqrt, min_samples_split=2, n_estimators=10; total time=   0.1s\n",
            "[CV] END bootstrap=True, max_depth=9, max_features=sqrt, min_samples_split=2, n_estimators=10; total time=   0.1s\n",
            "[CV] END bootstrap=True, max_depth=9, max_features=sqrt, min_samples_split=2, n_estimators=10; total time=   0.1s\n",
            "[CV] END bootstrap=True, max_depth=9, max_features=sqrt, min_samples_split=2, n_estimators=10; total time=   0.1s\n",
            "[CV] END bootstrap=False, max_depth=9, max_features=sqrt, min_samples_split=5, n_estimators=25; total time=   0.2s\n",
            "[CV] END bootstrap=False, max_depth=9, max_features=sqrt, min_samples_split=5, n_estimators=25; total time=   0.2s\n",
            "[CV] END bootstrap=False, max_depth=9, max_features=sqrt, min_samples_split=5, n_estimators=25; total time=   0.2s\n",
            "[CV] END bootstrap=False, max_depth=9, max_features=sqrt, min_samples_split=5, n_estimators=25; total time=   0.2s\n",
            "[CV] END bootstrap=False, max_depth=9, max_features=sqrt, min_samples_split=5, n_estimators=25; total time=   0.2s\n",
            "[CV] END bootstrap=False, max_depth=9, max_features=sqrt, min_samples_split=5, n_estimators=25; total time=   0.2s\n",
            "[CV] END bootstrap=False, max_depth=9, max_features=sqrt, min_samples_split=5, n_estimators=25; total time=   0.2s\n",
            "[CV] END bootstrap=False, max_depth=9, max_features=sqrt, min_samples_split=5, n_estimators=25; total time=   0.2s\n",
            "[CV] END bootstrap=False, max_depth=9, max_features=sqrt, min_samples_split=5, n_estimators=25; total time=   0.2s\n",
            "[CV] END bootstrap=False, max_depth=9, max_features=sqrt, min_samples_split=5, n_estimators=25; total time=   0.2s\n",
            "[CV] END bootstrap=True, max_depth=13, max_features=sqrt, min_samples_split=10, n_estimators=50; total time=   0.4s\n",
            "[CV] END bootstrap=True, max_depth=13, max_features=sqrt, min_samples_split=10, n_estimators=50; total time=   0.3s\n",
            "[CV] END bootstrap=True, max_depth=13, max_features=sqrt, min_samples_split=10, n_estimators=50; total time=   0.3s\n",
            "[CV] END bootstrap=True, max_depth=13, max_features=sqrt, min_samples_split=10, n_estimators=50; total time=   0.4s\n",
            "[CV] END bootstrap=True, max_depth=13, max_features=sqrt, min_samples_split=10, n_estimators=50; total time=   0.3s\n",
            "[CV] END bootstrap=True, max_depth=13, max_features=sqrt, min_samples_split=10, n_estimators=50; total time=   0.3s\n",
            "[CV] END bootstrap=True, max_depth=13, max_features=sqrt, min_samples_split=10, n_estimators=50; total time=   0.3s\n",
            "[CV] END bootstrap=True, max_depth=13, max_features=sqrt, min_samples_split=10, n_estimators=50; total time=   0.3s\n",
            "[CV] END bootstrap=True, max_depth=13, max_features=sqrt, min_samples_split=10, n_estimators=50; total time=   0.3s\n",
            "[CV] END bootstrap=True, max_depth=13, max_features=sqrt, min_samples_split=10, n_estimators=50; total time=   0.3s\n",
            "[CV] END bootstrap=True, max_depth=17, max_features=auto, min_samples_split=10, n_estimators=15; total time=   0.3s\n",
            "[CV] END bootstrap=True, max_depth=17, max_features=auto, min_samples_split=10, n_estimators=15; total time=   0.3s\n",
            "[CV] END bootstrap=True, max_depth=17, max_features=auto, min_samples_split=10, n_estimators=15; total time=   0.3s\n",
            "[CV] END bootstrap=True, max_depth=17, max_features=auto, min_samples_split=10, n_estimators=15; total time=   0.3s\n",
            "[CV] END bootstrap=True, max_depth=17, max_features=auto, min_samples_split=10, n_estimators=15; total time=   0.3s\n",
            "[CV] END bootstrap=True, max_depth=17, max_features=auto, min_samples_split=10, n_estimators=15; total time=   0.3s\n",
            "[CV] END bootstrap=True, max_depth=17, max_features=auto, min_samples_split=10, n_estimators=15; total time=   0.3s\n",
            "[CV] END bootstrap=True, max_depth=17, max_features=auto, min_samples_split=10, n_estimators=15; total time=   0.3s\n",
            "[CV] END bootstrap=True, max_depth=17, max_features=auto, min_samples_split=10, n_estimators=15; total time=   0.3s\n",
            "[CV] END bootstrap=True, max_depth=17, max_features=auto, min_samples_split=10, n_estimators=15; total time=   0.3s\n",
            "[CV] END bootstrap=False, max_depth=21, max_features=auto, min_samples_split=10, n_estimators=50; total time=   1.5s\n",
            "[CV] END bootstrap=False, max_depth=21, max_features=auto, min_samples_split=10, n_estimators=50; total time=   1.6s\n",
            "[CV] END bootstrap=False, max_depth=21, max_features=auto, min_samples_split=10, n_estimators=50; total time=   1.5s\n",
            "[CV] END bootstrap=False, max_depth=21, max_features=auto, min_samples_split=10, n_estimators=50; total time=   1.5s\n",
            "[CV] END bootstrap=False, max_depth=21, max_features=auto, min_samples_split=10, n_estimators=50; total time=   1.4s\n",
            "[CV] END bootstrap=False, max_depth=21, max_features=auto, min_samples_split=10, n_estimators=50; total time=   1.5s\n",
            "[CV] END bootstrap=False, max_depth=21, max_features=auto, min_samples_split=10, n_estimators=50; total time=   1.5s\n",
            "[CV] END bootstrap=False, max_depth=21, max_features=auto, min_samples_split=10, n_estimators=50; total time=   1.5s\n",
            "[CV] END bootstrap=False, max_depth=21, max_features=auto, min_samples_split=10, n_estimators=50; total time=   1.5s\n",
            "[CV] END bootstrap=False, max_depth=21, max_features=auto, min_samples_split=10, n_estimators=50; total time=   1.5s\n",
            "[CV] END bootstrap=True, max_depth=9, max_features=sqrt, min_samples_split=2, n_estimators=15; total time=   0.1s\n",
            "[CV] END bootstrap=True, max_depth=9, max_features=sqrt, min_samples_split=2, n_estimators=15; total time=   0.1s\n",
            "[CV] END bootstrap=True, max_depth=9, max_features=sqrt, min_samples_split=2, n_estimators=15; total time=   0.1s\n",
            "[CV] END bootstrap=True, max_depth=9, max_features=sqrt, min_samples_split=2, n_estimators=15; total time=   0.1s\n",
            "[CV] END bootstrap=True, max_depth=9, max_features=sqrt, min_samples_split=2, n_estimators=15; total time=   0.1s\n",
            "[CV] END bootstrap=True, max_depth=9, max_features=sqrt, min_samples_split=2, n_estimators=15; total time=   0.1s\n",
            "[CV] END bootstrap=True, max_depth=9, max_features=sqrt, min_samples_split=2, n_estimators=15; total time=   0.1s\n",
            "[CV] END bootstrap=True, max_depth=9, max_features=sqrt, min_samples_split=2, n_estimators=15; total time=   0.1s\n",
            "[CV] END bootstrap=True, max_depth=9, max_features=sqrt, min_samples_split=2, n_estimators=15; total time=   0.1s\n",
            "[CV] END bootstrap=True, max_depth=9, max_features=sqrt, min_samples_split=2, n_estimators=15; total time=   0.1s\n",
            "[CV] END bootstrap=True, max_depth=23, max_features=auto, min_samples_split=5, n_estimators=10; total time=   0.2s\n",
            "[CV] END bootstrap=True, max_depth=23, max_features=auto, min_samples_split=5, n_estimators=10; total time=   0.2s\n",
            "[CV] END bootstrap=True, max_depth=23, max_features=auto, min_samples_split=5, n_estimators=10; total time=   0.2s\n",
            "[CV] END bootstrap=True, max_depth=23, max_features=auto, min_samples_split=5, n_estimators=10; total time=   0.2s\n",
            "[CV] END bootstrap=True, max_depth=23, max_features=auto, min_samples_split=5, n_estimators=10; total time=   0.2s\n",
            "[CV] END bootstrap=True, max_depth=23, max_features=auto, min_samples_split=5, n_estimators=10; total time=   0.2s\n",
            "[CV] END bootstrap=True, max_depth=23, max_features=auto, min_samples_split=5, n_estimators=10; total time=   0.2s\n",
            "[CV] END bootstrap=True, max_depth=23, max_features=auto, min_samples_split=5, n_estimators=10; total time=   0.2s\n",
            "[CV] END bootstrap=True, max_depth=23, max_features=auto, min_samples_split=5, n_estimators=10; total time=   0.2s\n",
            "[CV] END bootstrap=True, max_depth=23, max_features=auto, min_samples_split=5, n_estimators=10; total time=   0.2s\n",
            "[CV] END bootstrap=False, max_depth=9, max_features=auto, min_samples_split=5, n_estimators=30; total time=   0.7s\n",
            "[CV] END bootstrap=False, max_depth=9, max_features=auto, min_samples_split=5, n_estimators=30; total time=   0.7s\n",
            "[CV] END bootstrap=False, max_depth=9, max_features=auto, min_samples_split=5, n_estimators=30; total time=   0.7s\n",
            "[CV] END bootstrap=False, max_depth=9, max_features=auto, min_samples_split=5, n_estimators=30; total time=   0.7s\n",
            "[CV] END bootstrap=False, max_depth=9, max_features=auto, min_samples_split=5, n_estimators=30; total time=   0.7s\n",
            "[CV] END bootstrap=False, max_depth=9, max_features=auto, min_samples_split=5, n_estimators=30; total time=   0.7s\n",
            "[CV] END bootstrap=False, max_depth=9, max_features=auto, min_samples_split=5, n_estimators=30; total time=   0.7s\n",
            "[CV] END bootstrap=False, max_depth=9, max_features=auto, min_samples_split=5, n_estimators=30; total time=   0.7s\n",
            "[CV] END bootstrap=False, max_depth=9, max_features=auto, min_samples_split=5, n_estimators=30; total time=   0.7s\n",
            "[CV] END bootstrap=False, max_depth=9, max_features=auto, min_samples_split=5, n_estimators=30; total time=   0.7s\n",
            "[CV] END bootstrap=False, max_depth=17, max_features=sqrt, min_samples_split=10, n_estimators=5; total time=   0.1s\n",
            "[CV] END bootstrap=False, max_depth=17, max_features=sqrt, min_samples_split=10, n_estimators=5; total time=   0.1s\n",
            "[CV] END bootstrap=False, max_depth=17, max_features=sqrt, min_samples_split=10, n_estimators=5; total time=   0.1s\n",
            "[CV] END bootstrap=False, max_depth=17, max_features=sqrt, min_samples_split=10, n_estimators=5; total time=   0.1s\n",
            "[CV] END bootstrap=False, max_depth=17, max_features=sqrt, min_samples_split=10, n_estimators=5; total time=   0.1s\n",
            "[CV] END bootstrap=False, max_depth=17, max_features=sqrt, min_samples_split=10, n_estimators=5; total time=   0.1s\n",
            "[CV] END bootstrap=False, max_depth=17, max_features=sqrt, min_samples_split=10, n_estimators=5; total time=   0.1s\n",
            "[CV] END bootstrap=False, max_depth=17, max_features=sqrt, min_samples_split=10, n_estimators=5; total time=   0.1s\n",
            "[CV] END bootstrap=False, max_depth=17, max_features=sqrt, min_samples_split=10, n_estimators=5; total time=   0.1s\n",
            "[CV] END bootstrap=False, max_depth=17, max_features=sqrt, min_samples_split=10, n_estimators=5; total time=   0.1s\n",
            "[CV] END bootstrap=True, max_depth=23, max_features=sqrt, min_samples_split=5, n_estimators=10; total time=   0.1s\n",
            "[CV] END bootstrap=True, max_depth=23, max_features=sqrt, min_samples_split=5, n_estimators=10; total time=   0.1s\n",
            "[CV] END bootstrap=True, max_depth=23, max_features=sqrt, min_samples_split=5, n_estimators=10; total time=   0.1s\n",
            "[CV] END bootstrap=True, max_depth=23, max_features=sqrt, min_samples_split=5, n_estimators=10; total time=   0.1s\n",
            "[CV] END bootstrap=True, max_depth=23, max_features=sqrt, min_samples_split=5, n_estimators=10; total time=   0.1s\n",
            "[CV] END bootstrap=True, max_depth=23, max_features=sqrt, min_samples_split=5, n_estimators=10; total time=   0.1s\n",
            "[CV] END bootstrap=True, max_depth=23, max_features=sqrt, min_samples_split=5, n_estimators=10; total time=   0.1s\n",
            "[CV] END bootstrap=True, max_depth=23, max_features=sqrt, min_samples_split=5, n_estimators=10; total time=   0.1s\n",
            "[CV] END bootstrap=True, max_depth=23, max_features=sqrt, min_samples_split=5, n_estimators=10; total time=   0.1s\n",
            "[CV] END bootstrap=True, max_depth=23, max_features=sqrt, min_samples_split=5, n_estimators=10; total time=   0.1s\n",
            "[CV] END bootstrap=False, max_depth=15, max_features=auto, min_samples_split=10, n_estimators=25; total time=   0.7s\n",
            "[CV] END bootstrap=False, max_depth=15, max_features=auto, min_samples_split=10, n_estimators=25; total time=   0.8s\n",
            "[CV] END bootstrap=False, max_depth=15, max_features=auto, min_samples_split=10, n_estimators=25; total time=   0.7s\n",
            "[CV] END bootstrap=False, max_depth=15, max_features=auto, min_samples_split=10, n_estimators=25; total time=   0.7s\n",
            "[CV] END bootstrap=False, max_depth=15, max_features=auto, min_samples_split=10, n_estimators=25; total time=   0.7s\n",
            "[CV] END bootstrap=False, max_depth=15, max_features=auto, min_samples_split=10, n_estimators=25; total time=   0.7s\n",
            "[CV] END bootstrap=False, max_depth=15, max_features=auto, min_samples_split=10, n_estimators=25; total time=   0.7s\n",
            "[CV] END bootstrap=False, max_depth=15, max_features=auto, min_samples_split=10, n_estimators=25; total time=   0.7s\n",
            "[CV] END bootstrap=False, max_depth=15, max_features=auto, min_samples_split=10, n_estimators=25; total time=   0.7s\n",
            "[CV] END bootstrap=False, max_depth=15, max_features=auto, min_samples_split=10, n_estimators=25; total time=   0.7s\n",
            "[CV] END bootstrap=False, max_depth=19, max_features=sqrt, min_samples_split=2, n_estimators=10; total time=   0.1s\n",
            "[CV] END bootstrap=False, max_depth=19, max_features=sqrt, min_samples_split=2, n_estimators=10; total time=   0.1s\n",
            "[CV] END bootstrap=False, max_depth=19, max_features=sqrt, min_samples_split=2, n_estimators=10; total time=   0.1s\n",
            "[CV] END bootstrap=False, max_depth=19, max_features=sqrt, min_samples_split=2, n_estimators=10; total time=   0.1s\n",
            "[CV] END bootstrap=False, max_depth=19, max_features=sqrt, min_samples_split=2, n_estimators=10; total time=   0.1s\n",
            "[CV] END bootstrap=False, max_depth=19, max_features=sqrt, min_samples_split=2, n_estimators=10; total time=   0.1s\n",
            "[CV] END bootstrap=False, max_depth=19, max_features=sqrt, min_samples_split=2, n_estimators=10; total time=   0.1s\n",
            "[CV] END bootstrap=False, max_depth=19, max_features=sqrt, min_samples_split=2, n_estimators=10; total time=   0.1s\n",
            "[CV] END bootstrap=False, max_depth=19, max_features=sqrt, min_samples_split=2, n_estimators=10; total time=   0.1s\n",
            "[CV] END bootstrap=False, max_depth=19, max_features=sqrt, min_samples_split=2, n_estimators=10; total time=   0.1s\n",
            "[CV] END bootstrap=False, max_depth=15, max_features=sqrt, min_samples_split=2, n_estimators=25; total time=   0.3s\n",
            "[CV] END bootstrap=False, max_depth=15, max_features=sqrt, min_samples_split=2, n_estimators=25; total time=   0.3s\n",
            "[CV] END bootstrap=False, max_depth=15, max_features=sqrt, min_samples_split=2, n_estimators=25; total time=   0.3s\n",
            "[CV] END bootstrap=False, max_depth=15, max_features=sqrt, min_samples_split=2, n_estimators=25; total time=   0.3s\n",
            "[CV] END bootstrap=False, max_depth=15, max_features=sqrt, min_samples_split=2, n_estimators=25; total time=   0.3s\n",
            "[CV] END bootstrap=False, max_depth=15, max_features=sqrt, min_samples_split=2, n_estimators=25; total time=   0.3s\n",
            "[CV] END bootstrap=False, max_depth=15, max_features=sqrt, min_samples_split=2, n_estimators=25; total time=   0.3s\n",
            "[CV] END bootstrap=False, max_depth=15, max_features=sqrt, min_samples_split=2, n_estimators=25; total time=   0.3s\n",
            "[CV] END bootstrap=False, max_depth=15, max_features=sqrt, min_samples_split=2, n_estimators=25; total time=   0.3s\n",
            "[CV] END bootstrap=False, max_depth=15, max_features=sqrt, min_samples_split=2, n_estimators=25; total time=   0.3s\n",
            "[CV] END bootstrap=True, max_depth=17, max_features=sqrt, min_samples_split=10, n_estimators=30; total time=   0.2s\n",
            "[CV] END bootstrap=True, max_depth=17, max_features=sqrt, min_samples_split=10, n_estimators=30; total time=   0.2s\n",
            "[CV] END bootstrap=True, max_depth=17, max_features=sqrt, min_samples_split=10, n_estimators=30; total time=   0.2s\n",
            "[CV] END bootstrap=True, max_depth=17, max_features=sqrt, min_samples_split=10, n_estimators=30; total time=   0.2s\n",
            "[CV] END bootstrap=True, max_depth=17, max_features=sqrt, min_samples_split=10, n_estimators=30; total time=   0.2s\n",
            "[CV] END bootstrap=True, max_depth=17, max_features=sqrt, min_samples_split=10, n_estimators=30; total time=   0.2s\n",
            "[CV] END bootstrap=True, max_depth=17, max_features=sqrt, min_samples_split=10, n_estimators=30; total time=   0.2s\n",
            "[CV] END bootstrap=True, max_depth=17, max_features=sqrt, min_samples_split=10, n_estimators=30; total time=   0.2s\n",
            "[CV] END bootstrap=True, max_depth=17, max_features=sqrt, min_samples_split=10, n_estimators=30; total time=   0.2s\n",
            "[CV] END bootstrap=True, max_depth=17, max_features=sqrt, min_samples_split=10, n_estimators=30; total time=   0.2s\n",
            "[CV] END bootstrap=True, max_depth=23, max_features=sqrt, min_samples_split=2, n_estimators=25; total time=   0.2s\n",
            "[CV] END bootstrap=True, max_depth=23, max_features=sqrt, min_samples_split=2, n_estimators=25; total time=   0.2s\n",
            "[CV] END bootstrap=True, max_depth=23, max_features=sqrt, min_samples_split=2, n_estimators=25; total time=   0.2s\n",
            "[CV] END bootstrap=True, max_depth=23, max_features=sqrt, min_samples_split=2, n_estimators=25; total time=   0.2s\n",
            "[CV] END bootstrap=True, max_depth=23, max_features=sqrt, min_samples_split=2, n_estimators=25; total time=   0.2s\n",
            "[CV] END bootstrap=True, max_depth=23, max_features=sqrt, min_samples_split=2, n_estimators=25; total time=   0.2s\n",
            "[CV] END bootstrap=True, max_depth=23, max_features=sqrt, min_samples_split=2, n_estimators=25; total time=   0.2s\n",
            "[CV] END bootstrap=True, max_depth=23, max_features=sqrt, min_samples_split=2, n_estimators=25; total time=   0.2s\n",
            "[CV] END bootstrap=True, max_depth=23, max_features=sqrt, min_samples_split=2, n_estimators=25; total time=   0.2s\n",
            "[CV] END bootstrap=True, max_depth=23, max_features=sqrt, min_samples_split=2, n_estimators=25; total time=   0.2s\n",
            "[CV] END bootstrap=False, max_depth=13, max_features=sqrt, min_samples_split=5, n_estimators=10; total time=   0.1s\n",
            "[CV] END bootstrap=False, max_depth=13, max_features=sqrt, min_samples_split=5, n_estimators=10; total time=   0.1s\n",
            "[CV] END bootstrap=False, max_depth=13, max_features=sqrt, min_samples_split=5, n_estimators=10; total time=   0.1s\n",
            "[CV] END bootstrap=False, max_depth=13, max_features=sqrt, min_samples_split=5, n_estimators=10; total time=   0.1s\n",
            "[CV] END bootstrap=False, max_depth=13, max_features=sqrt, min_samples_split=5, n_estimators=10; total time=   0.1s\n",
            "[CV] END bootstrap=False, max_depth=13, max_features=sqrt, min_samples_split=5, n_estimators=10; total time=   0.1s\n",
            "[CV] END bootstrap=False, max_depth=13, max_features=sqrt, min_samples_split=5, n_estimators=10; total time=   0.1s\n",
            "[CV] END bootstrap=False, max_depth=13, max_features=sqrt, min_samples_split=5, n_estimators=10; total time=   0.1s\n",
            "[CV] END bootstrap=False, max_depth=13, max_features=sqrt, min_samples_split=5, n_estimators=10; total time=   0.1s\n",
            "[CV] END bootstrap=False, max_depth=13, max_features=sqrt, min_samples_split=5, n_estimators=10; total time=   0.1s\n",
            "[CV] END bootstrap=False, max_depth=7, max_features=sqrt, min_samples_split=10, n_estimators=15; total time=   0.1s\n",
            "[CV] END bootstrap=False, max_depth=7, max_features=sqrt, min_samples_split=10, n_estimators=15; total time=   0.1s\n",
            "[CV] END bootstrap=False, max_depth=7, max_features=sqrt, min_samples_split=10, n_estimators=15; total time=   0.1s\n",
            "[CV] END bootstrap=False, max_depth=7, max_features=sqrt, min_samples_split=10, n_estimators=15; total time=   0.1s\n",
            "[CV] END bootstrap=False, max_depth=7, max_features=sqrt, min_samples_split=10, n_estimators=15; total time=   0.1s\n",
            "[CV] END bootstrap=False, max_depth=7, max_features=sqrt, min_samples_split=10, n_estimators=15; total time=   0.1s\n",
            "[CV] END bootstrap=False, max_depth=7, max_features=sqrt, min_samples_split=10, n_estimators=15; total time=   0.1s\n",
            "[CV] END bootstrap=False, max_depth=7, max_features=sqrt, min_samples_split=10, n_estimators=15; total time=   0.1s\n",
            "[CV] END bootstrap=False, max_depth=7, max_features=sqrt, min_samples_split=10, n_estimators=15; total time=   0.1s\n",
            "[CV] END bootstrap=False, max_depth=7, max_features=sqrt, min_samples_split=10, n_estimators=15; total time=   0.1s\n",
            "[CV] END bootstrap=True, max_depth=9, max_features=auto, min_samples_split=2, n_estimators=40; total time=   0.6s\n",
            "[CV] END bootstrap=True, max_depth=9, max_features=auto, min_samples_split=2, n_estimators=40; total time=   0.6s\n",
            "[CV] END bootstrap=True, max_depth=9, max_features=auto, min_samples_split=2, n_estimators=40; total time=   0.6s\n",
            "[CV] END bootstrap=True, max_depth=9, max_features=auto, min_samples_split=2, n_estimators=40; total time=   0.6s\n",
            "[CV] END bootstrap=True, max_depth=9, max_features=auto, min_samples_split=2, n_estimators=40; total time=   0.6s\n",
            "[CV] END bootstrap=True, max_depth=9, max_features=auto, min_samples_split=2, n_estimators=40; total time=   0.6s\n",
            "[CV] END bootstrap=True, max_depth=9, max_features=auto, min_samples_split=2, n_estimators=40; total time=   0.6s\n",
            "[CV] END bootstrap=True, max_depth=9, max_features=auto, min_samples_split=2, n_estimators=40; total time=   0.6s\n",
            "[CV] END bootstrap=True, max_depth=9, max_features=auto, min_samples_split=2, n_estimators=40; total time=   0.6s\n",
            "[CV] END bootstrap=True, max_depth=9, max_features=auto, min_samples_split=2, n_estimators=40; total time=   0.6s\n",
            "[CV] END bootstrap=False, max_depth=21, max_features=auto, min_samples_split=5, n_estimators=20; total time=   0.6s\n",
            "[CV] END bootstrap=False, max_depth=21, max_features=auto, min_samples_split=5, n_estimators=20; total time=   0.7s\n",
            "[CV] END bootstrap=False, max_depth=21, max_features=auto, min_samples_split=5, n_estimators=20; total time=   0.6s\n",
            "[CV] END bootstrap=False, max_depth=21, max_features=auto, min_samples_split=5, n_estimators=20; total time=   0.6s\n",
            "[CV] END bootstrap=False, max_depth=21, max_features=auto, min_samples_split=5, n_estimators=20; total time=   0.6s\n",
            "[CV] END bootstrap=False, max_depth=21, max_features=auto, min_samples_split=5, n_estimators=20; total time=   0.6s\n",
            "[CV] END bootstrap=False, max_depth=21, max_features=auto, min_samples_split=5, n_estimators=20; total time=   0.7s\n",
            "[CV] END bootstrap=False, max_depth=21, max_features=auto, min_samples_split=5, n_estimators=20; total time=   0.6s\n",
            "[CV] END bootstrap=False, max_depth=21, max_features=auto, min_samples_split=5, n_estimators=20; total time=   0.7s\n",
            "[CV] END bootstrap=False, max_depth=21, max_features=auto, min_samples_split=5, n_estimators=20; total time=   0.6s\n",
            "[CV] END bootstrap=False, max_depth=23, max_features=sqrt, min_samples_split=5, n_estimators=40; total time=   0.5s\n",
            "[CV] END bootstrap=False, max_depth=23, max_features=sqrt, min_samples_split=5, n_estimators=40; total time=   0.5s\n",
            "[CV] END bootstrap=False, max_depth=23, max_features=sqrt, min_samples_split=5, n_estimators=40; total time=   0.5s\n",
            "[CV] END bootstrap=False, max_depth=23, max_features=sqrt, min_samples_split=5, n_estimators=40; total time=   0.5s\n",
            "[CV] END bootstrap=False, max_depth=23, max_features=sqrt, min_samples_split=5, n_estimators=40; total time=   0.4s\n",
            "[CV] END bootstrap=False, max_depth=23, max_features=sqrt, min_samples_split=5, n_estimators=40; total time=   0.5s\n",
            "[CV] END bootstrap=False, max_depth=23, max_features=sqrt, min_samples_split=5, n_estimators=40; total time=   0.5s\n",
            "[CV] END bootstrap=False, max_depth=23, max_features=sqrt, min_samples_split=5, n_estimators=40; total time=   0.5s\n",
            "[CV] END bootstrap=False, max_depth=23, max_features=sqrt, min_samples_split=5, n_estimators=40; total time=   0.6s\n",
            "[CV] END bootstrap=False, max_depth=23, max_features=sqrt, min_samples_split=5, n_estimators=40; total time=   0.7s\n",
            "[CV] END bootstrap=True, max_depth=23, max_features=sqrt, min_samples_split=5, n_estimators=30; total time=   0.4s\n",
            "[CV] END bootstrap=True, max_depth=23, max_features=sqrt, min_samples_split=5, n_estimators=30; total time=   0.4s\n",
            "[CV] END bootstrap=True, max_depth=23, max_features=sqrt, min_samples_split=5, n_estimators=30; total time=   0.4s\n",
            "[CV] END bootstrap=True, max_depth=23, max_features=sqrt, min_samples_split=5, n_estimators=30; total time=   0.3s\n",
            "[CV] END bootstrap=True, max_depth=23, max_features=sqrt, min_samples_split=5, n_estimators=30; total time=   0.2s\n",
            "[CV] END bootstrap=True, max_depth=23, max_features=sqrt, min_samples_split=5, n_estimators=30; total time=   0.2s\n",
            "[CV] END bootstrap=True, max_depth=23, max_features=sqrt, min_samples_split=5, n_estimators=30; total time=   0.2s\n",
            "[CV] END bootstrap=True, max_depth=23, max_features=sqrt, min_samples_split=5, n_estimators=30; total time=   0.2s\n",
            "[CV] END bootstrap=True, max_depth=23, max_features=sqrt, min_samples_split=5, n_estimators=30; total time=   0.2s\n",
            "[CV] END bootstrap=True, max_depth=23, max_features=sqrt, min_samples_split=5, n_estimators=30; total time=   0.2s\n",
            "[CV] END bootstrap=False, max_depth=15, max_features=sqrt, min_samples_split=10, n_estimators=25; total time=   0.3s\n",
            "[CV] END bootstrap=False, max_depth=15, max_features=sqrt, min_samples_split=10, n_estimators=25; total time=   0.3s\n",
            "[CV] END bootstrap=False, max_depth=15, max_features=sqrt, min_samples_split=10, n_estimators=25; total time=   0.3s\n",
            "[CV] END bootstrap=False, max_depth=15, max_features=sqrt, min_samples_split=10, n_estimators=25; total time=   0.3s\n",
            "[CV] END bootstrap=False, max_depth=15, max_features=sqrt, min_samples_split=10, n_estimators=25; total time=   0.3s\n",
            "[CV] END bootstrap=False, max_depth=15, max_features=sqrt, min_samples_split=10, n_estimators=25; total time=   0.3s\n",
            "[CV] END bootstrap=False, max_depth=15, max_features=sqrt, min_samples_split=10, n_estimators=25; total time=   0.3s\n",
            "[CV] END bootstrap=False, max_depth=15, max_features=sqrt, min_samples_split=10, n_estimators=25; total time=   0.3s\n",
            "[CV] END bootstrap=False, max_depth=15, max_features=sqrt, min_samples_split=10, n_estimators=25; total time=   0.3s\n",
            "[CV] END bootstrap=False, max_depth=15, max_features=sqrt, min_samples_split=10, n_estimators=25; total time=   0.3s\n",
            "[CV] END bootstrap=False, max_depth=19, max_features=sqrt, min_samples_split=5, n_estimators=20; total time=   0.2s\n",
            "[CV] END bootstrap=False, max_depth=19, max_features=sqrt, min_samples_split=5, n_estimators=20; total time=   0.2s\n",
            "[CV] END bootstrap=False, max_depth=19, max_features=sqrt, min_samples_split=5, n_estimators=20; total time=   0.2s\n",
            "[CV] END bootstrap=False, max_depth=19, max_features=sqrt, min_samples_split=5, n_estimators=20; total time=   0.2s\n",
            "[CV] END bootstrap=False, max_depth=19, max_features=sqrt, min_samples_split=5, n_estimators=20; total time=   0.2s\n",
            "[CV] END bootstrap=False, max_depth=19, max_features=sqrt, min_samples_split=5, n_estimators=20; total time=   0.2s\n",
            "[CV] END bootstrap=False, max_depth=19, max_features=sqrt, min_samples_split=5, n_estimators=20; total time=   0.2s\n",
            "[CV] END bootstrap=False, max_depth=19, max_features=sqrt, min_samples_split=5, n_estimators=20; total time=   0.2s\n",
            "[CV] END bootstrap=False, max_depth=19, max_features=sqrt, min_samples_split=5, n_estimators=20; total time=   0.2s\n",
            "[CV] END bootstrap=False, max_depth=19, max_features=sqrt, min_samples_split=5, n_estimators=20; total time=   0.2s\n",
            "[CV] END bootstrap=False, max_depth=5, max_features=auto, min_samples_split=10, n_estimators=15; total time=   0.2s\n",
            "[CV] END bootstrap=False, max_depth=5, max_features=auto, min_samples_split=10, n_estimators=15; total time=   0.2s\n",
            "[CV] END bootstrap=False, max_depth=5, max_features=auto, min_samples_split=10, n_estimators=15; total time=   0.2s\n",
            "[CV] END bootstrap=False, max_depth=5, max_features=auto, min_samples_split=10, n_estimators=15; total time=   0.2s\n",
            "[CV] END bootstrap=False, max_depth=5, max_features=auto, min_samples_split=10, n_estimators=15; total time=   0.2s\n",
            "[CV] END bootstrap=False, max_depth=5, max_features=auto, min_samples_split=10, n_estimators=15; total time=   0.2s\n",
            "[CV] END bootstrap=False, max_depth=5, max_features=auto, min_samples_split=10, n_estimators=15; total time=   0.2s\n",
            "[CV] END bootstrap=False, max_depth=5, max_features=auto, min_samples_split=10, n_estimators=15; total time=   0.2s\n",
            "[CV] END bootstrap=False, max_depth=5, max_features=auto, min_samples_split=10, n_estimators=15; total time=   0.2s\n",
            "[CV] END bootstrap=False, max_depth=5, max_features=auto, min_samples_split=10, n_estimators=15; total time=   0.2s\n",
            "[CV] END bootstrap=True, max_depth=21, max_features=auto, min_samples_split=10, n_estimators=10; total time=   0.2s\n",
            "[CV] END bootstrap=True, max_depth=21, max_features=auto, min_samples_split=10, n_estimators=10; total time=   0.2s\n",
            "[CV] END bootstrap=True, max_depth=21, max_features=auto, min_samples_split=10, n_estimators=10; total time=   0.2s\n",
            "[CV] END bootstrap=True, max_depth=21, max_features=auto, min_samples_split=10, n_estimators=10; total time=   0.2s\n",
            "[CV] END bootstrap=True, max_depth=21, max_features=auto, min_samples_split=10, n_estimators=10; total time=   0.2s\n",
            "[CV] END bootstrap=True, max_depth=21, max_features=auto, min_samples_split=10, n_estimators=10; total time=   0.2s\n",
            "[CV] END bootstrap=True, max_depth=21, max_features=auto, min_samples_split=10, n_estimators=10; total time=   0.2s\n",
            "[CV] END bootstrap=True, max_depth=21, max_features=auto, min_samples_split=10, n_estimators=10; total time=   0.2s\n",
            "[CV] END bootstrap=True, max_depth=21, max_features=auto, min_samples_split=10, n_estimators=10; total time=   0.2s\n",
            "[CV] END bootstrap=True, max_depth=21, max_features=auto, min_samples_split=10, n_estimators=10; total time=   0.2s\n",
            "[CV] END bootstrap=True, max_depth=13, max_features=sqrt, min_samples_split=2, n_estimators=40; total time=   0.3s\n",
            "[CV] END bootstrap=True, max_depth=13, max_features=sqrt, min_samples_split=2, n_estimators=40; total time=   0.3s\n",
            "[CV] END bootstrap=True, max_depth=13, max_features=sqrt, min_samples_split=2, n_estimators=40; total time=   0.3s\n",
            "[CV] END bootstrap=True, max_depth=13, max_features=sqrt, min_samples_split=2, n_estimators=40; total time=   0.3s\n",
            "[CV] END bootstrap=True, max_depth=13, max_features=sqrt, min_samples_split=2, n_estimators=40; total time=   0.3s\n",
            "[CV] END bootstrap=True, max_depth=13, max_features=sqrt, min_samples_split=2, n_estimators=40; total time=   0.3s\n",
            "[CV] END bootstrap=True, max_depth=13, max_features=sqrt, min_samples_split=2, n_estimators=40; total time=   0.3s\n",
            "[CV] END bootstrap=True, max_depth=13, max_features=sqrt, min_samples_split=2, n_estimators=40; total time=   0.3s\n",
            "[CV] END bootstrap=True, max_depth=13, max_features=sqrt, min_samples_split=2, n_estimators=40; total time=   0.3s\n",
            "[CV] END bootstrap=True, max_depth=13, max_features=sqrt, min_samples_split=2, n_estimators=40; total time=   0.3s\n",
            "[CV] END bootstrap=True, max_depth=5, max_features=sqrt, min_samples_split=5, n_estimators=50; total time=   0.2s\n",
            "[CV] END bootstrap=True, max_depth=5, max_features=sqrt, min_samples_split=5, n_estimators=50; total time=   0.2s\n",
            "[CV] END bootstrap=True, max_depth=5, max_features=sqrt, min_samples_split=5, n_estimators=50; total time=   0.2s\n",
            "[CV] END bootstrap=True, max_depth=5, max_features=sqrt, min_samples_split=5, n_estimators=50; total time=   0.2s\n",
            "[CV] END bootstrap=True, max_depth=5, max_features=sqrt, min_samples_split=5, n_estimators=50; total time=   0.2s\n",
            "[CV] END bootstrap=True, max_depth=5, max_features=sqrt, min_samples_split=5, n_estimators=50; total time=   0.2s\n",
            "[CV] END bootstrap=True, max_depth=5, max_features=sqrt, min_samples_split=5, n_estimators=50; total time=   0.2s\n",
            "[CV] END bootstrap=True, max_depth=5, max_features=sqrt, min_samples_split=5, n_estimators=50; total time=   0.2s\n",
            "[CV] END bootstrap=True, max_depth=5, max_features=sqrt, min_samples_split=5, n_estimators=50; total time=   0.2s\n",
            "[CV] END bootstrap=True, max_depth=5, max_features=sqrt, min_samples_split=5, n_estimators=50; total time=   0.2s\n",
            "[CV] END bootstrap=False, max_depth=5, max_features=auto, min_samples_split=10, n_estimators=40; total time=   0.6s\n",
            "[CV] END bootstrap=False, max_depth=5, max_features=auto, min_samples_split=10, n_estimators=40; total time=   0.6s\n",
            "[CV] END bootstrap=False, max_depth=5, max_features=auto, min_samples_split=10, n_estimators=40; total time=   0.6s\n",
            "[CV] END bootstrap=False, max_depth=5, max_features=auto, min_samples_split=10, n_estimators=40; total time=   0.6s\n",
            "[CV] END bootstrap=False, max_depth=5, max_features=auto, min_samples_split=10, n_estimators=40; total time=   0.6s\n",
            "[CV] END bootstrap=False, max_depth=5, max_features=auto, min_samples_split=10, n_estimators=40; total time=   0.6s\n",
            "[CV] END bootstrap=False, max_depth=5, max_features=auto, min_samples_split=10, n_estimators=40; total time=   0.6s\n",
            "[CV] END bootstrap=False, max_depth=5, max_features=auto, min_samples_split=10, n_estimators=40; total time=   0.6s\n",
            "[CV] END bootstrap=False, max_depth=5, max_features=auto, min_samples_split=10, n_estimators=40; total time=   0.6s\n",
            "[CV] END bootstrap=False, max_depth=5, max_features=auto, min_samples_split=10, n_estimators=40; total time=   0.6s\n",
            "[CV] END bootstrap=False, max_depth=15, max_features=sqrt, min_samples_split=5, n_estimators=25; total time=   0.3s\n",
            "[CV] END bootstrap=False, max_depth=15, max_features=sqrt, min_samples_split=5, n_estimators=25; total time=   0.3s\n",
            "[CV] END bootstrap=False, max_depth=15, max_features=sqrt, min_samples_split=5, n_estimators=25; total time=   0.3s\n",
            "[CV] END bootstrap=False, max_depth=15, max_features=sqrt, min_samples_split=5, n_estimators=25; total time=   0.3s\n",
            "[CV] END bootstrap=False, max_depth=15, max_features=sqrt, min_samples_split=5, n_estimators=25; total time=   0.3s\n",
            "[CV] END bootstrap=False, max_depth=15, max_features=sqrt, min_samples_split=5, n_estimators=25; total time=   0.3s\n",
            "[CV] END bootstrap=False, max_depth=15, max_features=sqrt, min_samples_split=5, n_estimators=25; total time=   0.3s\n",
            "[CV] END bootstrap=False, max_depth=15, max_features=sqrt, min_samples_split=5, n_estimators=25; total time=   0.3s\n",
            "[CV] END bootstrap=False, max_depth=15, max_features=sqrt, min_samples_split=5, n_estimators=25; total time=   0.3s\n",
            "[CV] END bootstrap=False, max_depth=15, max_features=sqrt, min_samples_split=5, n_estimators=25; total time=   0.3s\n",
            "[CV] END bootstrap=False, max_depth=13, max_features=auto, min_samples_split=10, n_estimators=5; total time=   0.1s\n",
            "[CV] END bootstrap=False, max_depth=13, max_features=auto, min_samples_split=10, n_estimators=5; total time=   0.1s\n",
            "[CV] END bootstrap=False, max_depth=13, max_features=auto, min_samples_split=10, n_estimators=5; total time=   0.1s\n",
            "[CV] END bootstrap=False, max_depth=13, max_features=auto, min_samples_split=10, n_estimators=5; total time=   0.1s\n",
            "[CV] END bootstrap=False, max_depth=13, max_features=auto, min_samples_split=10, n_estimators=5; total time=   0.1s\n",
            "[CV] END bootstrap=False, max_depth=13, max_features=auto, min_samples_split=10, n_estimators=5; total time=   0.1s\n",
            "[CV] END bootstrap=False, max_depth=13, max_features=auto, min_samples_split=10, n_estimators=5; total time=   0.1s\n",
            "[CV] END bootstrap=False, max_depth=13, max_features=auto, min_samples_split=10, n_estimators=5; total time=   0.2s\n",
            "[CV] END bootstrap=False, max_depth=13, max_features=auto, min_samples_split=10, n_estimators=5; total time=   0.1s\n",
            "[CV] END bootstrap=False, max_depth=13, max_features=auto, min_samples_split=10, n_estimators=5; total time=   0.2s\n",
            "[CV] END bootstrap=True, max_depth=19, max_features=sqrt, min_samples_split=5, n_estimators=20; total time=   0.2s\n",
            "[CV] END bootstrap=True, max_depth=19, max_features=sqrt, min_samples_split=5, n_estimators=20; total time=   0.2s\n",
            "[CV] END bootstrap=True, max_depth=19, max_features=sqrt, min_samples_split=5, n_estimators=20; total time=   0.2s\n",
            "[CV] END bootstrap=True, max_depth=19, max_features=sqrt, min_samples_split=5, n_estimators=20; total time=   0.2s\n",
            "[CV] END bootstrap=True, max_depth=19, max_features=sqrt, min_samples_split=5, n_estimators=20; total time=   0.2s\n",
            "[CV] END bootstrap=True, max_depth=19, max_features=sqrt, min_samples_split=5, n_estimators=20; total time=   0.2s\n",
            "[CV] END bootstrap=True, max_depth=19, max_features=sqrt, min_samples_split=5, n_estimators=20; total time=   0.2s\n",
            "[CV] END bootstrap=True, max_depth=19, max_features=sqrt, min_samples_split=5, n_estimators=20; total time=   0.2s\n",
            "[CV] END bootstrap=True, max_depth=19, max_features=sqrt, min_samples_split=5, n_estimators=20; total time=   0.2s\n",
            "[CV] END bootstrap=True, max_depth=19, max_features=sqrt, min_samples_split=5, n_estimators=20; total time=   0.2s\n",
            "[CV] END bootstrap=False, max_depth=23, max_features=auto, min_samples_split=5, n_estimators=30; total time=   1.0s\n",
            "[CV] END bootstrap=False, max_depth=23, max_features=auto, min_samples_split=5, n_estimators=30; total time=   1.0s\n",
            "[CV] END bootstrap=False, max_depth=23, max_features=auto, min_samples_split=5, n_estimators=30; total time=   1.0s\n",
            "[CV] END bootstrap=False, max_depth=23, max_features=auto, min_samples_split=5, n_estimators=30; total time=   1.0s\n",
            "[CV] END bootstrap=False, max_depth=23, max_features=auto, min_samples_split=5, n_estimators=30; total time=   0.9s\n",
            "[CV] END bootstrap=False, max_depth=23, max_features=auto, min_samples_split=5, n_estimators=30; total time=   1.0s\n",
            "[CV] END bootstrap=False, max_depth=23, max_features=auto, min_samples_split=5, n_estimators=30; total time=   1.0s\n",
            "[CV] END bootstrap=False, max_depth=23, max_features=auto, min_samples_split=5, n_estimators=30; total time=   1.0s\n",
            "[CV] END bootstrap=False, max_depth=23, max_features=auto, min_samples_split=5, n_estimators=30; total time=   1.0s\n",
            "[CV] END bootstrap=False, max_depth=23, max_features=auto, min_samples_split=5, n_estimators=30; total time=   1.0s\n",
            "[CV] END bootstrap=False, max_depth=19, max_features=sqrt, min_samples_split=2, n_estimators=5; total time=   0.1s\n",
            "[CV] END bootstrap=False, max_depth=19, max_features=sqrt, min_samples_split=2, n_estimators=5; total time=   0.1s\n",
            "[CV] END bootstrap=False, max_depth=19, max_features=sqrt, min_samples_split=2, n_estimators=5; total time=   0.1s\n",
            "[CV] END bootstrap=False, max_depth=19, max_features=sqrt, min_samples_split=2, n_estimators=5; total time=   0.1s\n",
            "[CV] END bootstrap=False, max_depth=19, max_features=sqrt, min_samples_split=2, n_estimators=5; total time=   0.1s\n",
            "[CV] END bootstrap=False, max_depth=19, max_features=sqrt, min_samples_split=2, n_estimators=5; total time=   0.1s\n",
            "[CV] END bootstrap=False, max_depth=19, max_features=sqrt, min_samples_split=2, n_estimators=5; total time=   0.1s\n",
            "[CV] END bootstrap=False, max_depth=19, max_features=sqrt, min_samples_split=2, n_estimators=5; total time=   0.1s\n",
            "[CV] END bootstrap=False, max_depth=19, max_features=sqrt, min_samples_split=2, n_estimators=5; total time=   0.1s\n",
            "[CV] END bootstrap=False, max_depth=19, max_features=sqrt, min_samples_split=2, n_estimators=5; total time=   0.1s\n",
            "[CV] END bootstrap=True, max_depth=9, max_features=sqrt, min_samples_split=10, n_estimators=50; total time=   0.3s\n",
            "[CV] END bootstrap=True, max_depth=9, max_features=sqrt, min_samples_split=10, n_estimators=50; total time=   0.3s\n",
            "[CV] END bootstrap=True, max_depth=9, max_features=sqrt, min_samples_split=10, n_estimators=50; total time=   0.3s\n",
            "[CV] END bootstrap=True, max_depth=9, max_features=sqrt, min_samples_split=10, n_estimators=50; total time=   0.3s\n",
            "[CV] END bootstrap=True, max_depth=9, max_features=sqrt, min_samples_split=10, n_estimators=50; total time=   0.3s\n",
            "[CV] END bootstrap=True, max_depth=9, max_features=sqrt, min_samples_split=10, n_estimators=50; total time=   0.3s\n",
            "[CV] END bootstrap=True, max_depth=9, max_features=sqrt, min_samples_split=10, n_estimators=50; total time=   0.3s\n",
            "[CV] END bootstrap=True, max_depth=9, max_features=sqrt, min_samples_split=10, n_estimators=50; total time=   0.3s\n",
            "[CV] END bootstrap=True, max_depth=9, max_features=sqrt, min_samples_split=10, n_estimators=50; total time=   0.3s\n",
            "[CV] END bootstrap=True, max_depth=9, max_features=sqrt, min_samples_split=10, n_estimators=50; total time=   0.3s\n",
            "[CV] END bootstrap=False, max_depth=23, max_features=auto, min_samples_split=2, n_estimators=20; total time=   0.7s\n",
            "[CV] END bootstrap=False, max_depth=23, max_features=auto, min_samples_split=2, n_estimators=20; total time=   0.7s\n",
            "[CV] END bootstrap=False, max_depth=23, max_features=auto, min_samples_split=2, n_estimators=20; total time=   0.7s\n",
            "[CV] END bootstrap=False, max_depth=23, max_features=auto, min_samples_split=2, n_estimators=20; total time=   0.7s\n",
            "[CV] END bootstrap=False, max_depth=23, max_features=auto, min_samples_split=2, n_estimators=20; total time=   0.7s\n",
            "[CV] END bootstrap=False, max_depth=23, max_features=auto, min_samples_split=2, n_estimators=20; total time=   0.7s\n",
            "[CV] END bootstrap=False, max_depth=23, max_features=auto, min_samples_split=2, n_estimators=20; total time=   0.7s\n",
            "[CV] END bootstrap=False, max_depth=23, max_features=auto, min_samples_split=2, n_estimators=20; total time=   0.7s\n",
            "[CV] END bootstrap=False, max_depth=23, max_features=auto, min_samples_split=2, n_estimators=20; total time=   0.7s\n",
            "[CV] END bootstrap=False, max_depth=23, max_features=auto, min_samples_split=2, n_estimators=20; total time=   0.7s\n",
            "[CV] END bootstrap=False, max_depth=19, max_features=auto, min_samples_split=10, n_estimators=25; total time=   0.8s\n",
            "[CV] END bootstrap=False, max_depth=19, max_features=auto, min_samples_split=10, n_estimators=25; total time=   0.8s\n",
            "[CV] END bootstrap=False, max_depth=19, max_features=auto, min_samples_split=10, n_estimators=25; total time=   0.8s\n",
            "[CV] END bootstrap=False, max_depth=19, max_features=auto, min_samples_split=10, n_estimators=25; total time=   0.8s\n",
            "[CV] END bootstrap=False, max_depth=19, max_features=auto, min_samples_split=10, n_estimators=25; total time=   0.7s\n",
            "[CV] END bootstrap=False, max_depth=19, max_features=auto, min_samples_split=10, n_estimators=25; total time=   0.8s\n",
            "[CV] END bootstrap=False, max_depth=19, max_features=auto, min_samples_split=10, n_estimators=25; total time=   0.8s\n",
            "[CV] END bootstrap=False, max_depth=19, max_features=auto, min_samples_split=10, n_estimators=25; total time=   0.7s\n",
            "[CV] END bootstrap=False, max_depth=19, max_features=auto, min_samples_split=10, n_estimators=25; total time=   0.8s\n",
            "[CV] END bootstrap=False, max_depth=19, max_features=auto, min_samples_split=10, n_estimators=25; total time=   0.7s\n",
            "[CV] END bootstrap=False, max_depth=5, max_features=sqrt, min_samples_split=2, n_estimators=20; total time=   0.1s\n",
            "[CV] END bootstrap=False, max_depth=5, max_features=sqrt, min_samples_split=2, n_estimators=20; total time=   0.1s\n",
            "[CV] END bootstrap=False, max_depth=5, max_features=sqrt, min_samples_split=2, n_estimators=20; total time=   0.1s\n",
            "[CV] END bootstrap=False, max_depth=5, max_features=sqrt, min_samples_split=2, n_estimators=20; total time=   0.1s\n",
            "[CV] END bootstrap=False, max_depth=5, max_features=sqrt, min_samples_split=2, n_estimators=20; total time=   0.1s\n",
            "[CV] END bootstrap=False, max_depth=5, max_features=sqrt, min_samples_split=2, n_estimators=20; total time=   0.1s\n",
            "[CV] END bootstrap=False, max_depth=5, max_features=sqrt, min_samples_split=2, n_estimators=20; total time=   0.1s\n",
            "[CV] END bootstrap=False, max_depth=5, max_features=sqrt, min_samples_split=2, n_estimators=20; total time=   0.1s\n",
            "[CV] END bootstrap=False, max_depth=5, max_features=sqrt, min_samples_split=2, n_estimators=20; total time=   0.1s\n",
            "[CV] END bootstrap=False, max_depth=5, max_features=sqrt, min_samples_split=2, n_estimators=20; total time=   0.1s\n",
            "[CV] END bootstrap=True, max_depth=21, max_features=auto, min_samples_split=2, n_estimators=10; total time=   0.2s\n",
            "[CV] END bootstrap=True, max_depth=21, max_features=auto, min_samples_split=2, n_estimators=10; total time=   0.2s\n",
            "[CV] END bootstrap=True, max_depth=21, max_features=auto, min_samples_split=2, n_estimators=10; total time=   0.2s\n",
            "[CV] END bootstrap=True, max_depth=21, max_features=auto, min_samples_split=2, n_estimators=10; total time=   0.2s\n",
            "[CV] END bootstrap=True, max_depth=21, max_features=auto, min_samples_split=2, n_estimators=10; total time=   0.2s\n",
            "[CV] END bootstrap=True, max_depth=21, max_features=auto, min_samples_split=2, n_estimators=10; total time=   0.2s\n",
            "[CV] END bootstrap=True, max_depth=21, max_features=auto, min_samples_split=2, n_estimators=10; total time=   0.2s\n",
            "[CV] END bootstrap=True, max_depth=21, max_features=auto, min_samples_split=2, n_estimators=10; total time=   0.2s\n",
            "[CV] END bootstrap=True, max_depth=21, max_features=auto, min_samples_split=2, n_estimators=10; total time=   0.2s\n",
            "[CV] END bootstrap=True, max_depth=21, max_features=auto, min_samples_split=2, n_estimators=10; total time=   0.2s\n",
            "[CV] END bootstrap=False, max_depth=23, max_features=auto, min_samples_split=10, n_estimators=40; total time=   1.2s\n",
            "[CV] END bootstrap=False, max_depth=23, max_features=auto, min_samples_split=10, n_estimators=40; total time=   1.3s\n",
            "[CV] END bootstrap=False, max_depth=23, max_features=auto, min_samples_split=10, n_estimators=40; total time=   1.2s\n",
            "[CV] END bootstrap=False, max_depth=23, max_features=auto, min_samples_split=10, n_estimators=40; total time=   1.2s\n",
            "[CV] END bootstrap=False, max_depth=23, max_features=auto, min_samples_split=10, n_estimators=40; total time=   1.2s\n",
            "[CV] END bootstrap=False, max_depth=23, max_features=auto, min_samples_split=10, n_estimators=40; total time=   1.2s\n",
            "[CV] END bootstrap=False, max_depth=23, max_features=auto, min_samples_split=10, n_estimators=40; total time=   1.2s\n",
            "[CV] END bootstrap=False, max_depth=23, max_features=auto, min_samples_split=10, n_estimators=40; total time=   1.2s\n",
            "[CV] END bootstrap=False, max_depth=23, max_features=auto, min_samples_split=10, n_estimators=40; total time=   1.2s\n",
            "[CV] END bootstrap=False, max_depth=23, max_features=auto, min_samples_split=10, n_estimators=40; total time=   1.2s\n",
            "[CV] END bootstrap=False, max_depth=13, max_features=sqrt, min_samples_split=2, n_estimators=25; total time=   0.3s\n",
            "[CV] END bootstrap=False, max_depth=13, max_features=sqrt, min_samples_split=2, n_estimators=25; total time=   0.3s\n",
            "[CV] END bootstrap=False, max_depth=13, max_features=sqrt, min_samples_split=2, n_estimators=25; total time=   0.3s\n",
            "[CV] END bootstrap=False, max_depth=13, max_features=sqrt, min_samples_split=2, n_estimators=25; total time=   0.3s\n",
            "[CV] END bootstrap=False, max_depth=13, max_features=sqrt, min_samples_split=2, n_estimators=25; total time=   0.3s\n",
            "[CV] END bootstrap=False, max_depth=13, max_features=sqrt, min_samples_split=2, n_estimators=25; total time=   0.3s\n",
            "[CV] END bootstrap=False, max_depth=13, max_features=sqrt, min_samples_split=2, n_estimators=25; total time=   0.3s\n",
            "[CV] END bootstrap=False, max_depth=13, max_features=sqrt, min_samples_split=2, n_estimators=25; total time=   0.3s\n",
            "[CV] END bootstrap=False, max_depth=13, max_features=sqrt, min_samples_split=2, n_estimators=25; total time=   0.3s\n",
            "[CV] END bootstrap=False, max_depth=13, max_features=sqrt, min_samples_split=2, n_estimators=25; total time=   0.3s\n",
            "[CV] END bootstrap=True, max_depth=19, max_features=auto, min_samples_split=10, n_estimators=10; total time=   0.2s\n",
            "[CV] END bootstrap=True, max_depth=19, max_features=auto, min_samples_split=10, n_estimators=10; total time=   0.2s\n",
            "[CV] END bootstrap=True, max_depth=19, max_features=auto, min_samples_split=10, n_estimators=10; total time=   0.2s\n",
            "[CV] END bootstrap=True, max_depth=19, max_features=auto, min_samples_split=10, n_estimators=10; total time=   0.2s\n",
            "[CV] END bootstrap=True, max_depth=19, max_features=auto, min_samples_split=10, n_estimators=10; total time=   0.2s\n",
            "[CV] END bootstrap=True, max_depth=19, max_features=auto, min_samples_split=10, n_estimators=10; total time=   0.2s\n",
            "[CV] END bootstrap=True, max_depth=19, max_features=auto, min_samples_split=10, n_estimators=10; total time=   0.2s\n",
            "[CV] END bootstrap=True, max_depth=19, max_features=auto, min_samples_split=10, n_estimators=10; total time=   0.2s\n",
            "[CV] END bootstrap=True, max_depth=19, max_features=auto, min_samples_split=10, n_estimators=10; total time=   0.2s\n",
            "[CV] END bootstrap=True, max_depth=19, max_features=auto, min_samples_split=10, n_estimators=10; total time=   0.2s\n",
            "[CV] END bootstrap=True, max_depth=15, max_features=auto, min_samples_split=2, n_estimators=50; total time=   1.0s\n",
            "[CV] END bootstrap=True, max_depth=15, max_features=auto, min_samples_split=2, n_estimators=50; total time=   1.0s\n",
            "[CV] END bootstrap=True, max_depth=15, max_features=auto, min_samples_split=2, n_estimators=50; total time=   1.0s\n",
            "[CV] END bootstrap=True, max_depth=15, max_features=auto, min_samples_split=2, n_estimators=50; total time=   1.0s\n",
            "[CV] END bootstrap=True, max_depth=15, max_features=auto, min_samples_split=2, n_estimators=50; total time=   1.0s\n",
            "[CV] END bootstrap=True, max_depth=15, max_features=auto, min_samples_split=2, n_estimators=50; total time=   1.0s\n",
            "[CV] END bootstrap=True, max_depth=15, max_features=auto, min_samples_split=2, n_estimators=50; total time=   1.0s\n",
            "[CV] END bootstrap=True, max_depth=15, max_features=auto, min_samples_split=2, n_estimators=50; total time=   1.0s\n",
            "[CV] END bootstrap=True, max_depth=15, max_features=auto, min_samples_split=2, n_estimators=50; total time=   1.0s\n",
            "[CV] END bootstrap=True, max_depth=15, max_features=auto, min_samples_split=2, n_estimators=50; total time=   1.0s\n",
            "[CV] END bootstrap=False, max_depth=9, max_features=sqrt, min_samples_split=2, n_estimators=15; total time=   0.1s\n",
            "[CV] END bootstrap=False, max_depth=9, max_features=sqrt, min_samples_split=2, n_estimators=15; total time=   0.1s\n",
            "[CV] END bootstrap=False, max_depth=9, max_features=sqrt, min_samples_split=2, n_estimators=15; total time=   0.1s\n",
            "[CV] END bootstrap=False, max_depth=9, max_features=sqrt, min_samples_split=2, n_estimators=15; total time=   0.1s\n",
            "[CV] END bootstrap=False, max_depth=9, max_features=sqrt, min_samples_split=2, n_estimators=15; total time=   0.1s\n",
            "[CV] END bootstrap=False, max_depth=9, max_features=sqrt, min_samples_split=2, n_estimators=15; total time=   0.1s\n",
            "[CV] END bootstrap=False, max_depth=9, max_features=sqrt, min_samples_split=2, n_estimators=15; total time=   0.1s\n",
            "[CV] END bootstrap=False, max_depth=9, max_features=sqrt, min_samples_split=2, n_estimators=15; total time=   0.2s\n",
            "[CV] END bootstrap=False, max_depth=9, max_features=sqrt, min_samples_split=2, n_estimators=15; total time=   0.1s\n",
            "[CV] END bootstrap=False, max_depth=9, max_features=sqrt, min_samples_split=2, n_estimators=15; total time=   0.1s\n",
            "[CV] END bootstrap=False, max_depth=5, max_features=auto, min_samples_split=2, n_estimators=15; total time=   0.2s\n",
            "[CV] END bootstrap=False, max_depth=5, max_features=auto, min_samples_split=2, n_estimators=15; total time=   0.2s\n",
            "[CV] END bootstrap=False, max_depth=5, max_features=auto, min_samples_split=2, n_estimators=15; total time=   0.2s\n",
            "[CV] END bootstrap=False, max_depth=5, max_features=auto, min_samples_split=2, n_estimators=15; total time=   0.2s\n",
            "[CV] END bootstrap=False, max_depth=5, max_features=auto, min_samples_split=2, n_estimators=15; total time=   0.2s\n",
            "[CV] END bootstrap=False, max_depth=5, max_features=auto, min_samples_split=2, n_estimators=15; total time=   0.2s\n",
            "[CV] END bootstrap=False, max_depth=5, max_features=auto, min_samples_split=2, n_estimators=15; total time=   0.2s\n",
            "[CV] END bootstrap=False, max_depth=5, max_features=auto, min_samples_split=2, n_estimators=15; total time=   0.2s\n",
            "[CV] END bootstrap=False, max_depth=5, max_features=auto, min_samples_split=2, n_estimators=15; total time=   0.2s\n",
            "[CV] END bootstrap=False, max_depth=5, max_features=auto, min_samples_split=2, n_estimators=15; total time=   0.2s\n",
            "[CV] END bootstrap=True, max_depth=17, max_features=sqrt, min_samples_split=2, n_estimators=10; total time=   0.1s\n",
            "[CV] END bootstrap=True, max_depth=17, max_features=sqrt, min_samples_split=2, n_estimators=10; total time=   0.1s\n",
            "[CV] END bootstrap=True, max_depth=17, max_features=sqrt, min_samples_split=2, n_estimators=10; total time=   0.1s\n",
            "[CV] END bootstrap=True, max_depth=17, max_features=sqrt, min_samples_split=2, n_estimators=10; total time=   0.1s\n",
            "[CV] END bootstrap=True, max_depth=17, max_features=sqrt, min_samples_split=2, n_estimators=10; total time=   0.1s\n",
            "[CV] END bootstrap=True, max_depth=17, max_features=sqrt, min_samples_split=2, n_estimators=10; total time=   0.1s\n",
            "[CV] END bootstrap=True, max_depth=17, max_features=sqrt, min_samples_split=2, n_estimators=10; total time=   0.1s\n",
            "[CV] END bootstrap=True, max_depth=17, max_features=sqrt, min_samples_split=2, n_estimators=10; total time=   0.1s\n",
            "[CV] END bootstrap=True, max_depth=17, max_features=sqrt, min_samples_split=2, n_estimators=10; total time=   0.1s\n",
            "[CV] END bootstrap=True, max_depth=17, max_features=sqrt, min_samples_split=2, n_estimators=10; total time=   0.1s\n",
            "[CV] END bootstrap=True, max_depth=9, max_features=sqrt, min_samples_split=2, n_estimators=20; total time=   0.1s\n",
            "[CV] END bootstrap=True, max_depth=9, max_features=sqrt, min_samples_split=2, n_estimators=20; total time=   0.1s\n",
            "[CV] END bootstrap=True, max_depth=9, max_features=sqrt, min_samples_split=2, n_estimators=20; total time=   0.1s\n",
            "[CV] END bootstrap=True, max_depth=9, max_features=sqrt, min_samples_split=2, n_estimators=20; total time=   0.1s\n",
            "[CV] END bootstrap=True, max_depth=9, max_features=sqrt, min_samples_split=2, n_estimators=20; total time=   0.1s\n",
            "[CV] END bootstrap=True, max_depth=9, max_features=sqrt, min_samples_split=2, n_estimators=20; total time=   0.1s\n",
            "[CV] END bootstrap=True, max_depth=9, max_features=sqrt, min_samples_split=2, n_estimators=20; total time=   0.1s\n",
            "[CV] END bootstrap=True, max_depth=9, max_features=sqrt, min_samples_split=2, n_estimators=20; total time=   0.1s\n",
            "[CV] END bootstrap=True, max_depth=9, max_features=sqrt, min_samples_split=2, n_estimators=20; total time=   0.1s\n",
            "[CV] END bootstrap=True, max_depth=9, max_features=sqrt, min_samples_split=2, n_estimators=20; total time=   0.1s\n",
            "[CV] END bootstrap=True, max_depth=11, max_features=sqrt, min_samples_split=10, n_estimators=10; total time=   0.1s\n",
            "[CV] END bootstrap=True, max_depth=11, max_features=sqrt, min_samples_split=10, n_estimators=10; total time=   0.1s\n",
            "[CV] END bootstrap=True, max_depth=11, max_features=sqrt, min_samples_split=10, n_estimators=10; total time=   0.1s\n",
            "[CV] END bootstrap=True, max_depth=11, max_features=sqrt, min_samples_split=10, n_estimators=10; total time=   0.1s\n",
            "[CV] END bootstrap=True, max_depth=11, max_features=sqrt, min_samples_split=10, n_estimators=10; total time=   0.1s\n",
            "[CV] END bootstrap=True, max_depth=11, max_features=sqrt, min_samples_split=10, n_estimators=10; total time=   0.1s\n",
            "[CV] END bootstrap=True, max_depth=11, max_features=sqrt, min_samples_split=10, n_estimators=10; total time=   0.1s\n",
            "[CV] END bootstrap=True, max_depth=11, max_features=sqrt, min_samples_split=10, n_estimators=10; total time=   0.1s\n",
            "[CV] END bootstrap=True, max_depth=11, max_features=sqrt, min_samples_split=10, n_estimators=10; total time=   0.1s\n",
            "[CV] END bootstrap=True, max_depth=11, max_features=sqrt, min_samples_split=10, n_estimators=10; total time=   0.1s\n",
            "[CV] END bootstrap=False, max_depth=9, max_features=auto, min_samples_split=2, n_estimators=15; total time=   0.4s\n",
            "[CV] END bootstrap=False, max_depth=9, max_features=auto, min_samples_split=2, n_estimators=15; total time=   0.4s\n",
            "[CV] END bootstrap=False, max_depth=9, max_features=auto, min_samples_split=2, n_estimators=15; total time=   0.4s\n",
            "[CV] END bootstrap=False, max_depth=9, max_features=auto, min_samples_split=2, n_estimators=15; total time=   0.4s\n",
            "[CV] END bootstrap=False, max_depth=9, max_features=auto, min_samples_split=2, n_estimators=15; total time=   0.3s\n",
            "[CV] END bootstrap=False, max_depth=9, max_features=auto, min_samples_split=2, n_estimators=15; total time=   0.4s\n",
            "[CV] END bootstrap=False, max_depth=9, max_features=auto, min_samples_split=2, n_estimators=15; total time=   0.4s\n",
            "[CV] END bootstrap=False, max_depth=9, max_features=auto, min_samples_split=2, n_estimators=15; total time=   0.4s\n",
            "[CV] END bootstrap=False, max_depth=9, max_features=auto, min_samples_split=2, n_estimators=15; total time=   0.4s\n",
            "[CV] END bootstrap=False, max_depth=9, max_features=auto, min_samples_split=2, n_estimators=15; total time=   0.4s\n",
            "[CV] END bootstrap=True, max_depth=15, max_features=auto, min_samples_split=5, n_estimators=50; total time=   1.0s\n",
            "[CV] END bootstrap=True, max_depth=15, max_features=auto, min_samples_split=5, n_estimators=50; total time=   1.0s\n",
            "[CV] END bootstrap=True, max_depth=15, max_features=auto, min_samples_split=5, n_estimators=50; total time=   1.0s\n",
            "[CV] END bootstrap=True, max_depth=15, max_features=auto, min_samples_split=5, n_estimators=50; total time=   1.0s\n",
            "[CV] END bootstrap=True, max_depth=15, max_features=auto, min_samples_split=5, n_estimators=50; total time=   1.0s\n",
            "[CV] END bootstrap=True, max_depth=15, max_features=auto, min_samples_split=5, n_estimators=50; total time=   1.0s\n",
            "[CV] END bootstrap=True, max_depth=15, max_features=auto, min_samples_split=5, n_estimators=50; total time=   1.0s\n",
            "[CV] END bootstrap=True, max_depth=15, max_features=auto, min_samples_split=5, n_estimators=50; total time=   0.9s\n",
            "[CV] END bootstrap=True, max_depth=15, max_features=auto, min_samples_split=5, n_estimators=50; total time=   1.0s\n",
            "[CV] END bootstrap=True, max_depth=15, max_features=auto, min_samples_split=5, n_estimators=50; total time=   0.9s\n",
            "[CV] END bootstrap=True, max_depth=13, max_features=auto, min_samples_split=2, n_estimators=40; total time=   0.8s\n",
            "[CV] END bootstrap=True, max_depth=13, max_features=auto, min_samples_split=2, n_estimators=40; total time=   0.8s\n",
            "[CV] END bootstrap=True, max_depth=13, max_features=auto, min_samples_split=2, n_estimators=40; total time=   0.8s\n",
            "[CV] END bootstrap=True, max_depth=13, max_features=auto, min_samples_split=2, n_estimators=40; total time=   0.8s\n",
            "[CV] END bootstrap=True, max_depth=13, max_features=auto, min_samples_split=2, n_estimators=40; total time=   0.8s\n",
            "[CV] END bootstrap=True, max_depth=13, max_features=auto, min_samples_split=2, n_estimators=40; total time=   0.8s\n",
            "[CV] END bootstrap=True, max_depth=13, max_features=auto, min_samples_split=2, n_estimators=40; total time=   0.8s\n",
            "[CV] END bootstrap=True, max_depth=13, max_features=auto, min_samples_split=2, n_estimators=40; total time=   0.8s\n",
            "[CV] END bootstrap=True, max_depth=13, max_features=auto, min_samples_split=2, n_estimators=40; total time=   0.8s\n",
            "[CV] END bootstrap=True, max_depth=13, max_features=auto, min_samples_split=2, n_estimators=40; total time=   0.8s\n",
            "[CV] END bootstrap=True, max_depth=13, max_features=sqrt, min_samples_split=2, n_estimators=10; total time=   0.1s\n",
            "[CV] END bootstrap=True, max_depth=13, max_features=sqrt, min_samples_split=2, n_estimators=10; total time=   0.1s\n",
            "[CV] END bootstrap=True, max_depth=13, max_features=sqrt, min_samples_split=2, n_estimators=10; total time=   0.1s\n",
            "[CV] END bootstrap=True, max_depth=13, max_features=sqrt, min_samples_split=2, n_estimators=10; total time=   0.1s\n",
            "[CV] END bootstrap=True, max_depth=13, max_features=sqrt, min_samples_split=2, n_estimators=10; total time=   0.1s\n",
            "[CV] END bootstrap=True, max_depth=13, max_features=sqrt, min_samples_split=2, n_estimators=10; total time=   0.1s\n",
            "[CV] END bootstrap=True, max_depth=13, max_features=sqrt, min_samples_split=2, n_estimators=10; total time=   0.1s\n",
            "[CV] END bootstrap=True, max_depth=13, max_features=sqrt, min_samples_split=2, n_estimators=10; total time=   0.1s\n",
            "[CV] END bootstrap=True, max_depth=13, max_features=sqrt, min_samples_split=2, n_estimators=10; total time=   0.1s\n",
            "[CV] END bootstrap=True, max_depth=13, max_features=sqrt, min_samples_split=2, n_estimators=10; total time=   0.1s\n",
            "[CV] END bootstrap=False, max_depth=11, max_features=sqrt, min_samples_split=5, n_estimators=10; total time=   0.1s\n",
            "[CV] END bootstrap=False, max_depth=11, max_features=sqrt, min_samples_split=5, n_estimators=10; total time=   0.1s\n",
            "[CV] END bootstrap=False, max_depth=11, max_features=sqrt, min_samples_split=5, n_estimators=10; total time=   0.1s\n",
            "[CV] END bootstrap=False, max_depth=11, max_features=sqrt, min_samples_split=5, n_estimators=10; total time=   0.1s\n",
            "[CV] END bootstrap=False, max_depth=11, max_features=sqrt, min_samples_split=5, n_estimators=10; total time=   0.1s\n",
            "[CV] END bootstrap=False, max_depth=11, max_features=sqrt, min_samples_split=5, n_estimators=10; total time=   0.1s\n",
            "[CV] END bootstrap=False, max_depth=11, max_features=sqrt, min_samples_split=5, n_estimators=10; total time=   0.1s\n",
            "[CV] END bootstrap=False, max_depth=11, max_features=sqrt, min_samples_split=5, n_estimators=10; total time=   0.1s\n",
            "[CV] END bootstrap=False, max_depth=11, max_features=sqrt, min_samples_split=5, n_estimators=10; total time=   0.1s\n",
            "[CV] END bootstrap=False, max_depth=11, max_features=sqrt, min_samples_split=5, n_estimators=10; total time=   0.1s\n",
            "[CV] END bootstrap=False, max_depth=17, max_features=sqrt, min_samples_split=5, n_estimators=5; total time=   0.1s\n",
            "[CV] END bootstrap=False, max_depth=17, max_features=sqrt, min_samples_split=5, n_estimators=5; total time=   0.1s\n",
            "[CV] END bootstrap=False, max_depth=17, max_features=sqrt, min_samples_split=5, n_estimators=5; total time=   0.1s\n",
            "[CV] END bootstrap=False, max_depth=17, max_features=sqrt, min_samples_split=5, n_estimators=5; total time=   0.1s\n",
            "[CV] END bootstrap=False, max_depth=17, max_features=sqrt, min_samples_split=5, n_estimators=5; total time=   0.1s\n",
            "[CV] END bootstrap=False, max_depth=17, max_features=sqrt, min_samples_split=5, n_estimators=5; total time=   0.1s\n",
            "[CV] END bootstrap=False, max_depth=17, max_features=sqrt, min_samples_split=5, n_estimators=5; total time=   0.1s\n",
            "[CV] END bootstrap=False, max_depth=17, max_features=sqrt, min_samples_split=5, n_estimators=5; total time=   0.1s\n",
            "[CV] END bootstrap=False, max_depth=17, max_features=sqrt, min_samples_split=5, n_estimators=5; total time=   0.1s\n",
            "[CV] END bootstrap=False, max_depth=17, max_features=sqrt, min_samples_split=5, n_estimators=5; total time=   0.1s\n",
            "[CV] END bootstrap=False, max_depth=7, max_features=sqrt, min_samples_split=10, n_estimators=25; total time=   0.2s\n",
            "[CV] END bootstrap=False, max_depth=7, max_features=sqrt, min_samples_split=10, n_estimators=25; total time=   0.2s\n",
            "[CV] END bootstrap=False, max_depth=7, max_features=sqrt, min_samples_split=10, n_estimators=25; total time=   0.2s\n",
            "[CV] END bootstrap=False, max_depth=7, max_features=sqrt, min_samples_split=10, n_estimators=25; total time=   0.2s\n",
            "[CV] END bootstrap=False, max_depth=7, max_features=sqrt, min_samples_split=10, n_estimators=25; total time=   0.2s\n",
            "[CV] END bootstrap=False, max_depth=7, max_features=sqrt, min_samples_split=10, n_estimators=25; total time=   0.2s\n",
            "[CV] END bootstrap=False, max_depth=7, max_features=sqrt, min_samples_split=10, n_estimators=25; total time=   0.2s\n",
            "[CV] END bootstrap=False, max_depth=7, max_features=sqrt, min_samples_split=10, n_estimators=25; total time=   0.2s\n",
            "[CV] END bootstrap=False, max_depth=7, max_features=sqrt, min_samples_split=10, n_estimators=25; total time=   0.2s\n",
            "[CV] END bootstrap=False, max_depth=7, max_features=sqrt, min_samples_split=10, n_estimators=25; total time=   0.2s\n",
            "[CV] END bootstrap=True, max_depth=15, max_features=sqrt, min_samples_split=10, n_estimators=15; total time=   0.1s\n",
            "[CV] END bootstrap=True, max_depth=15, max_features=sqrt, min_samples_split=10, n_estimators=15; total time=   0.1s\n",
            "[CV] END bootstrap=True, max_depth=15, max_features=sqrt, min_samples_split=10, n_estimators=15; total time=   0.1s\n",
            "[CV] END bootstrap=True, max_depth=15, max_features=sqrt, min_samples_split=10, n_estimators=15; total time=   0.1s\n",
            "[CV] END bootstrap=True, max_depth=15, max_features=sqrt, min_samples_split=10, n_estimators=15; total time=   0.1s\n",
            "[CV] END bootstrap=True, max_depth=15, max_features=sqrt, min_samples_split=10, n_estimators=15; total time=   0.1s\n",
            "[CV] END bootstrap=True, max_depth=15, max_features=sqrt, min_samples_split=10, n_estimators=15; total time=   0.1s\n",
            "[CV] END bootstrap=True, max_depth=15, max_features=sqrt, min_samples_split=10, n_estimators=15; total time=   0.1s\n",
            "[CV] END bootstrap=True, max_depth=15, max_features=sqrt, min_samples_split=10, n_estimators=15; total time=   0.1s\n",
            "[CV] END bootstrap=True, max_depth=15, max_features=sqrt, min_samples_split=10, n_estimators=15; total time=   0.1s\n",
            "[CV] END bootstrap=False, max_depth=7, max_features=auto, min_samples_split=2, n_estimators=40; total time=   0.8s\n",
            "[CV] END bootstrap=False, max_depth=7, max_features=auto, min_samples_split=2, n_estimators=40; total time=   0.8s\n",
            "[CV] END bootstrap=False, max_depth=7, max_features=auto, min_samples_split=2, n_estimators=40; total time=   0.8s\n",
            "[CV] END bootstrap=False, max_depth=7, max_features=auto, min_samples_split=2, n_estimators=40; total time=   0.8s\n",
            "[CV] END bootstrap=False, max_depth=7, max_features=auto, min_samples_split=2, n_estimators=40; total time=   0.8s\n",
            "[CV] END bootstrap=False, max_depth=7, max_features=auto, min_samples_split=2, n_estimators=40; total time=   0.8s\n",
            "[CV] END bootstrap=False, max_depth=7, max_features=auto, min_samples_split=2, n_estimators=40; total time=   0.8s\n",
            "[CV] END bootstrap=False, max_depth=7, max_features=auto, min_samples_split=2, n_estimators=40; total time=   0.8s\n",
            "[CV] END bootstrap=False, max_depth=7, max_features=auto, min_samples_split=2, n_estimators=40; total time=   0.8s\n",
            "[CV] END bootstrap=False, max_depth=7, max_features=auto, min_samples_split=2, n_estimators=40; total time=   0.8s\n",
            "[CV] END bootstrap=False, max_depth=23, max_features=auto, min_samples_split=2, n_estimators=15; total time=   0.5s\n",
            "[CV] END bootstrap=False, max_depth=23, max_features=auto, min_samples_split=2, n_estimators=15; total time=   0.6s\n",
            "[CV] END bootstrap=False, max_depth=23, max_features=auto, min_samples_split=2, n_estimators=15; total time=   0.5s\n",
            "[CV] END bootstrap=False, max_depth=23, max_features=auto, min_samples_split=2, n_estimators=15; total time=   0.5s\n",
            "[CV] END bootstrap=False, max_depth=23, max_features=auto, min_samples_split=2, n_estimators=15; total time=   0.5s\n",
            "[CV] END bootstrap=False, max_depth=23, max_features=auto, min_samples_split=2, n_estimators=15; total time=   0.5s\n",
            "[CV] END bootstrap=False, max_depth=23, max_features=auto, min_samples_split=2, n_estimators=15; total time=   0.5s\n",
            "[CV] END bootstrap=False, max_depth=23, max_features=auto, min_samples_split=2, n_estimators=15; total time=   0.5s\n",
            "[CV] END bootstrap=False, max_depth=23, max_features=auto, min_samples_split=2, n_estimators=15; total time=   0.5s\n",
            "[CV] END bootstrap=False, max_depth=23, max_features=auto, min_samples_split=2, n_estimators=15; total time=   0.5s\n",
            "[CV] END bootstrap=False, max_depth=15, max_features=sqrt, min_samples_split=5, n_estimators=50; total time=   0.5s\n",
            "[CV] END bootstrap=False, max_depth=15, max_features=sqrt, min_samples_split=5, n_estimators=50; total time=   0.6s\n",
            "[CV] END bootstrap=False, max_depth=15, max_features=sqrt, min_samples_split=5, n_estimators=50; total time=   0.5s\n",
            "[CV] END bootstrap=False, max_depth=15, max_features=sqrt, min_samples_split=5, n_estimators=50; total time=   0.6s\n",
            "[CV] END bootstrap=False, max_depth=15, max_features=sqrt, min_samples_split=5, n_estimators=50; total time=   0.5s\n",
            "[CV] END bootstrap=False, max_depth=15, max_features=sqrt, min_samples_split=5, n_estimators=50; total time=   0.5s\n",
            "[CV] END bootstrap=False, max_depth=15, max_features=sqrt, min_samples_split=5, n_estimators=50; total time=   0.5s\n",
            "[CV] END bootstrap=False, max_depth=15, max_features=sqrt, min_samples_split=5, n_estimators=50; total time=   0.5s\n",
            "[CV] END bootstrap=False, max_depth=15, max_features=sqrt, min_samples_split=5, n_estimators=50; total time=   0.6s\n",
            "[CV] END bootstrap=False, max_depth=15, max_features=sqrt, min_samples_split=5, n_estimators=50; total time=   0.5s\n",
            "[CV] END bootstrap=True, max_depth=19, max_features=sqrt, min_samples_split=5, n_estimators=15; total time=   0.1s\n",
            "[CV] END bootstrap=True, max_depth=19, max_features=sqrt, min_samples_split=5, n_estimators=15; total time=   0.1s\n",
            "[CV] END bootstrap=True, max_depth=19, max_features=sqrt, min_samples_split=5, n_estimators=15; total time=   0.1s\n",
            "[CV] END bootstrap=True, max_depth=19, max_features=sqrt, min_samples_split=5, n_estimators=15; total time=   0.1s\n",
            "[CV] END bootstrap=True, max_depth=19, max_features=sqrt, min_samples_split=5, n_estimators=15; total time=   0.1s\n",
            "[CV] END bootstrap=True, max_depth=19, max_features=sqrt, min_samples_split=5, n_estimators=15; total time=   0.1s\n",
            "[CV] END bootstrap=True, max_depth=19, max_features=sqrt, min_samples_split=5, n_estimators=15; total time=   0.1s\n",
            "[CV] END bootstrap=True, max_depth=19, max_features=sqrt, min_samples_split=5, n_estimators=15; total time=   0.1s\n",
            "[CV] END bootstrap=True, max_depth=19, max_features=sqrt, min_samples_split=5, n_estimators=15; total time=   0.1s\n",
            "[CV] END bootstrap=True, max_depth=19, max_features=sqrt, min_samples_split=5, n_estimators=15; total time=   0.1s\n",
            "[CV] END bootstrap=False, max_depth=19, max_features=auto, min_samples_split=5, n_estimators=30; total time=   1.0s\n",
            "[CV] END bootstrap=False, max_depth=19, max_features=auto, min_samples_split=5, n_estimators=30; total time=   1.0s\n",
            "[CV] END bootstrap=False, max_depth=19, max_features=auto, min_samples_split=5, n_estimators=30; total time=   0.9s\n",
            "[CV] END bootstrap=False, max_depth=19, max_features=auto, min_samples_split=5, n_estimators=30; total time=   1.0s\n",
            "[CV] END bootstrap=False, max_depth=19, max_features=auto, min_samples_split=5, n_estimators=30; total time=   0.9s\n",
            "[CV] END bootstrap=False, max_depth=19, max_features=auto, min_samples_split=5, n_estimators=30; total time=   1.0s\n",
            "[CV] END bootstrap=False, max_depth=19, max_features=auto, min_samples_split=5, n_estimators=30; total time=   1.0s\n",
            "[CV] END bootstrap=False, max_depth=19, max_features=auto, min_samples_split=5, n_estimators=30; total time=   1.0s\n",
            "[CV] END bootstrap=False, max_depth=19, max_features=auto, min_samples_split=5, n_estimators=30; total time=   1.0s\n",
            "[CV] END bootstrap=False, max_depth=19, max_features=auto, min_samples_split=5, n_estimators=30; total time=   0.9s\n",
            "[CV] END bootstrap=True, max_depth=9, max_features=auto, min_samples_split=5, n_estimators=5; total time=   0.1s\n",
            "[CV] END bootstrap=True, max_depth=9, max_features=auto, min_samples_split=5, n_estimators=5; total time=   0.1s\n",
            "[CV] END bootstrap=True, max_depth=9, max_features=auto, min_samples_split=5, n_estimators=5; total time=   0.1s\n",
            "[CV] END bootstrap=True, max_depth=9, max_features=auto, min_samples_split=5, n_estimators=5; total time=   0.1s\n",
            "[CV] END bootstrap=True, max_depth=9, max_features=auto, min_samples_split=5, n_estimators=5; total time=   0.1s\n",
            "[CV] END bootstrap=True, max_depth=9, max_features=auto, min_samples_split=5, n_estimators=5; total time=   0.1s\n",
            "[CV] END bootstrap=True, max_depth=9, max_features=auto, min_samples_split=5, n_estimators=5; total time=   0.1s\n",
            "[CV] END bootstrap=True, max_depth=9, max_features=auto, min_samples_split=5, n_estimators=5; total time=   0.1s\n",
            "[CV] END bootstrap=True, max_depth=9, max_features=auto, min_samples_split=5, n_estimators=5; total time=   0.1s\n",
            "[CV] END bootstrap=True, max_depth=9, max_features=auto, min_samples_split=5, n_estimators=5; total time=   0.1s\n",
            "[CV] END bootstrap=True, max_depth=15, max_features=sqrt, min_samples_split=10, n_estimators=30; total time=   0.2s\n",
            "[CV] END bootstrap=True, max_depth=15, max_features=sqrt, min_samples_split=10, n_estimators=30; total time=   0.2s\n",
            "[CV] END bootstrap=True, max_depth=15, max_features=sqrt, min_samples_split=10, n_estimators=30; total time=   0.2s\n",
            "[CV] END bootstrap=True, max_depth=15, max_features=sqrt, min_samples_split=10, n_estimators=30; total time=   0.2s\n",
            "[CV] END bootstrap=True, max_depth=15, max_features=sqrt, min_samples_split=10, n_estimators=30; total time=   0.2s\n",
            "[CV] END bootstrap=True, max_depth=15, max_features=sqrt, min_samples_split=10, n_estimators=30; total time=   0.2s\n",
            "[CV] END bootstrap=True, max_depth=15, max_features=sqrt, min_samples_split=10, n_estimators=30; total time=   0.2s\n",
            "[CV] END bootstrap=True, max_depth=15, max_features=sqrt, min_samples_split=10, n_estimators=30; total time=   0.2s\n",
            "[CV] END bootstrap=True, max_depth=15, max_features=sqrt, min_samples_split=10, n_estimators=30; total time=   0.2s\n",
            "[CV] END bootstrap=True, max_depth=15, max_features=sqrt, min_samples_split=10, n_estimators=30; total time=   0.2s\n",
            "[CV] END bootstrap=True, max_depth=17, max_features=sqrt, min_samples_split=10, n_estimators=50; total time=   0.4s\n",
            "[CV] END bootstrap=True, max_depth=17, max_features=sqrt, min_samples_split=10, n_estimators=50; total time=   0.4s\n",
            "[CV] END bootstrap=True, max_depth=17, max_features=sqrt, min_samples_split=10, n_estimators=50; total time=   0.4s\n",
            "[CV] END bootstrap=True, max_depth=17, max_features=sqrt, min_samples_split=10, n_estimators=50; total time=   0.4s\n",
            "[CV] END bootstrap=True, max_depth=17, max_features=sqrt, min_samples_split=10, n_estimators=50; total time=   0.4s\n",
            "[CV] END bootstrap=True, max_depth=17, max_features=sqrt, min_samples_split=10, n_estimators=50; total time=   0.4s\n",
            "[CV] END bootstrap=True, max_depth=17, max_features=sqrt, min_samples_split=10, n_estimators=50; total time=   0.4s\n",
            "[CV] END bootstrap=True, max_depth=17, max_features=sqrt, min_samples_split=10, n_estimators=50; total time=   0.4s\n",
            "[CV] END bootstrap=True, max_depth=17, max_features=sqrt, min_samples_split=10, n_estimators=50; total time=   0.4s\n",
            "[CV] END bootstrap=True, max_depth=17, max_features=sqrt, min_samples_split=10, n_estimators=50; total time=   0.4s\n",
            "[CV] END bootstrap=False, max_depth=11, max_features=auto, min_samples_split=10, n_estimators=15; total time=   0.4s\n",
            "[CV] END bootstrap=False, max_depth=11, max_features=auto, min_samples_split=10, n_estimators=15; total time=   0.4s\n",
            "[CV] END bootstrap=False, max_depth=11, max_features=auto, min_samples_split=10, n_estimators=15; total time=   0.4s\n",
            "[CV] END bootstrap=False, max_depth=11, max_features=auto, min_samples_split=10, n_estimators=15; total time=   0.4s\n",
            "[CV] END bootstrap=False, max_depth=11, max_features=auto, min_samples_split=10, n_estimators=15; total time=   0.4s\n",
            "[CV] END bootstrap=False, max_depth=11, max_features=auto, min_samples_split=10, n_estimators=15; total time=   0.4s\n",
            "[CV] END bootstrap=False, max_depth=11, max_features=auto, min_samples_split=10, n_estimators=15; total time=   0.4s\n",
            "[CV] END bootstrap=False, max_depth=11, max_features=auto, min_samples_split=10, n_estimators=15; total time=   0.4s\n",
            "[CV] END bootstrap=False, max_depth=11, max_features=auto, min_samples_split=10, n_estimators=15; total time=   0.6s\n",
            "[CV] END bootstrap=False, max_depth=11, max_features=auto, min_samples_split=10, n_estimators=15; total time=   0.6s\n",
            "[CV] END bootstrap=False, max_depth=13, max_features=sqrt, min_samples_split=10, n_estimators=20; total time=   0.3s\n",
            "[CV] END bootstrap=False, max_depth=13, max_features=sqrt, min_samples_split=10, n_estimators=20; total time=   0.3s\n",
            "[CV] END bootstrap=False, max_depth=13, max_features=sqrt, min_samples_split=10, n_estimators=20; total time=   0.3s\n",
            "[CV] END bootstrap=False, max_depth=13, max_features=sqrt, min_samples_split=10, n_estimators=20; total time=   0.3s\n",
            "[CV] END bootstrap=False, max_depth=13, max_features=sqrt, min_samples_split=10, n_estimators=20; total time=   0.2s\n",
            "[CV] END bootstrap=False, max_depth=13, max_features=sqrt, min_samples_split=10, n_estimators=20; total time=   0.2s\n",
            "[CV] END bootstrap=False, max_depth=13, max_features=sqrt, min_samples_split=10, n_estimators=20; total time=   0.2s\n",
            "[CV] END bootstrap=False, max_depth=13, max_features=sqrt, min_samples_split=10, n_estimators=20; total time=   0.2s\n",
            "[CV] END bootstrap=False, max_depth=13, max_features=sqrt, min_samples_split=10, n_estimators=20; total time=   0.2s\n",
            "[CV] END bootstrap=False, max_depth=13, max_features=sqrt, min_samples_split=10, n_estimators=20; total time=   0.2s\n",
            "[CV] END bootstrap=False, max_depth=17, max_features=sqrt, min_samples_split=10, n_estimators=40; total time=   0.4s\n",
            "[CV] END bootstrap=False, max_depth=17, max_features=sqrt, min_samples_split=10, n_estimators=40; total time=   0.4s\n",
            "[CV] END bootstrap=False, max_depth=17, max_features=sqrt, min_samples_split=10, n_estimators=40; total time=   0.4s\n",
            "[CV] END bootstrap=False, max_depth=17, max_features=sqrt, min_samples_split=10, n_estimators=40; total time=   0.4s\n",
            "[CV] END bootstrap=False, max_depth=17, max_features=sqrt, min_samples_split=10, n_estimators=40; total time=   0.4s\n",
            "[CV] END bootstrap=False, max_depth=17, max_features=sqrt, min_samples_split=10, n_estimators=40; total time=   0.4s\n",
            "[CV] END bootstrap=False, max_depth=17, max_features=sqrt, min_samples_split=10, n_estimators=40; total time=   0.4s\n",
            "[CV] END bootstrap=False, max_depth=17, max_features=sqrt, min_samples_split=10, n_estimators=40; total time=   0.4s\n",
            "[CV] END bootstrap=False, max_depth=17, max_features=sqrt, min_samples_split=10, n_estimators=40; total time=   0.4s\n",
            "[CV] END bootstrap=False, max_depth=17, max_features=sqrt, min_samples_split=10, n_estimators=40; total time=   0.4s\n",
            "[CV] END bootstrap=True, max_depth=9, max_features=sqrt, min_samples_split=10, n_estimators=20; total time=   0.1s\n",
            "[CV] END bootstrap=True, max_depth=9, max_features=sqrt, min_samples_split=10, n_estimators=20; total time=   0.1s\n",
            "[CV] END bootstrap=True, max_depth=9, max_features=sqrt, min_samples_split=10, n_estimators=20; total time=   0.1s\n",
            "[CV] END bootstrap=True, max_depth=9, max_features=sqrt, min_samples_split=10, n_estimators=20; total time=   0.1s\n",
            "[CV] END bootstrap=True, max_depth=9, max_features=sqrt, min_samples_split=10, n_estimators=20; total time=   0.1s\n",
            "[CV] END bootstrap=True, max_depth=9, max_features=sqrt, min_samples_split=10, n_estimators=20; total time=   0.1s\n",
            "[CV] END bootstrap=True, max_depth=9, max_features=sqrt, min_samples_split=10, n_estimators=20; total time=   0.1s\n",
            "[CV] END bootstrap=True, max_depth=9, max_features=sqrt, min_samples_split=10, n_estimators=20; total time=   0.1s\n",
            "[CV] END bootstrap=True, max_depth=9, max_features=sqrt, min_samples_split=10, n_estimators=20; total time=   0.1s\n",
            "[CV] END bootstrap=True, max_depth=9, max_features=sqrt, min_samples_split=10, n_estimators=20; total time=   0.1s\n",
            "[CV] END bootstrap=True, max_depth=13, max_features=auto, min_samples_split=5, n_estimators=50; total time=   0.9s\n",
            "[CV] END bootstrap=True, max_depth=13, max_features=auto, min_samples_split=5, n_estimators=50; total time=   0.9s\n",
            "[CV] END bootstrap=True, max_depth=13, max_features=auto, min_samples_split=5, n_estimators=50; total time=   0.9s\n",
            "[CV] END bootstrap=True, max_depth=13, max_features=auto, min_samples_split=5, n_estimators=50; total time=   0.9s\n",
            "[CV] END bootstrap=True, max_depth=13, max_features=auto, min_samples_split=5, n_estimators=50; total time=   0.9s\n",
            "[CV] END bootstrap=True, max_depth=13, max_features=auto, min_samples_split=5, n_estimators=50; total time=   0.9s\n",
            "[CV] END bootstrap=True, max_depth=13, max_features=auto, min_samples_split=5, n_estimators=50; total time=   0.9s\n",
            "[CV] END bootstrap=True, max_depth=13, max_features=auto, min_samples_split=5, n_estimators=50; total time=   0.9s\n",
            "[CV] END bootstrap=True, max_depth=13, max_features=auto, min_samples_split=5, n_estimators=50; total time=   0.9s\n",
            "[CV] END bootstrap=True, max_depth=13, max_features=auto, min_samples_split=5, n_estimators=50; total time=   0.9s\n",
            "[CV] END bootstrap=True, max_depth=23, max_features=auto, min_samples_split=5, n_estimators=25; total time=   0.5s\n",
            "[CV] END bootstrap=True, max_depth=23, max_features=auto, min_samples_split=5, n_estimators=25; total time=   0.5s\n",
            "[CV] END bootstrap=True, max_depth=23, max_features=auto, min_samples_split=5, n_estimators=25; total time=   0.5s\n",
            "[CV] END bootstrap=True, max_depth=23, max_features=auto, min_samples_split=5, n_estimators=25; total time=   0.5s\n",
            "[CV] END bootstrap=True, max_depth=23, max_features=auto, min_samples_split=5, n_estimators=25; total time=   0.5s\n",
            "[CV] END bootstrap=True, max_depth=23, max_features=auto, min_samples_split=5, n_estimators=25; total time=   0.5s\n",
            "[CV] END bootstrap=True, max_depth=23, max_features=auto, min_samples_split=5, n_estimators=25; total time=   0.5s\n",
            "[CV] END bootstrap=True, max_depth=23, max_features=auto, min_samples_split=5, n_estimators=25; total time=   0.5s\n",
            "[CV] END bootstrap=True, max_depth=23, max_features=auto, min_samples_split=5, n_estimators=25; total time=   0.5s\n",
            "[CV] END bootstrap=True, max_depth=23, max_features=auto, min_samples_split=5, n_estimators=25; total time=   0.5s\n",
            "[CV] END bootstrap=False, max_depth=19, max_features=auto, min_samples_split=5, n_estimators=20; total time=   0.6s\n",
            "[CV] END bootstrap=False, max_depth=19, max_features=auto, min_samples_split=5, n_estimators=20; total time=   0.7s\n",
            "[CV] END bootstrap=False, max_depth=19, max_features=auto, min_samples_split=5, n_estimators=20; total time=   0.6s\n",
            "[CV] END bootstrap=False, max_depth=19, max_features=auto, min_samples_split=5, n_estimators=20; total time=   0.6s\n",
            "[CV] END bootstrap=False, max_depth=19, max_features=auto, min_samples_split=5, n_estimators=20; total time=   0.6s\n",
            "[CV] END bootstrap=False, max_depth=19, max_features=auto, min_samples_split=5, n_estimators=20; total time=   0.6s\n",
            "[CV] END bootstrap=False, max_depth=19, max_features=auto, min_samples_split=5, n_estimators=20; total time=   0.7s\n",
            "[CV] END bootstrap=False, max_depth=19, max_features=auto, min_samples_split=5, n_estimators=20; total time=   0.6s\n",
            "[CV] END bootstrap=False, max_depth=19, max_features=auto, min_samples_split=5, n_estimators=20; total time=   0.6s\n",
            "[CV] END bootstrap=False, max_depth=19, max_features=auto, min_samples_split=5, n_estimators=20; total time=   0.6s\n",
            "[CV] END bootstrap=True, max_depth=11, max_features=auto, min_samples_split=5, n_estimators=20; total time=   0.3s\n",
            "[CV] END bootstrap=True, max_depth=11, max_features=auto, min_samples_split=5, n_estimators=20; total time=   0.3s\n",
            "[CV] END bootstrap=True, max_depth=11, max_features=auto, min_samples_split=5, n_estimators=20; total time=   0.4s\n",
            "[CV] END bootstrap=True, max_depth=11, max_features=auto, min_samples_split=5, n_estimators=20; total time=   0.3s\n",
            "[CV] END bootstrap=True, max_depth=11, max_features=auto, min_samples_split=5, n_estimators=20; total time=   0.3s\n",
            "[CV] END bootstrap=True, max_depth=11, max_features=auto, min_samples_split=5, n_estimators=20; total time=   0.3s\n",
            "[CV] END bootstrap=True, max_depth=11, max_features=auto, min_samples_split=5, n_estimators=20; total time=   0.3s\n",
            "[CV] END bootstrap=True, max_depth=11, max_features=auto, min_samples_split=5, n_estimators=20; total time=   0.3s\n",
            "[CV] END bootstrap=True, max_depth=11, max_features=auto, min_samples_split=5, n_estimators=20; total time=   0.3s\n",
            "[CV] END bootstrap=True, max_depth=11, max_features=auto, min_samples_split=5, n_estimators=20; total time=   0.3s\n",
            "[CV] END bootstrap=True, max_depth=5, max_features=sqrt, min_samples_split=5, n_estimators=30; total time=   0.1s\n",
            "[CV] END bootstrap=True, max_depth=5, max_features=sqrt, min_samples_split=5, n_estimators=30; total time=   0.1s\n",
            "[CV] END bootstrap=True, max_depth=5, max_features=sqrt, min_samples_split=5, n_estimators=30; total time=   0.1s\n",
            "[CV] END bootstrap=True, max_depth=5, max_features=sqrt, min_samples_split=5, n_estimators=30; total time=   0.1s\n",
            "[CV] END bootstrap=True, max_depth=5, max_features=sqrt, min_samples_split=5, n_estimators=30; total time=   0.1s\n",
            "[CV] END bootstrap=True, max_depth=5, max_features=sqrt, min_samples_split=5, n_estimators=30; total time=   0.1s\n",
            "[CV] END bootstrap=True, max_depth=5, max_features=sqrt, min_samples_split=5, n_estimators=30; total time=   0.1s\n",
            "[CV] END bootstrap=True, max_depth=5, max_features=sqrt, min_samples_split=5, n_estimators=30; total time=   0.1s\n",
            "[CV] END bootstrap=True, max_depth=5, max_features=sqrt, min_samples_split=5, n_estimators=30; total time=   0.1s\n",
            "[CV] END bootstrap=True, max_depth=5, max_features=sqrt, min_samples_split=5, n_estimators=30; total time=   0.1s\n",
            "[CV] END bootstrap=True, max_depth=21, max_features=auto, min_samples_split=10, n_estimators=50; total time=   0.9s\n",
            "[CV] END bootstrap=True, max_depth=21, max_features=auto, min_samples_split=10, n_estimators=50; total time=   0.9s\n",
            "[CV] END bootstrap=True, max_depth=21, max_features=auto, min_samples_split=10, n_estimators=50; total time=   0.9s\n",
            "[CV] END bootstrap=True, max_depth=21, max_features=auto, min_samples_split=10, n_estimators=50; total time=   0.9s\n",
            "[CV] END bootstrap=True, max_depth=21, max_features=auto, min_samples_split=10, n_estimators=50; total time=   0.9s\n",
            "[CV] END bootstrap=True, max_depth=21, max_features=auto, min_samples_split=10, n_estimators=50; total time=   0.9s\n",
            "[CV] END bootstrap=True, max_depth=21, max_features=auto, min_samples_split=10, n_estimators=50; total time=   0.9s\n",
            "[CV] END bootstrap=True, max_depth=21, max_features=auto, min_samples_split=10, n_estimators=50; total time=   0.9s\n",
            "[CV] END bootstrap=True, max_depth=21, max_features=auto, min_samples_split=10, n_estimators=50; total time=   0.9s\n",
            "[CV] END bootstrap=True, max_depth=21, max_features=auto, min_samples_split=10, n_estimators=50; total time=   0.9s\n",
            "[CV] END bootstrap=True, max_depth=13, max_features=auto, min_samples_split=5, n_estimators=5; total time=   0.1s\n",
            "[CV] END bootstrap=True, max_depth=13, max_features=auto, min_samples_split=5, n_estimators=5; total time=   0.1s\n",
            "[CV] END bootstrap=True, max_depth=13, max_features=auto, min_samples_split=5, n_estimators=5; total time=   0.1s\n",
            "[CV] END bootstrap=True, max_depth=13, max_features=auto, min_samples_split=5, n_estimators=5; total time=   0.1s\n",
            "[CV] END bootstrap=True, max_depth=13, max_features=auto, min_samples_split=5, n_estimators=5; total time=   0.1s\n",
            "[CV] END bootstrap=True, max_depth=13, max_features=auto, min_samples_split=5, n_estimators=5; total time=   0.1s\n",
            "[CV] END bootstrap=True, max_depth=13, max_features=auto, min_samples_split=5, n_estimators=5; total time=   0.1s\n",
            "[CV] END bootstrap=True, max_depth=13, max_features=auto, min_samples_split=5, n_estimators=5; total time=   0.1s\n",
            "[CV] END bootstrap=True, max_depth=13, max_features=auto, min_samples_split=5, n_estimators=5; total time=   0.1s\n",
            "[CV] END bootstrap=True, max_depth=13, max_features=auto, min_samples_split=5, n_estimators=5; total time=   0.1s\n",
            "[CV] END bootstrap=False, max_depth=13, max_features=sqrt, min_samples_split=10, n_estimators=30; total time=   0.3s\n",
            "[CV] END bootstrap=False, max_depth=13, max_features=sqrt, min_samples_split=10, n_estimators=30; total time=   0.3s\n",
            "[CV] END bootstrap=False, max_depth=13, max_features=sqrt, min_samples_split=10, n_estimators=30; total time=   0.3s\n",
            "[CV] END bootstrap=False, max_depth=13, max_features=sqrt, min_samples_split=10, n_estimators=30; total time=   0.3s\n",
            "[CV] END bootstrap=False, max_depth=13, max_features=sqrt, min_samples_split=10, n_estimators=30; total time=   0.3s\n",
            "[CV] END bootstrap=False, max_depth=13, max_features=sqrt, min_samples_split=10, n_estimators=30; total time=   0.3s\n",
            "[CV] END bootstrap=False, max_depth=13, max_features=sqrt, min_samples_split=10, n_estimators=30; total time=   0.3s\n",
            "[CV] END bootstrap=False, max_depth=13, max_features=sqrt, min_samples_split=10, n_estimators=30; total time=   0.3s\n",
            "[CV] END bootstrap=False, max_depth=13, max_features=sqrt, min_samples_split=10, n_estimators=30; total time=   0.3s\n",
            "[CV] END bootstrap=False, max_depth=13, max_features=sqrt, min_samples_split=10, n_estimators=30; total time=   0.3s\n",
            "[CV] END bootstrap=False, max_depth=15, max_features=sqrt, min_samples_split=2, n_estimators=5; total time=   0.1s\n",
            "[CV] END bootstrap=False, max_depth=15, max_features=sqrt, min_samples_split=2, n_estimators=5; total time=   0.1s\n",
            "[CV] END bootstrap=False, max_depth=15, max_features=sqrt, min_samples_split=2, n_estimators=5; total time=   0.1s\n",
            "[CV] END bootstrap=False, max_depth=15, max_features=sqrt, min_samples_split=2, n_estimators=5; total time=   0.1s\n",
            "[CV] END bootstrap=False, max_depth=15, max_features=sqrt, min_samples_split=2, n_estimators=5; total time=   0.1s\n",
            "[CV] END bootstrap=False, max_depth=15, max_features=sqrt, min_samples_split=2, n_estimators=5; total time=   0.1s\n",
            "[CV] END bootstrap=False, max_depth=15, max_features=sqrt, min_samples_split=2, n_estimators=5; total time=   0.1s\n",
            "[CV] END bootstrap=False, max_depth=15, max_features=sqrt, min_samples_split=2, n_estimators=5; total time=   0.1s\n",
            "[CV] END bootstrap=False, max_depth=15, max_features=sqrt, min_samples_split=2, n_estimators=5; total time=   0.1s\n",
            "[CV] END bootstrap=False, max_depth=15, max_features=sqrt, min_samples_split=2, n_estimators=5; total time=   0.1s\n",
            "[CV] END bootstrap=False, max_depth=7, max_features=sqrt, min_samples_split=10, n_estimators=5; total time=   0.0s\n",
            "[CV] END bootstrap=False, max_depth=7, max_features=sqrt, min_samples_split=10, n_estimators=5; total time=   0.0s\n",
            "[CV] END bootstrap=False, max_depth=7, max_features=sqrt, min_samples_split=10, n_estimators=5; total time=   0.0s\n",
            "[CV] END bootstrap=False, max_depth=7, max_features=sqrt, min_samples_split=10, n_estimators=5; total time=   0.0s\n",
            "[CV] END bootstrap=False, max_depth=7, max_features=sqrt, min_samples_split=10, n_estimators=5; total time=   0.0s\n",
            "[CV] END bootstrap=False, max_depth=7, max_features=sqrt, min_samples_split=10, n_estimators=5; total time=   0.0s\n",
            "[CV] END bootstrap=False, max_depth=7, max_features=sqrt, min_samples_split=10, n_estimators=5; total time=   0.0s\n",
            "[CV] END bootstrap=False, max_depth=7, max_features=sqrt, min_samples_split=10, n_estimators=5; total time=   0.0s\n",
            "[CV] END bootstrap=False, max_depth=7, max_features=sqrt, min_samples_split=10, n_estimators=5; total time=   0.0s\n",
            "[CV] END bootstrap=False, max_depth=7, max_features=sqrt, min_samples_split=10, n_estimators=5; total time=   0.0s\n",
            "[CV] END bootstrap=False, max_depth=11, max_features=auto, min_samples_split=5, n_estimators=15; total time=   0.4s\n",
            "[CV] END bootstrap=False, max_depth=11, max_features=auto, min_samples_split=5, n_estimators=15; total time=   0.4s\n",
            "[CV] END bootstrap=False, max_depth=11, max_features=auto, min_samples_split=5, n_estimators=15; total time=   0.4s\n",
            "[CV] END bootstrap=False, max_depth=11, max_features=auto, min_samples_split=5, n_estimators=15; total time=   0.4s\n",
            "[CV] END bootstrap=False, max_depth=11, max_features=auto, min_samples_split=5, n_estimators=15; total time=   0.4s\n",
            "[CV] END bootstrap=False, max_depth=11, max_features=auto, min_samples_split=5, n_estimators=15; total time=   0.4s\n",
            "[CV] END bootstrap=False, max_depth=11, max_features=auto, min_samples_split=5, n_estimators=15; total time=   0.4s\n",
            "[CV] END bootstrap=False, max_depth=11, max_features=auto, min_samples_split=5, n_estimators=15; total time=   0.4s\n",
            "[CV] END bootstrap=False, max_depth=11, max_features=auto, min_samples_split=5, n_estimators=15; total time=   0.4s\n",
            "[CV] END bootstrap=False, max_depth=11, max_features=auto, min_samples_split=5, n_estimators=15; total time=   0.4s\n",
            "[CV] END bootstrap=False, max_depth=11, max_features=sqrt, min_samples_split=5, n_estimators=40; total time=   0.4s\n",
            "[CV] END bootstrap=False, max_depth=11, max_features=sqrt, min_samples_split=5, n_estimators=40; total time=   0.4s\n",
            "[CV] END bootstrap=False, max_depth=11, max_features=sqrt, min_samples_split=5, n_estimators=40; total time=   0.4s\n",
            "[CV] END bootstrap=False, max_depth=11, max_features=sqrt, min_samples_split=5, n_estimators=40; total time=   0.4s\n",
            "[CV] END bootstrap=False, max_depth=11, max_features=sqrt, min_samples_split=5, n_estimators=40; total time=   0.4s\n",
            "[CV] END bootstrap=False, max_depth=11, max_features=sqrt, min_samples_split=5, n_estimators=40; total time=   0.4s\n",
            "[CV] END bootstrap=False, max_depth=11, max_features=sqrt, min_samples_split=5, n_estimators=40; total time=   0.4s\n",
            "[CV] END bootstrap=False, max_depth=11, max_features=sqrt, min_samples_split=5, n_estimators=40; total time=   0.4s\n",
            "[CV] END bootstrap=False, max_depth=11, max_features=sqrt, min_samples_split=5, n_estimators=40; total time=   0.4s\n",
            "[CV] END bootstrap=False, max_depth=11, max_features=sqrt, min_samples_split=5, n_estimators=40; total time=   0.4s\n",
            "[CV] END bootstrap=False, max_depth=9, max_features=auto, min_samples_split=10, n_estimators=5; total time=   0.1s\n",
            "[CV] END bootstrap=False, max_depth=9, max_features=auto, min_samples_split=10, n_estimators=5; total time=   0.1s\n",
            "[CV] END bootstrap=False, max_depth=9, max_features=auto, min_samples_split=10, n_estimators=5; total time=   0.1s\n",
            "[CV] END bootstrap=False, max_depth=9, max_features=auto, min_samples_split=10, n_estimators=5; total time=   0.1s\n",
            "[CV] END bootstrap=False, max_depth=9, max_features=auto, min_samples_split=10, n_estimators=5; total time=   0.1s\n",
            "[CV] END bootstrap=False, max_depth=9, max_features=auto, min_samples_split=10, n_estimators=5; total time=   0.1s\n",
            "[CV] END bootstrap=False, max_depth=9, max_features=auto, min_samples_split=10, n_estimators=5; total time=   0.1s\n",
            "[CV] END bootstrap=False, max_depth=9, max_features=auto, min_samples_split=10, n_estimators=5; total time=   0.1s\n",
            "[CV] END bootstrap=False, max_depth=9, max_features=auto, min_samples_split=10, n_estimators=5; total time=   0.1s\n",
            "[CV] END bootstrap=False, max_depth=9, max_features=auto, min_samples_split=10, n_estimators=5; total time=   0.1s\n",
            "[CV] END bootstrap=True, max_depth=9, max_features=sqrt, min_samples_split=10, n_estimators=10; total time=   0.1s\n",
            "[CV] END bootstrap=True, max_depth=9, max_features=sqrt, min_samples_split=10, n_estimators=10; total time=   0.1s\n",
            "[CV] END bootstrap=True, max_depth=9, max_features=sqrt, min_samples_split=10, n_estimators=10; total time=   0.1s\n",
            "[CV] END bootstrap=True, max_depth=9, max_features=sqrt, min_samples_split=10, n_estimators=10; total time=   0.1s\n",
            "[CV] END bootstrap=True, max_depth=9, max_features=sqrt, min_samples_split=10, n_estimators=10; total time=   0.1s\n",
            "[CV] END bootstrap=True, max_depth=9, max_features=sqrt, min_samples_split=10, n_estimators=10; total time=   0.1s\n",
            "[CV] END bootstrap=True, max_depth=9, max_features=sqrt, min_samples_split=10, n_estimators=10; total time=   0.1s\n",
            "[CV] END bootstrap=True, max_depth=9, max_features=sqrt, min_samples_split=10, n_estimators=10; total time=   0.1s\n",
            "[CV] END bootstrap=True, max_depth=9, max_features=sqrt, min_samples_split=10, n_estimators=10; total time=   0.1s\n",
            "[CV] END bootstrap=True, max_depth=9, max_features=sqrt, min_samples_split=10, n_estimators=10; total time=   0.1s\n",
            "[CV] END bootstrap=True, max_depth=5, max_features=sqrt, min_samples_split=5, n_estimators=20; total time=   0.1s\n",
            "[CV] END bootstrap=True, max_depth=5, max_features=sqrt, min_samples_split=5, n_estimators=20; total time=   0.1s\n",
            "[CV] END bootstrap=True, max_depth=5, max_features=sqrt, min_samples_split=5, n_estimators=20; total time=   0.1s\n",
            "[CV] END bootstrap=True, max_depth=5, max_features=sqrt, min_samples_split=5, n_estimators=20; total time=   0.1s\n",
            "[CV] END bootstrap=True, max_depth=5, max_features=sqrt, min_samples_split=5, n_estimators=20; total time=   0.1s\n",
            "[CV] END bootstrap=True, max_depth=5, max_features=sqrt, min_samples_split=5, n_estimators=20; total time=   0.1s\n",
            "[CV] END bootstrap=True, max_depth=5, max_features=sqrt, min_samples_split=5, n_estimators=20; total time=   0.1s\n",
            "[CV] END bootstrap=True, max_depth=5, max_features=sqrt, min_samples_split=5, n_estimators=20; total time=   0.1s\n",
            "[CV] END bootstrap=True, max_depth=5, max_features=sqrt, min_samples_split=5, n_estimators=20; total time=   0.1s\n",
            "[CV] END bootstrap=True, max_depth=5, max_features=sqrt, min_samples_split=5, n_estimators=20; total time=   0.1s\n",
            "[CV] END bootstrap=False, max_depth=7, max_features=sqrt, min_samples_split=10, n_estimators=50; total time=   0.4s\n",
            "[CV] END bootstrap=False, max_depth=7, max_features=sqrt, min_samples_split=10, n_estimators=50; total time=   0.3s\n",
            "[CV] END bootstrap=False, max_depth=7, max_features=sqrt, min_samples_split=10, n_estimators=50; total time=   0.4s\n",
            "[CV] END bootstrap=False, max_depth=7, max_features=sqrt, min_samples_split=10, n_estimators=50; total time=   0.3s\n",
            "[CV] END bootstrap=False, max_depth=7, max_features=sqrt, min_samples_split=10, n_estimators=50; total time=   0.3s\n",
            "[CV] END bootstrap=False, max_depth=7, max_features=sqrt, min_samples_split=10, n_estimators=50; total time=   0.4s\n",
            "[CV] END bootstrap=False, max_depth=7, max_features=sqrt, min_samples_split=10, n_estimators=50; total time=   0.3s\n",
            "[CV] END bootstrap=False, max_depth=7, max_features=sqrt, min_samples_split=10, n_estimators=50; total time=   0.3s\n",
            "[CV] END bootstrap=False, max_depth=7, max_features=sqrt, min_samples_split=10, n_estimators=50; total time=   0.3s\n",
            "[CV] END bootstrap=False, max_depth=7, max_features=sqrt, min_samples_split=10, n_estimators=50; total time=   0.3s\n",
            "[CV] END bootstrap=True, max_depth=11, max_features=sqrt, min_samples_split=5, n_estimators=20; total time=   0.1s\n",
            "[CV] END bootstrap=True, max_depth=11, max_features=sqrt, min_samples_split=5, n_estimators=20; total time=   0.1s\n",
            "[CV] END bootstrap=True, max_depth=11, max_features=sqrt, min_samples_split=5, n_estimators=20; total time=   0.1s\n",
            "[CV] END bootstrap=True, max_depth=11, max_features=sqrt, min_samples_split=5, n_estimators=20; total time=   0.1s\n",
            "[CV] END bootstrap=True, max_depth=11, max_features=sqrt, min_samples_split=5, n_estimators=20; total time=   0.1s\n",
            "[CV] END bootstrap=True, max_depth=11, max_features=sqrt, min_samples_split=5, n_estimators=20; total time=   0.1s\n",
            "[CV] END bootstrap=True, max_depth=11, max_features=sqrt, min_samples_split=5, n_estimators=20; total time=   0.1s\n",
            "[CV] END bootstrap=True, max_depth=11, max_features=sqrt, min_samples_split=5, n_estimators=20; total time=   0.1s\n",
            "[CV] END bootstrap=True, max_depth=11, max_features=sqrt, min_samples_split=5, n_estimators=20; total time=   0.1s\n",
            "[CV] END bootstrap=True, max_depth=11, max_features=sqrt, min_samples_split=5, n_estimators=20; total time=   0.1s\n",
            "[CV] END bootstrap=False, max_depth=9, max_features=sqrt, min_samples_split=2, n_estimators=30; total time=   0.2s\n",
            "[CV] END bootstrap=False, max_depth=9, max_features=sqrt, min_samples_split=2, n_estimators=30; total time=   0.2s\n",
            "[CV] END bootstrap=False, max_depth=9, max_features=sqrt, min_samples_split=2, n_estimators=30; total time=   0.3s\n",
            "[CV] END bootstrap=False, max_depth=9, max_features=sqrt, min_samples_split=2, n_estimators=30; total time=   0.3s\n",
            "[CV] END bootstrap=False, max_depth=9, max_features=sqrt, min_samples_split=2, n_estimators=30; total time=   0.3s\n",
            "[CV] END bootstrap=False, max_depth=9, max_features=sqrt, min_samples_split=2, n_estimators=30; total time=   0.3s\n",
            "[CV] END bootstrap=False, max_depth=9, max_features=sqrt, min_samples_split=2, n_estimators=30; total time=   0.2s\n",
            "[CV] END bootstrap=False, max_depth=9, max_features=sqrt, min_samples_split=2, n_estimators=30; total time=   0.3s\n",
            "[CV] END bootstrap=False, max_depth=9, max_features=sqrt, min_samples_split=2, n_estimators=30; total time=   0.2s\n",
            "[CV] END bootstrap=False, max_depth=9, max_features=sqrt, min_samples_split=2, n_estimators=30; total time=   0.2s\n",
            "[CV] END bootstrap=False, max_depth=9, max_features=auto, min_samples_split=2, n_estimators=30; total time=   0.7s\n",
            "[CV] END bootstrap=False, max_depth=9, max_features=auto, min_samples_split=2, n_estimators=30; total time=   0.7s\n",
            "[CV] END bootstrap=False, max_depth=9, max_features=auto, min_samples_split=2, n_estimators=30; total time=   0.7s\n",
            "[CV] END bootstrap=False, max_depth=9, max_features=auto, min_samples_split=2, n_estimators=30; total time=   0.7s\n",
            "[CV] END bootstrap=False, max_depth=9, max_features=auto, min_samples_split=2, n_estimators=30; total time=   0.7s\n",
            "[CV] END bootstrap=False, max_depth=9, max_features=auto, min_samples_split=2, n_estimators=30; total time=   0.7s\n",
            "[CV] END bootstrap=False, max_depth=9, max_features=auto, min_samples_split=2, n_estimators=30; total time=   0.7s\n",
            "[CV] END bootstrap=False, max_depth=9, max_features=auto, min_samples_split=2, n_estimators=30; total time=   0.7s\n",
            "[CV] END bootstrap=False, max_depth=9, max_features=auto, min_samples_split=2, n_estimators=30; total time=   0.7s\n",
            "[CV] END bootstrap=False, max_depth=9, max_features=auto, min_samples_split=2, n_estimators=30; total time=   0.7s\n",
            "[CV] END bootstrap=True, max_depth=17, max_features=sqrt, min_samples_split=2, n_estimators=25; total time=   0.2s\n",
            "[CV] END bootstrap=True, max_depth=17, max_features=sqrt, min_samples_split=2, n_estimators=25; total time=   0.2s\n",
            "[CV] END bootstrap=True, max_depth=17, max_features=sqrt, min_samples_split=2, n_estimators=25; total time=   0.2s\n",
            "[CV] END bootstrap=True, max_depth=17, max_features=sqrt, min_samples_split=2, n_estimators=25; total time=   0.2s\n",
            "[CV] END bootstrap=True, max_depth=17, max_features=sqrt, min_samples_split=2, n_estimators=25; total time=   0.2s\n",
            "[CV] END bootstrap=True, max_depth=17, max_features=sqrt, min_samples_split=2, n_estimators=25; total time=   0.2s\n",
            "[CV] END bootstrap=True, max_depth=17, max_features=sqrt, min_samples_split=2, n_estimators=25; total time=   0.2s\n",
            "[CV] END bootstrap=True, max_depth=17, max_features=sqrt, min_samples_split=2, n_estimators=25; total time=   0.2s\n",
            "[CV] END bootstrap=True, max_depth=17, max_features=sqrt, min_samples_split=2, n_estimators=25; total time=   0.2s\n",
            "[CV] END bootstrap=True, max_depth=17, max_features=sqrt, min_samples_split=2, n_estimators=25; total time=   0.2s\n"
          ]
        },
        {
          "output_type": "execute_result",
          "data": {
            "text/plain": [
              "RandomizedSearchCV(cv=10, estimator=RandomForestRegressor(), n_iter=100,\n",
              "                   param_distributions={'bootstrap': [True, False],\n",
              "                                        'max_depth': [5, 7, 9, 11, 13, 15, 17,\n",
              "                                                      19, 21, 23],\n",
              "                                        'max_features': ['auto', 'sqrt'],\n",
              "                                        'min_samples_split': [2, 5, 10],\n",
              "                                        'n_estimators': [5, 10, 15, 20, 25, 30,\n",
              "                                                         40, 50]},\n",
              "                   return_train_score=True, scoring='neg_mean_absolute_error',\n",
              "                   verbose=2)"
            ]
          },
          "metadata": {},
          "execution_count": 38
        }
      ]
    },
    {
      "cell_type": "code",
      "source": [
        "random_forest_clf.best_params_"
      ],
      "metadata": {
        "colab": {
          "base_uri": "https://localhost:8080/"
        },
        "id": "zJ2D4CWPJ1xC",
        "outputId": "01b818e8-1240-47cb-ac1e-69e9edd5ae23"
      },
      "execution_count": null,
      "outputs": [
        {
          "output_type": "execute_result",
          "data": {
            "text/plain": [
              "{'n_estimators': 50,\n",
              " 'min_samples_split': 10,\n",
              " 'max_features': 'sqrt',\n",
              " 'max_depth': 9,\n",
              " 'bootstrap': True}"
            ]
          },
          "metadata": {},
          "execution_count": 39
        }
      ]
    },
    {
      "cell_type": "code",
      "source": [
        "plot_grid_search(random_forest_clf.cv_results_, n_estimators, max_depth, 'N Estimators', 'Max Depth')"
      ],
      "metadata": {
        "colab": {
          "base_uri": "https://localhost:8080/",
          "height": 892
        },
        "id": "DF4zzz-vwHWs",
        "outputId": "7481efba-7e5e-42d6-f1b1-c87a067d591d"
      },
      "execution_count": null,
      "outputs": [
        {
          "output_type": "display_data",
          "data": {
            "text/plain": [
              "<Figure size 1080x1080 with 1 Axes>"
            ],
            "image/png": "[encoded data removed]"
          },
          "metadata": {}
        }
      ]
    },
    {
      "cell_type": "markdown",
      "source": [
        "After using gridsearch we got the best parameters and they are max depth = 7 and n_estimator = 50. Instaed of grid search we can also use randomized search."
      ],
      "metadata": {
        "id": "7LqptmwJzLiT"
      }
    },
    {
      "cell_type": "code",
      "source": [
        "random_forest_clf1 = RandomForestRegressor(max_depth = 9 ,n_estimators = 50 , min_samples_split = 10, bootstrap = True, max_features = \"sqrt\" )\n",
        "random_forest_clf1.fit(x_tr , y_tr) "
      ],
      "metadata": {
        "colab": {
          "base_uri": "https://localhost:8080/"
        },
        "id": "1tLOEnDTt_Vj",
        "outputId": "82f427fc-8247-43ec-a39c-9c505bf785b9"
      },
      "execution_count": null,
      "outputs": [
        {
          "output_type": "execute_result",
          "data": {
            "text/plain": [
              "RandomForestRegressor(max_depth=9, max_features='sqrt', min_samples_split=10,\n",
              "                      n_estimators=50)"
            ]
          },
          "metadata": {},
          "execution_count": 54
        }
      ]
    },
    {
      "cell_type": "code",
      "source": [
        "#https://scikit-learn.org/stable/auto_examples/model_selection/plot_learning_curve.html#sphx-glr-auto-examples-model-selection-plot-learning-curve-py\n",
        "from sklearn.model_selection import learning_curve\n",
        "def plot_learning_curve(\n",
        "    estimator,\n",
        "    title,\n",
        "    X,\n",
        "    y,\n",
        "    axes = None,\n",
        "    ylim=None,\n",
        "    cv=None,\n",
        "    n_jobs=None,\n",
        "    scoring=None,\n",
        "    train_sizes=np.linspace(0.1, 1.0, 5),\n",
        "):\n",
        "\n",
        "    if axes is None:\n",
        "        _, axes = plt.subplots(1,1, figsize=(10, 5))\n",
        "\n",
        "    axes.set_title(title)\n",
        "    if ylim is not None:\n",
        "        axes.set_ylim(*ylim)\n",
        "    axes.set_xlabel(\"Training examples\")\n",
        "    axes.set_ylabel(\"Score\")\n",
        "\n",
        "    train_sizes, train_scores, test_scores, fit_times, _ = learning_curve(\n",
        "        estimator,\n",
        "        X,\n",
        "        y,\n",
        "        scoring=scoring,\n",
        "        cv=cv,\n",
        "        n_jobs=n_jobs,\n",
        "        train_sizes=train_sizes,\n",
        "        return_times=True,\n",
        "    )\n",
        "    train_scores_mean = np.mean(train_scores, axis=1)\n",
        "    train_scores_std = np.std(train_scores, axis=1)\n",
        "    test_scores_mean = np.mean(test_scores, axis=1)\n",
        "    test_scores_std = np.std(test_scores, axis=1)\n",
        "    fit_times_mean = np.mean(fit_times, axis=1)\n",
        "    fit_times_std = np.std(fit_times, axis=1)\n",
        "\n",
        "    # Plot learning curve\n",
        "    axes.grid()\n",
        "    axes.fill_between(\n",
        "        train_sizes,\n",
        "        train_scores_mean - train_scores_std,\n",
        "        train_scores_mean + train_scores_std,\n",
        "        alpha=0.1,\n",
        "        color=\"r\",\n",
        "    )\n",
        "    axes.fill_between(\n",
        "        train_sizes,\n",
        "        test_scores_mean - test_scores_std,\n",
        "        test_scores_mean + test_scores_std,\n",
        "        alpha=0.1,\n",
        "        color=\"g\",\n",
        "    )\n",
        "    axes.plot(\n",
        "        train_sizes, train_scores_mean, \"o-\", color=\"r\", label=\"Training score\"\n",
        "    )\n",
        "    axes.plot(\n",
        "        train_sizes, test_scores_mean, \"o-\", color=\"g\", label=\"Cross-validation score\"\n",
        "    )\n",
        "    axes.legend(loc=\"best\")\n",
        "    return plt\n"
      ],
      "metadata": {
        "id": "SlDvcus1b3ff"
      },
      "execution_count": null,
      "outputs": []
    },
    {
      "cell_type": "code",
      "source": [
        "from sklearn.model_selection import learning_curve\n",
        "plot_learning_curve(random_forest_clf1,\"Learning Curve\", x_tr, y_tr.values, cv = 4, scoring='neg_mean_absolute_error')"
      ],
      "metadata": {
        "colab": {
          "base_uri": "https://localhost:8080/",
          "height": 367
        },
        "id": "p_fTgoBaYZKO",
        "outputId": "99887d22-70c2-472e-f5e7-d924880db8d6"
      },
      "execution_count": null,
      "outputs": [
        {
          "output_type": "execute_result",
          "data": {
            "text/plain": [
              "<module 'matplotlib.pyplot' from '/usr/local/lib/python3.7/dist-packages/matplotlib/pyplot.py'>"
            ]
          },
          "metadata": {},
          "execution_count": 56
        },
        {
          "output_type": "display_data",
          "data": {
            "text/plain": [
              "<Figure size 720x360 with 1 Axes>"
            ],
            "image/png": "[encoded data removed]"
          },
          "metadata": {}
        }
      ]
    },
    {
      "cell_type": "code",
      "execution_count": null,
      "metadata": {
        "id": "hZVadqJowneH"
      },
      "outputs": [],
      "source": [
        "pred_train = random_forest_clf1.predict(x_tr)\n",
        "pred_cv = random_forest_clf1.predict(x_cv)\n",
        "pred_test = random_forest_clf1.predict(x_test)"
      ]
    },
    {
      "cell_type": "code",
      "source": [
        "print(mean_absolute_error(y_tr, pred_train))\n",
        "print(mean_absolute_error(y_cv, pred_cv))\n",
        "mean_absolute_error(y_test, pred_test)"
      ],
      "metadata": {
        "colab": {
          "base_uri": "https://localhost:8080/"
        },
        "id": "FHSJ8RcZxG60",
        "outputId": "f3428acc-f4cf-40b2-cf00-39ebafc45be8"
      },
      "execution_count": null,
      "outputs": [
        {
          "output_type": "stream",
          "name": "stdout",
          "text": [
            "1.9831843011567618\n",
            "2.3997761211591198\n"
          ]
        },
        {
          "output_type": "execute_result",
          "data": {
            "text/plain": [
              "2.4119566043405225"
            ]
          },
          "metadata": {},
          "execution_count": 53
        }
      ]
    },
    {
      "cell_type": "markdown",
      "source": [
        "Using the best parameters our model is neither uderfiiting nor overfitting.\n"
      ],
      "metadata": {
        "id": "5gyfugGU6ptI"
      }
    },
    {
      "cell_type": "code",
      "execution_count": null,
      "metadata": {
        "id": "G8_2KHDpn6Zq"
      },
      "outputs": [],
      "source": []
    },
    {
      "cell_type": "markdown",
      "metadata": {
        "id": "CzkQDwEioPLc"
      },
      "source": [
        "###XGBRegressor"
      ]
    },
    {
      "cell_type": "code",
      "execution_count": null,
      "metadata": {
        "id": "H3gAt1wlohpU"
      },
      "outputs": [],
      "source": [
        "import xgboost as xgb "
      ]
    },
    {
      "cell_type": "code",
      "execution_count": null,
      "metadata": {
        "colab": {
          "base_uri": "https://localhost:8080/"
        },
        "id": "PYlDGPi2oOAi",
        "outputId": "e2b0131c-923f-4ba4-ac8f-acd6b796b22d"
      },
      "outputs": [
        {
          "output_type": "execute_result",
          "data": {
            "text/plain": [
              "{'max_depth': 5, 'n_estimators': 50}"
            ]
          },
          "metadata": {},
          "execution_count": 61
        }
      ],
      "source": [
        "clf2 = xgb.XGBRegressor(objective=\"reg:squarederror\")\n",
        "params = { \"n_estimators\": n_estimators, \"max_depth\":max_depth } \n",
        "xgb_reg = GridSearchCV(clf2, params, scoring = \"neg_mean_absolute_error\")\n",
        "xgb_reg.fit(x_tr, y_tr)\n",
        "xgb_reg.best_params_"
      ]
    },
    {
      "cell_type": "markdown",
      "source": [
        "Similar to random forest, after using gridsearch we got the best parameters and they are max depth = 5 and n_estimator = 50."
      ],
      "metadata": {
        "id": "VC1AXHfOH4xn"
      }
    },
    {
      "cell_type": "code",
      "execution_count": null,
      "metadata": {
        "colab": {
          "base_uri": "https://localhost:8080/"
        },
        "id": "F1A7ydZJojYC",
        "outputId": "a3f0e23f-751a-45b7-f22a-e1ab8bf7e323"
      },
      "outputs": [
        {
          "output_type": "execute_result",
          "data": {
            "text/plain": [
              "XGBRegressor(max_depth=5, n_estimators=50, objective='reg:squarederror')"
            ]
          },
          "metadata": {},
          "execution_count": 62
        }
      ],
      "source": [
        "xgb_reg = xgb.XGBRegressor(max_depth = 5 ,n_estimators = 50, objective=\"reg:squarederror\" )\n",
        "xgb_reg.fit(x_tr , y_tr) "
      ]
    },
    {
      "cell_type": "code",
      "source": [
        "plot_learning_curve(xgb_reg,\"Learning Curve\", x_tr, y_tr.values, cv = 4, scoring='neg_mean_absolute_error')"
      ],
      "metadata": {
        "colab": {
          "base_uri": "https://localhost:8080/",
          "height": 367
        },
        "id": "oh7mRvSLjYS9",
        "outputId": "a01e4079-9030-40cd-d30a-19ef86cd90d1"
      },
      "execution_count": null,
      "outputs": [
        {
          "output_type": "execute_result",
          "data": {
            "text/plain": [
              "<module 'matplotlib.pyplot' from '/usr/local/lib/python3.7/dist-packages/matplotlib/pyplot.py'>"
            ]
          },
          "metadata": {},
          "execution_count": 63
        },
        {
          "output_type": "display_data",
          "data": {
            "text/plain": [
              "<Figure size 720x360 with 1 Axes>"
            ],
            "image/png": "[encoded data removed]"
          },
          "metadata": {}
        }
      ]
    },
    {
      "cell_type": "code",
      "execution_count": null,
      "metadata": {
        "id": "7wEOpeSDpo6w"
      },
      "outputs": [],
      "source": [
        "pred_train = xgb_reg.predict(x_tr)\n",
        "pred_cv = xgb_reg.predict(x_cv)\n",
        "pred_test = xgb_reg.predict(x_test)"
      ]
    },
    {
      "cell_type": "code",
      "source": [
        "print(mean_absolute_error(y_tr, pred_train))\n",
        "print(mean_absolute_error(y_cv, pred_cv))\n",
        "mean_absolute_error(y_test, pred_test)"
      ],
      "metadata": {
        "colab": {
          "base_uri": "https://localhost:8080/"
        },
        "id": "zJfV9UdRMJM3",
        "outputId": "ebc3150d-a37c-489c-bdad-9c12a6cb24f7"
      },
      "execution_count": null,
      "outputs": [
        {
          "output_type": "stream",
          "name": "stdout",
          "text": [
            "1.950218899934272\n",
            "2.3685583732846127\n"
          ]
        },
        {
          "output_type": "execute_result",
          "data": {
            "text/plain": [
              "2.425800022199712"
            ]
          },
          "metadata": {},
          "execution_count": 65
        }
      ]
    },
    {
      "cell_type": "markdown",
      "source": [
        "After using the best parameters our model is neither overfitting nor underfiiting and from the graph we can see that max_depth = 5, and n_estimators = 50 are the best parameters.\n"
      ],
      "metadata": {
        "id": "1fq5D9ig64l7"
      }
    },
    {
      "cell_type": "code",
      "source": [],
      "metadata": {
        "id": "QO-HcbmjSMYG"
      },
      "execution_count": null,
      "outputs": []
    },
    {
      "cell_type": "markdown",
      "source": [
        "Now lets save our models so that we can use them whenever we want."
      ],
      "metadata": {
        "id": "yPJlqZok65vL"
      }
    },
    {
      "cell_type": "code",
      "execution_count": null,
      "metadata": {
        "colab": {
          "base_uri": "https://localhost:8080/"
        },
        "id": "WlkUZLoYudFM",
        "outputId": "cf1ae99c-9e27-4292-c2e1-8c91858d91df"
      },
      "outputs": [
        {
          "output_type": "execute_result",
          "data": {
            "text/plain": [
              "['RBG.pkl']"
            ]
          },
          "metadata": {},
          "execution_count": 67
        }
      ],
      "source": [
        "joblib.dump(xgb_reg, 'RBG.pkl')"
      ]
    },
    {
      "cell_type": "code",
      "source": [
        "joblib.dump(random_forest_clf, 'Forest.pkl')"
      ],
      "metadata": {
        "colab": {
          "base_uri": "https://localhost:8080/"
        },
        "id": "JiRn0ry75rNA",
        "outputId": "7d03dd57-7c8c-4305-9bcb-2f87a998fde8"
      },
      "execution_count": null,
      "outputs": [
        {
          "output_type": "execute_result",
          "data": {
            "text/plain": [
              "['Forest.pkl']"
            ]
          },
          "metadata": {},
          "execution_count": 68
        }
      ]
    },
    {
      "cell_type": "code",
      "source": [
        "joblib.dump(Knn_model, 'Knn.pkl')"
      ],
      "metadata": {
        "colab": {
          "base_uri": "https://localhost:8080/"
        },
        "id": "2hHzDkAND45I",
        "outputId": "bef0914e-ed4a-415d-a631-228af3776b0c"
      },
      "execution_count": null,
      "outputs": [
        {
          "output_type": "execute_result",
          "data": {
            "text/plain": [
              "['Knn.pkl']"
            ]
          },
          "metadata": {},
          "execution_count": 69
        }
      ]
    },
    {
      "cell_type": "markdown",
      "source": [
        "#Taking average of three models\n"
      ],
      "metadata": {
        "id": "O3QYk9VJskju"
      }
    },
    {
      "cell_type": "code",
      "source": [
        "random_forest_r  = random_forest_clf.predict(x_test)\n",
        "xgb_r = xgb_reg.predict(x_test)\n",
        "Knn_m = Knn_model.predict(x_test)\n",
        "\n",
        "test_ans = (random_forest_r + xgb_r + Knn_m) / 3"
      ],
      "metadata": {
        "id": "wyN8uL_fsWDf"
      },
      "execution_count": null,
      "outputs": []
    },
    {
      "cell_type": "code",
      "source": [
        "print(\"The MAE for test dataset is\" , round(mean_absolute_error(y_test, test_ans), 4))"
      ],
      "metadata": {
        "id": "YJPig_T7t43L",
        "colab": {
          "base_uri": "https://localhost:8080/"
        },
        "outputId": "5f97ab37-a629-4a4e-c3d3-feec4bed8b57"
      },
      "execution_count": null,
      "outputs": [
        {
          "output_type": "stream",
          "name": "stdout",
          "text": [
            "The MAE for test dataset is 2.3944\n"
          ]
        }
      ]
    },
    {
      "cell_type": "code",
      "source": [
        "random_forest_r  = random_forest_clf.predict(x_tr)\n",
        "xgb_r = xgb_reg.predict(x_tr)\n",
        "Knn_m = Knn_model.predict(x_tr)\n",
        "\n",
        "train_ans = (random_forest_r + xgb_r + Knn_m ) / 3"
      ],
      "metadata": {
        "id": "hntUcSCzuLMu"
      },
      "execution_count": null,
      "outputs": []
    },
    {
      "cell_type": "code",
      "source": [
        "print(\"The MAE for test dataset is\" , round(mean_absolute_error(y_tr, train_ans), 4))"
      ],
      "metadata": {
        "id": "qXJNDEIMuVPB",
        "colab": {
          "base_uri": "https://localhost:8080/"
        },
        "outputId": "f1750040-e763-4e26-dd8a-a1b66c5d4582"
      },
      "execution_count": null,
      "outputs": [
        {
          "output_type": "stream",
          "name": "stdout",
          "text": [
            "The MAE for test dataset is 2.086\n"
          ]
        }
      ]
    },
    {
      "cell_type": "code",
      "source": [
        "random_forest_r  = random_forest_clf.predict(x_cv)\n",
        "xgb_r = xgb_reg.predict(x_cv)\n",
        "Knn_m = Knn_model.predict(x_cv)\n",
        "\n",
        "cv_ans = (random_forest_r + xgb_r + Knn_m) / 3"
      ],
      "metadata": {
        "id": "ChGOUO8SuWdg"
      },
      "execution_count": null,
      "outputs": []
    },
    {
      "cell_type": "code",
      "source": [
        "print(\"The MAE for test dataset is\" , round(mean_absolute_error(y_cv, cv_ans), 4))"
      ],
      "metadata": {
        "colab": {
          "base_uri": "https://localhost:8080/"
        },
        "id": "ci6w7KOmpJ1A",
        "outputId": "bbfa3c56-9376-4ca2-81fa-77ff6b70eb37"
      },
      "execution_count": null,
      "outputs": [
        {
          "output_type": "stream",
          "name": "stdout",
          "text": [
            "The MAE for test dataset is 2.4018\n"
          ]
        }
      ]
    },
    {
      "cell_type": "markdown",
      "source": [
        "Atlast we used our three models that is random forest, XGBoost, and KNN."
      ],
      "metadata": {
        "id": "mHKsy0ri7ElT"
      }
    },
    {
      "cell_type": "code",
      "source": [
        "t = PrettyTable([\"Model\", \"MAE on train\", \"MAE on cv\", \"MAE on Test\"])\n",
        "\n",
        "t.add_row([\"Linear Regression\", \"2.78\", \"2.70\" , \"2.72\"])\n",
        "t.add_row([\"KNN\", \"2.41\", \"2.50\", \"2.48\"])\n",
        "t.add_row([\"Random Forest\", \"1.98\", \"2.39\", \"2.41\"])\n",
        "t.add_row([\"XGBRegressor\", \"1.95\", \"2.36\", \"2.42\"])\n",
        "t.add_row([\"Average model\", \"2.08\", \"2.40\", \"2.39\"])\n",
        "\n",
        "print(t)"
      ],
      "metadata": {
        "id": "BqkHLpmW_NaW",
        "colab": {
          "base_uri": "https://localhost:8080/"
        },
        "outputId": "aba7823b-5d93-4380-fbc6-d7607433aa6b"
      },
      "execution_count": 2,
      "outputs": [
        {
          "output_type": "stream",
          "name": "stdout",
          "text": [
            "+-------------------+--------------+-----------+-------------+\n",
            "|       Model       | MAE on train | MAE on cv | MAE on Test |\n",
            "+-------------------+--------------+-----------+-------------+\n",
            "| Linear Regression |     2.78     |    2.70   |     2.72    |\n",
            "|        KNN        |     2.41     |    2.50   |     2.48    |\n",
            "|   Random Forest   |     1.98     |    2.39   |     2.41    |\n",
            "|    XGBRegressor   |     1.95     |    2.36   |     2.42    |\n",
            "|   Average model   |     2.08     |    2.40   |     2.39    |\n",
            "+-------------------+--------------+-----------+-------------+\n"
          ]
        }
      ]
    },
    {
      "cell_type": "markdown",
      "source": [
        "As we can see taking average of all the model gave us the best result on test data set."
      ],
      "metadata": {
        "id": "C0BscPaEWeIb"
      }
    }
  ],
  "metadata": {
    "colab": {
      "collapsed_sections": [],
      "provenance": []
    },
    "kernelspec": {
      "display_name": "Python 3",
      "name": "python3"
    },
    "language_info": {
      "name": "python"
    }
  },
  "nbformat": 4,
  "nbformat_minor": 0
}